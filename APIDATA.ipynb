{
 "cells": [
  {
   "cell_type": "code",
   "execution_count": 3,
   "id": "af458a71-44aa-42a2-81c0-8acf6bc16552",
   "metadata": {},
   "outputs": [],
   "source": [
    "import pandas as pd\n",
    "import requests"
   ]
  },
  {
   "cell_type": "code",
   "execution_count": 11,
   "id": "5a971d6b-1fb0-4cb6-855b-0e088a0b0805",
   "metadata": {},
   "outputs": [
    {
     "name": "stdout",
     "output_type": "stream",
     "text": [
      "{'Title': 'Guardians of the Galaxy Vol. 2', 'Year': '2017', 'Rated': 'PG-13', 'Released': '05 May 2017', 'Runtime': '136 min', 'Genre': 'Action, Adventure, Comedy', 'Director': 'James Gunn', 'Writer': 'James Gunn, Dan Abnett, Andy Lanning', 'Actors': 'Chris Pratt, Zoe Saldaña, Dave Bautista', 'Plot': \"The Guardians struggle to keep together as a team while dealing with their personal family issues, notably Star-Lord's encounter with his father, the ambitious celestial being Ego.\", 'Language': 'English', 'Country': 'United States', 'Awards': 'Nominated for 1 Oscar. 15 wins & 60 nominations total', 'Poster': 'https://m.media-amazon.com/images/M/MV5BNWE5MGI3MDctMmU5Ni00YzI2LWEzMTQtZGIyZDA5MzQzNDBhXkEyXkFqcGc@._V1_SX300.jpg', 'Ratings': [{'Source': 'Internet Movie Database', 'Value': '7.6/10'}, {'Source': 'Rotten Tomatoes', 'Value': '85%'}, {'Source': 'Metacritic', 'Value': '67/100'}], 'Metascore': '67', 'imdbRating': '7.6', 'imdbVotes': '802,014', 'imdbID': 'tt3896198', 'Type': 'movie', 'DVD': 'N/A', 'BoxOffice': '$389,813,101', 'Production': 'N/A', 'Website': 'N/A', 'Response': 'True'}\n"
     ]
    }
   ],
   "source": [
    "url = 'https://www.omdbapi.com/?i=tt3896198&apikey=f201ba85'\n",
    "req = requests.get(url)\n",
    "\n",
    "data = req.json()\n",
    "print(data)"
   ]
  },
  {
   "cell_type": "code",
   "execution_count": 20,
   "id": "0825eae8-bf77-4761-99b8-19f17646c55e",
   "metadata": {},
   "outputs": [],
   "source": [
    "url = 'https://www.omdbapi.com/?i=tt3896198&apikey=f201ba85'\n",
    "req = requests.get(url)\n",
    "data = req.json()\n",
    "\n",
    "temp_df = pd.DataFrame([data])[['Title','Year','Genre','Director','Rated']]"
   ]
  },
  {
   "cell_type": "code",
   "execution_count": 21,
   "id": "8cb06d53-2d03-4032-a0cf-997467b2bf26",
   "metadata": {},
   "outputs": [
    {
     "data": {
      "text/html": [
       "<div>\n",
       "<style scoped>\n",
       "    .dataframe tbody tr th:only-of-type {\n",
       "        vertical-align: middle;\n",
       "    }\n",
       "\n",
       "    .dataframe tbody tr th {\n",
       "        vertical-align: top;\n",
       "    }\n",
       "\n",
       "    .dataframe thead th {\n",
       "        text-align: right;\n",
       "    }\n",
       "</style>\n",
       "<table border=\"1\" class=\"dataframe\">\n",
       "  <thead>\n",
       "    <tr style=\"text-align: right;\">\n",
       "      <th></th>\n",
       "      <th>Title</th>\n",
       "      <th>Year</th>\n",
       "      <th>Genre</th>\n",
       "      <th>Director</th>\n",
       "      <th>Rated</th>\n",
       "    </tr>\n",
       "  </thead>\n",
       "  <tbody>\n",
       "    <tr>\n",
       "      <th>0</th>\n",
       "      <td>Guardians of the Galaxy Vol. 2</td>\n",
       "      <td>2017</td>\n",
       "      <td>Action, Adventure, Comedy</td>\n",
       "      <td>James Gunn</td>\n",
       "      <td>PG-13</td>\n",
       "    </tr>\n",
       "  </tbody>\n",
       "</table>\n",
       "</div>"
      ],
      "text/plain": [
       "                            Title  Year                      Genre  \\\n",
       "0  Guardians of the Galaxy Vol. 2  2017  Action, Adventure, Comedy   \n",
       "\n",
       "     Director  Rated  \n",
       "0  James Gunn  PG-13  "
      ]
     },
     "execution_count": 21,
     "metadata": {},
     "output_type": "execute_result"
    }
   ],
   "source": [
    "temp_df"
   ]
  },
  {
   "cell_type": "code",
   "execution_count": 43,
   "id": "ada61d9f-712c-4f00-b5d4-65b3e00742f2",
   "metadata": {},
   "outputs": [],
   "source": [
    "search_url = 'https://www.omdbapi.com/?s=batman&apikey=f201ba85'\n",
    "search_response = requests.get(search_url).json()\n",
    "\n",
    "movie_ids = []\n",
    "search_results = search_response.get('Search',[])\n",
    "\n",
    "for movie in search_results:\n",
    "    imdbid = movie.get('imdbID')\n",
    "    if imdbid:\n",
    "        movie_ids.append(imdbid)\n",
    "\n",
    "movie_details = []\n",
    "\n",
    "for imdbid in movie_ids:\n",
    "    detail_url = f'https://www.omdbapi.com/?i={imdbid}&apikey=f201ba85'\n",
    "    detail_response = requests.get(detail_url).json()\n",
    "     \n",
    "    if detail_response.get(\"Response\") == \"True\":\n",
    "        movie_details.append(detail_response)"
   ]
  },
  {
   "cell_type": "code",
   "execution_count": 42,
   "id": "0c52cd09-6dc9-4c63-bb9c-9c5d8d33967f",
   "metadata": {},
   "outputs": [
    {
     "data": {
      "text/html": [
       "<div>\n",
       "<style scoped>\n",
       "    .dataframe tbody tr th:only-of-type {\n",
       "        vertical-align: middle;\n",
       "    }\n",
       "\n",
       "    .dataframe tbody tr th {\n",
       "        vertical-align: top;\n",
       "    }\n",
       "\n",
       "    .dataframe thead th {\n",
       "        text-align: right;\n",
       "    }\n",
       "</style>\n",
       "<table border=\"1\" class=\"dataframe\">\n",
       "  <thead>\n",
       "    <tr style=\"text-align: right;\">\n",
       "      <th></th>\n",
       "      <th>Title</th>\n",
       "      <th>Year</th>\n",
       "      <th>Genre</th>\n",
       "      <th>Director</th>\n",
       "    </tr>\n",
       "  </thead>\n",
       "  <tbody>\n",
       "    <tr>\n",
       "      <th>0</th>\n",
       "      <td>Batman Begins</td>\n",
       "      <td>2005</td>\n",
       "      <td>Action, Crime, Drama</td>\n",
       "      <td>Christopher Nolan</td>\n",
       "    </tr>\n",
       "    <tr>\n",
       "      <th>1</th>\n",
       "      <td>The Batman</td>\n",
       "      <td>2022</td>\n",
       "      <td>Action, Crime, Drama</td>\n",
       "      <td>Matt Reeves</td>\n",
       "    </tr>\n",
       "    <tr>\n",
       "      <th>2</th>\n",
       "      <td>Batman v Superman: Dawn of Justice</td>\n",
       "      <td>2016</td>\n",
       "      <td>Action, Adventure, Sci-Fi</td>\n",
       "      <td>Zack Snyder</td>\n",
       "    </tr>\n",
       "    <tr>\n",
       "      <th>3</th>\n",
       "      <td>Batman</td>\n",
       "      <td>1989</td>\n",
       "      <td>Action, Adventure</td>\n",
       "      <td>Tim Burton</td>\n",
       "    </tr>\n",
       "    <tr>\n",
       "      <th>4</th>\n",
       "      <td>Batman Returns</td>\n",
       "      <td>1992</td>\n",
       "      <td>Action, Crime, Fantasy</td>\n",
       "      <td>Tim Burton</td>\n",
       "    </tr>\n",
       "    <tr>\n",
       "      <th>5</th>\n",
       "      <td>Batman &amp; Robin</td>\n",
       "      <td>1997</td>\n",
       "      <td>Action, Sci-Fi</td>\n",
       "      <td>Joel Schumacher</td>\n",
       "    </tr>\n",
       "    <tr>\n",
       "      <th>6</th>\n",
       "      <td>Batman Forever</td>\n",
       "      <td>1995</td>\n",
       "      <td>Action, Adventure</td>\n",
       "      <td>Joel Schumacher</td>\n",
       "    </tr>\n",
       "    <tr>\n",
       "      <th>7</th>\n",
       "      <td>The Lego Batman Movie</td>\n",
       "      <td>2017</td>\n",
       "      <td>Animation, Action, Adventure</td>\n",
       "      <td>Chris McKay</td>\n",
       "    </tr>\n",
       "    <tr>\n",
       "      <th>8</th>\n",
       "      <td>Batman: The Animated Series</td>\n",
       "      <td>1992–1995</td>\n",
       "      <td>Animation, Action, Adventure</td>\n",
       "      <td>N/A</td>\n",
       "    </tr>\n",
       "    <tr>\n",
       "      <th>9</th>\n",
       "      <td>Batman v Superman: Dawn of Justice (Ultimate E...</td>\n",
       "      <td>2016</td>\n",
       "      <td>Action, Adventure, Sci-Fi</td>\n",
       "      <td>Zack Snyder</td>\n",
       "    </tr>\n",
       "  </tbody>\n",
       "</table>\n",
       "</div>"
      ],
      "text/plain": [
       "                                               Title       Year  \\\n",
       "0                                      Batman Begins       2005   \n",
       "1                                         The Batman       2022   \n",
       "2                 Batman v Superman: Dawn of Justice       2016   \n",
       "3                                             Batman       1989   \n",
       "4                                     Batman Returns       1992   \n",
       "5                                     Batman & Robin       1997   \n",
       "6                                     Batman Forever       1995   \n",
       "7                              The Lego Batman Movie       2017   \n",
       "8                        Batman: The Animated Series  1992–1995   \n",
       "9  Batman v Superman: Dawn of Justice (Ultimate E...       2016   \n",
       "\n",
       "                          Genre           Director  \n",
       "0          Action, Crime, Drama  Christopher Nolan  \n",
       "1          Action, Crime, Drama        Matt Reeves  \n",
       "2     Action, Adventure, Sci-Fi        Zack Snyder  \n",
       "3             Action, Adventure         Tim Burton  \n",
       "4        Action, Crime, Fantasy         Tim Burton  \n",
       "5                Action, Sci-Fi    Joel Schumacher  \n",
       "6             Action, Adventure    Joel Schumacher  \n",
       "7  Animation, Action, Adventure        Chris McKay  \n",
       "8  Animation, Action, Adventure                N/A  \n",
       "9     Action, Adventure, Sci-Fi        Zack Snyder  "
      ]
     },
     "execution_count": 42,
     "metadata": {},
     "output_type": "execute_result"
    }
   ],
   "source": [
    "df = pd.DataFrame(movie_details)[['Title', 'Year', 'Genre', 'Director']]\n",
    "df"
   ]
  },
  {
   "cell_type": "code",
   "execution_count": 47,
   "id": "6de7b861-87c4-4399-aea6-1ba519f976fa",
   "metadata": {},
   "outputs": [],
   "source": [
    "df.to_csv('movies1.csv',index=False)"
   ]
  },
  {
   "cell_type": "code",
   "execution_count": 45,
   "id": "a7c29bed-ee69-4ca8-ae40-acbc4e6d8b50",
   "metadata": {},
   "outputs": [
    {
     "data": {
      "text/plain": [
       "(10, 4)"
      ]
     },
     "execution_count": 45,
     "metadata": {},
     "output_type": "execute_result"
    }
   ],
   "source": [
    "df.shape"
   ]
  }
 ],
 "metadata": {
  "kernelspec": {
   "display_name": "Python 3 (ipykernel)",
   "language": "python",
   "name": "python3"
  },
  "language_info": {
   "codemirror_mode": {
    "name": "ipython",
    "version": 3
   },
   "file_extension": ".py",
   "mimetype": "text/x-python",
   "name": "python",
   "nbconvert_exporter": "python",
   "pygments_lexer": "ipython3",
   "version": "3.13.5"
  }
 },
 "nbformat": 4,
 "nbformat_minor": 5
}
