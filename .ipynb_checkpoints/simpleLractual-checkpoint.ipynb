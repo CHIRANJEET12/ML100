{
 "cells": [
  {
   "cell_type": "code",
   "execution_count": 77,
   "id": "26e0e471-d769-4296-88cc-af13396434b1",
   "metadata": {},
   "outputs": [],
   "source": [
    "class Simplelr():\n",
    "    def __init__(self):\n",
    "        self.m = None\n",
    "        self.b = None\n",
    "\n",
    "    def fit(self,X_train,Y_train):\n",
    "\n",
    "        num = 0\n",
    "        den = 0\n",
    "\n",
    "        for i in range(X_train.shape[0]):\n",
    "            num = num + ((X_train.iloc[i] - X_train.mean())*(y_train.iloc[i] - y_train.mean()))\n",
    "            den = den + ((X_train.iloc[i] - X_train.mean()) * (X_train.iloc[i] - X_train.mean()))\n",
    "\n",
    "        self.m = num/den\n",
    "        self.b = y_train.mean() - (self.m * X_train.mean())\n",
    "        print(self.m)\n",
    "        print(self.b) \n",
    "        \n",
    "    def predict(self,X_test):\n",
    "        X = np.array(X_test).reshape(1,1)\n",
    "        print(X)\n",
    "        \n",
    "        return self.m * X + self.b"
   ]
  },
  {
   "cell_type": "code",
   "execution_count": 78,
   "id": "f727a8c8-a72f-4b14-9413-cf4fab626a92",
   "metadata": {},
   "outputs": [],
   "source": [
    "import numpy as np\n",
    "import pandas as pd"
   ]
  },
  {
   "cell_type": "code",
   "execution_count": 79,
   "id": "c3e21d2f-54b2-4c11-be8e-fe5e546a574d",
   "metadata": {},
   "outputs": [],
   "source": [
    "df = pd.read_csv('placement (2).csv')"
   ]
  },
  {
   "cell_type": "code",
   "execution_count": 80,
   "id": "b16fc3db-a6ab-4580-9484-79c92bf0d884",
   "metadata": {},
   "outputs": [
    {
     "data": {
      "text/html": [
       "<div>\n",
       "<style scoped>\n",
       "    .dataframe tbody tr th:only-of-type {\n",
       "        vertical-align: middle;\n",
       "    }\n",
       "\n",
       "    .dataframe tbody tr th {\n",
       "        vertical-align: top;\n",
       "    }\n",
       "\n",
       "    .dataframe thead th {\n",
       "        text-align: right;\n",
       "    }\n",
       "</style>\n",
       "<table border=\"1\" class=\"dataframe\">\n",
       "  <thead>\n",
       "    <tr style=\"text-align: right;\">\n",
       "      <th></th>\n",
       "      <th>cgpa</th>\n",
       "      <th>package</th>\n",
       "    </tr>\n",
       "  </thead>\n",
       "  <tbody>\n",
       "    <tr>\n",
       "      <th>0</th>\n",
       "      <td>6.89</td>\n",
       "      <td>3.26</td>\n",
       "    </tr>\n",
       "    <tr>\n",
       "      <th>1</th>\n",
       "      <td>5.12</td>\n",
       "      <td>1.98</td>\n",
       "    </tr>\n",
       "    <tr>\n",
       "      <th>2</th>\n",
       "      <td>7.82</td>\n",
       "      <td>3.25</td>\n",
       "    </tr>\n",
       "    <tr>\n",
       "      <th>3</th>\n",
       "      <td>7.42</td>\n",
       "      <td>3.67</td>\n",
       "    </tr>\n",
       "    <tr>\n",
       "      <th>4</th>\n",
       "      <td>6.94</td>\n",
       "      <td>3.57</td>\n",
       "    </tr>\n",
       "  </tbody>\n",
       "</table>\n",
       "</div>"
      ],
      "text/plain": [
       "   cgpa  package\n",
       "0  6.89     3.26\n",
       "1  5.12     1.98\n",
       "2  7.82     3.25\n",
       "3  7.42     3.67\n",
       "4  6.94     3.57"
      ]
     },
     "execution_count": 80,
     "metadata": {},
     "output_type": "execute_result"
    }
   ],
   "source": [
    "df.head()"
   ]
  },
  {
   "cell_type": "code",
   "execution_count": 81,
   "id": "c633705a-b802-4048-8fff-27a275b402f9",
   "metadata": {},
   "outputs": [],
   "source": [
    "X = df.iloc[:,0]\n",
    "y = df.iloc[:,1]"
   ]
  },
  {
   "cell_type": "code",
   "execution_count": 82,
   "id": "e9e39288-3199-4c08-b08e-c9596b035c8d",
   "metadata": {},
   "outputs": [],
   "source": [
    "from sklearn.model_selection import train_test_split\n",
    "X_train,X_test,y_train,y_test = train_test_split(X,y,test_size=0.2,random_state=2)"
   ]
  },
  {
   "cell_type": "code",
   "execution_count": 83,
   "id": "4dad018d-3b20-405c-a09a-81637ef8ab98",
   "metadata": {},
   "outputs": [
    {
     "data": {
      "text/plain": [
       "112    8.58\n",
       "29     7.15\n",
       "182    5.88\n",
       "199    6.22\n",
       "193    4.57\n",
       "85     4.79\n",
       "10     5.32\n",
       "54     6.86\n",
       "115    8.35\n",
       "35     6.87\n",
       "12     8.94\n",
       "92     7.90\n",
       "13     6.93\n",
       "126    5.91\n",
       "174    7.32\n",
       "2      7.82\n",
       "44     5.09\n",
       "3      7.42\n",
       "113    6.94\n",
       "14     7.73\n",
       "23     6.19\n",
       "25     7.28\n",
       "6      6.73\n",
       "134    7.20\n",
       "165    8.21\n",
       "173    6.75\n",
       "45     7.87\n",
       "65     7.60\n",
       "48     8.63\n",
       "122    5.12\n",
       "178    8.15\n",
       "64     7.36\n",
       "9      8.31\n",
       "57     6.60\n",
       "78     6.59\n",
       "71     7.47\n",
       "128    7.93\n",
       "176    6.29\n",
       "131    6.37\n",
       "53     6.47\n",
       "Name: cgpa, dtype: float64"
      ]
     },
     "execution_count": 83,
     "metadata": {},
     "output_type": "execute_result"
    }
   ],
   "source": [
    "X_test"
   ]
  },
  {
   "cell_type": "code",
   "execution_count": 84,
   "id": "a953f56d-9eaf-4cc5-a95d-874438638776",
   "metadata": {},
   "outputs": [
    {
     "data": {
      "text/plain": [
       "(160,)"
      ]
     },
     "execution_count": 84,
     "metadata": {},
     "output_type": "execute_result"
    }
   ],
   "source": [
    "X_train.shape"
   ]
  },
  {
   "cell_type": "code",
   "execution_count": 85,
   "id": "db9ed45c-3e81-42bb-9993-b99f15cf99e6",
   "metadata": {},
   "outputs": [
    {
     "data": {
      "text/plain": [
       "160"
      ]
     },
     "execution_count": 85,
     "metadata": {},
     "output_type": "execute_result"
    }
   ],
   "source": [
    "X_train.shape[0]"
   ]
  },
  {
   "cell_type": "code",
   "execution_count": 86,
   "id": "c5634a8a-6c16-437c-ad68-3f7d14126604",
   "metadata": {},
   "outputs": [],
   "source": [
    "lr = Simplelr()"
   ]
  },
  {
   "cell_type": "code",
   "execution_count": 87,
   "id": "fcb3f55a-44a4-43da-be53-1392782b4858",
   "metadata": {},
   "outputs": [
    {
     "name": "stdout",
     "output_type": "stream",
     "text": [
      "0.5579519734250721\n",
      "-0.8961119222429152\n"
     ]
    }
   ],
   "source": [
    "lr.fit(X_train,y_train)"
   ]
  },
  {
   "cell_type": "code",
   "execution_count": 91,
   "id": "a2bc8932-1d35-4453-8b75-5e682ef4aa2a",
   "metadata": {},
   "outputs": [
    {
     "name": "stdout",
     "output_type": "stream",
     "text": [
      "[[8.58]]\n"
     ]
    },
    {
     "data": {
      "text/plain": [
       "array([[3.89111601]])"
      ]
     },
     "execution_count": 91,
     "metadata": {},
     "output_type": "execute_result"
    }
   ],
   "source": [
    "lr.predict(X_test.iloc[0])"
   ]
  },
  {
   "cell_type": "code",
   "execution_count": null,
   "id": "c979a592-cc87-4617-a77e-6e59ec9ded32",
   "metadata": {},
   "outputs": [],
   "source": []
  }
 ],
 "metadata": {
  "kernelspec": {
   "display_name": "Python 3 (ipykernel)",
   "language": "python",
   "name": "python3"
  },
  "language_info": {
   "codemirror_mode": {
    "name": "ipython",
    "version": 3
   },
   "file_extension": ".py",
   "mimetype": "text/x-python",
   "name": "python",
   "nbconvert_exporter": "python",
   "pygments_lexer": "ipython3",
   "version": "3.13.5"
  }
 },
 "nbformat": 4,
 "nbformat_minor": 5
}
