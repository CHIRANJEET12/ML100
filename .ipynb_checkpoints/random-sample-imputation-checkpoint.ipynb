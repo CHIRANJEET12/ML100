{
 "cells": [
  {
   "cell_type": "code",
   "execution_count": 1,
   "id": "177e206e-ef78-492b-ba1b-ea67e4baaf9b",
   "metadata": {},
   "outputs": [],
   "source": [
    "import numpy as np\n",
    "import pandas as pd\n",
    "\n",
    "from sklearn.model_selection import train_test_split\n",
    "\n",
    "import matplotlib.pyplot as plt\n",
    "import seaborn as sns"
   ]
  },
  {
   "cell_type": "code",
   "execution_count": 16,
   "id": "8b48897e-c125-4769-8399-30bccc369726",
   "metadata": {},
   "outputs": [],
   "source": [
    "df = pd.read_csv('main.csv',usecols=['Age','Fare','Survived'])"
   ]
  },
  {
   "cell_type": "code",
   "execution_count": 17,
   "id": "5934af99-9e5d-4ac9-b283-26945cbb607b",
   "metadata": {},
   "outputs": [
    {
     "data": {
      "text/html": [
       "<div>\n",
       "<style scoped>\n",
       "    .dataframe tbody tr th:only-of-type {\n",
       "        vertical-align: middle;\n",
       "    }\n",
       "\n",
       "    .dataframe tbody tr th {\n",
       "        vertical-align: top;\n",
       "    }\n",
       "\n",
       "    .dataframe thead th {\n",
       "        text-align: right;\n",
       "    }\n",
       "</style>\n",
       "<table border=\"1\" class=\"dataframe\">\n",
       "  <thead>\n",
       "    <tr style=\"text-align: right;\">\n",
       "      <th></th>\n",
       "      <th>Survived</th>\n",
       "      <th>Age</th>\n",
       "      <th>Fare</th>\n",
       "    </tr>\n",
       "  </thead>\n",
       "  <tbody>\n",
       "    <tr>\n",
       "      <th>0</th>\n",
       "      <td>0</td>\n",
       "      <td>22.0</td>\n",
       "      <td>7.2500</td>\n",
       "    </tr>\n",
       "    <tr>\n",
       "      <th>1</th>\n",
       "      <td>1</td>\n",
       "      <td>38.0</td>\n",
       "      <td>71.2833</td>\n",
       "    </tr>\n",
       "    <tr>\n",
       "      <th>2</th>\n",
       "      <td>1</td>\n",
       "      <td>26.0</td>\n",
       "      <td>7.9250</td>\n",
       "    </tr>\n",
       "    <tr>\n",
       "      <th>3</th>\n",
       "      <td>1</td>\n",
       "      <td>35.0</td>\n",
       "      <td>53.1000</td>\n",
       "    </tr>\n",
       "    <tr>\n",
       "      <th>4</th>\n",
       "      <td>0</td>\n",
       "      <td>35.0</td>\n",
       "      <td>8.0500</td>\n",
       "    </tr>\n",
       "  </tbody>\n",
       "</table>\n",
       "</div>"
      ],
      "text/plain": [
       "   Survived   Age     Fare\n",
       "0         0  22.0   7.2500\n",
       "1         1  38.0  71.2833\n",
       "2         1  26.0   7.9250\n",
       "3         1  35.0  53.1000\n",
       "4         0  35.0   8.0500"
      ]
     },
     "execution_count": 17,
     "metadata": {},
     "output_type": "execute_result"
    }
   ],
   "source": [
    "df.head()"
   ]
  },
  {
   "cell_type": "code",
   "execution_count": 18,
   "id": "090a5f78-e7d1-4cd8-a994-56993ea10d94",
   "metadata": {},
   "outputs": [
    {
     "data": {
      "text/plain": [
       "Survived     0.00000\n",
       "Age         19.86532\n",
       "Fare         0.00000\n",
       "dtype: float64"
      ]
     },
     "execution_count": 18,
     "metadata": {},
     "output_type": "execute_result"
    }
   ],
   "source": [
    "df.isnull().mean() * 100"
   ]
  },
  {
   "cell_type": "code",
   "execution_count": 19,
   "id": "a59e8c28-e212-420f-80eb-76c38962939d",
   "metadata": {},
   "outputs": [],
   "source": [
    "X = df.drop(columns=['Survived'])\n",
    "y = df['Survived']"
   ]
  },
  {
   "cell_type": "code",
   "execution_count": 20,
   "id": "22fe143c-f757-4f52-9d24-b93020b2494c",
   "metadata": {},
   "outputs": [],
   "source": [
    "X_train,X_test,y_train,y_test = train_test_split(X,y,test_size=0.2,random_state=2)"
   ]
  },
  {
   "cell_type": "code",
   "execution_count": 21,
   "id": "fabccbab-5ec5-4a6c-b638-86d29b116295",
   "metadata": {},
   "outputs": [
    {
     "data": {
      "text/html": [
       "<div>\n",
       "<style scoped>\n",
       "    .dataframe tbody tr th:only-of-type {\n",
       "        vertical-align: middle;\n",
       "    }\n",
       "\n",
       "    .dataframe tbody tr th {\n",
       "        vertical-align: top;\n",
       "    }\n",
       "\n",
       "    .dataframe thead th {\n",
       "        text-align: right;\n",
       "    }\n",
       "</style>\n",
       "<table border=\"1\" class=\"dataframe\">\n",
       "  <thead>\n",
       "    <tr style=\"text-align: right;\">\n",
       "      <th></th>\n",
       "      <th>Age</th>\n",
       "      <th>Fare</th>\n",
       "    </tr>\n",
       "  </thead>\n",
       "  <tbody>\n",
       "    <tr>\n",
       "      <th>30</th>\n",
       "      <td>40.0</td>\n",
       "      <td>27.7208</td>\n",
       "    </tr>\n",
       "    <tr>\n",
       "      <th>10</th>\n",
       "      <td>4.0</td>\n",
       "      <td>16.7000</td>\n",
       "    </tr>\n",
       "    <tr>\n",
       "      <th>873</th>\n",
       "      <td>47.0</td>\n",
       "      <td>9.0000</td>\n",
       "    </tr>\n",
       "    <tr>\n",
       "      <th>182</th>\n",
       "      <td>9.0</td>\n",
       "      <td>31.3875</td>\n",
       "    </tr>\n",
       "    <tr>\n",
       "      <th>876</th>\n",
       "      <td>20.0</td>\n",
       "      <td>9.8458</td>\n",
       "    </tr>\n",
       "    <tr>\n",
       "      <th>...</th>\n",
       "      <td>...</td>\n",
       "      <td>...</td>\n",
       "    </tr>\n",
       "    <tr>\n",
       "      <th>534</th>\n",
       "      <td>30.0</td>\n",
       "      <td>8.6625</td>\n",
       "    </tr>\n",
       "    <tr>\n",
       "      <th>584</th>\n",
       "      <td>NaN</td>\n",
       "      <td>8.7125</td>\n",
       "    </tr>\n",
       "    <tr>\n",
       "      <th>493</th>\n",
       "      <td>71.0</td>\n",
       "      <td>49.5042</td>\n",
       "    </tr>\n",
       "    <tr>\n",
       "      <th>527</th>\n",
       "      <td>NaN</td>\n",
       "      <td>221.7792</td>\n",
       "    </tr>\n",
       "    <tr>\n",
       "      <th>168</th>\n",
       "      <td>NaN</td>\n",
       "      <td>25.9250</td>\n",
       "    </tr>\n",
       "  </tbody>\n",
       "</table>\n",
       "<p>712 rows × 2 columns</p>\n",
       "</div>"
      ],
      "text/plain": [
       "      Age      Fare\n",
       "30   40.0   27.7208\n",
       "10    4.0   16.7000\n",
       "873  47.0    9.0000\n",
       "182   9.0   31.3875\n",
       "876  20.0    9.8458\n",
       "..    ...       ...\n",
       "534  30.0    8.6625\n",
       "584   NaN    8.7125\n",
       "493  71.0   49.5042\n",
       "527   NaN  221.7792\n",
       "168   NaN   25.9250\n",
       "\n",
       "[712 rows x 2 columns]"
      ]
     },
     "execution_count": 21,
     "metadata": {},
     "output_type": "execute_result"
    }
   ],
   "source": [
    "X_train"
   ]
  },
  {
   "cell_type": "code",
   "execution_count": 22,
   "id": "21217513-46cf-45f0-9055-3663118ae173",
   "metadata": {},
   "outputs": [],
   "source": [
    "X_train['Age_imputed'] = X_train['Age']\n",
    "X_test['Age_imputed'] = X_test['Age']"
   ]
  },
  {
   "cell_type": "code",
   "execution_count": 23,
   "id": "72718fdb-0282-4e7c-978c-8f92cc04e780",
   "metadata": {},
   "outputs": [
    {
     "data": {
      "text/html": [
       "<div>\n",
       "<style scoped>\n",
       "    .dataframe tbody tr th:only-of-type {\n",
       "        vertical-align: middle;\n",
       "    }\n",
       "\n",
       "    .dataframe tbody tr th {\n",
       "        vertical-align: top;\n",
       "    }\n",
       "\n",
       "    .dataframe thead th {\n",
       "        text-align: right;\n",
       "    }\n",
       "</style>\n",
       "<table border=\"1\" class=\"dataframe\">\n",
       "  <thead>\n",
       "    <tr style=\"text-align: right;\">\n",
       "      <th></th>\n",
       "      <th>Age</th>\n",
       "      <th>Fare</th>\n",
       "      <th>Age_imputed</th>\n",
       "    </tr>\n",
       "  </thead>\n",
       "  <tbody>\n",
       "    <tr>\n",
       "      <th>30</th>\n",
       "      <td>40.0</td>\n",
       "      <td>27.7208</td>\n",
       "      <td>40.0</td>\n",
       "    </tr>\n",
       "    <tr>\n",
       "      <th>10</th>\n",
       "      <td>4.0</td>\n",
       "      <td>16.7000</td>\n",
       "      <td>4.0</td>\n",
       "    </tr>\n",
       "    <tr>\n",
       "      <th>873</th>\n",
       "      <td>47.0</td>\n",
       "      <td>9.0000</td>\n",
       "      <td>47.0</td>\n",
       "    </tr>\n",
       "    <tr>\n",
       "      <th>182</th>\n",
       "      <td>9.0</td>\n",
       "      <td>31.3875</td>\n",
       "      <td>9.0</td>\n",
       "    </tr>\n",
       "    <tr>\n",
       "      <th>876</th>\n",
       "      <td>20.0</td>\n",
       "      <td>9.8458</td>\n",
       "      <td>20.0</td>\n",
       "    </tr>\n",
       "  </tbody>\n",
       "</table>\n",
       "</div>"
      ],
      "text/plain": [
       "      Age     Fare  Age_imputed\n",
       "30   40.0  27.7208         40.0\n",
       "10    4.0  16.7000          4.0\n",
       "873  47.0   9.0000         47.0\n",
       "182   9.0  31.3875          9.0\n",
       "876  20.0   9.8458         20.0"
      ]
     },
     "execution_count": 23,
     "metadata": {},
     "output_type": "execute_result"
    }
   ],
   "source": [
    "X_train.head()"
   ]
  },
  {
   "cell_type": "code",
   "execution_count": 24,
   "id": "f7cb6cc9-f4b0-4689-9d7e-fd7e27a53335",
   "metadata": {},
   "outputs": [
    {
     "data": {
      "text/html": [
       "<div>\n",
       "<style scoped>\n",
       "    .dataframe tbody tr th:only-of-type {\n",
       "        vertical-align: middle;\n",
       "    }\n",
       "\n",
       "    .dataframe tbody tr th {\n",
       "        vertical-align: top;\n",
       "    }\n",
       "\n",
       "    .dataframe thead th {\n",
       "        text-align: right;\n",
       "    }\n",
       "</style>\n",
       "<table border=\"1\" class=\"dataframe\">\n",
       "  <thead>\n",
       "    <tr style=\"text-align: right;\">\n",
       "      <th></th>\n",
       "      <th>Age</th>\n",
       "      <th>Fare</th>\n",
       "      <th>Age_imputed</th>\n",
       "    </tr>\n",
       "  </thead>\n",
       "  <tbody>\n",
       "    <tr>\n",
       "      <th>89</th>\n",
       "      <td>24.0</td>\n",
       "      <td>8.0500</td>\n",
       "      <td>24.0</td>\n",
       "    </tr>\n",
       "    <tr>\n",
       "      <th>80</th>\n",
       "      <td>22.0</td>\n",
       "      <td>9.0000</td>\n",
       "      <td>22.0</td>\n",
       "    </tr>\n",
       "    <tr>\n",
       "      <th>846</th>\n",
       "      <td>NaN</td>\n",
       "      <td>69.5500</td>\n",
       "      <td>NaN</td>\n",
       "    </tr>\n",
       "    <tr>\n",
       "      <th>870</th>\n",
       "      <td>26.0</td>\n",
       "      <td>7.8958</td>\n",
       "      <td>26.0</td>\n",
       "    </tr>\n",
       "    <tr>\n",
       "      <th>251</th>\n",
       "      <td>29.0</td>\n",
       "      <td>10.4625</td>\n",
       "      <td>29.0</td>\n",
       "    </tr>\n",
       "  </tbody>\n",
       "</table>\n",
       "</div>"
      ],
      "text/plain": [
       "      Age     Fare  Age_imputed\n",
       "89   24.0   8.0500         24.0\n",
       "80   22.0   9.0000         22.0\n",
       "846   NaN  69.5500          NaN\n",
       "870  26.0   7.8958         26.0\n",
       "251  29.0  10.4625         29.0"
      ]
     },
     "execution_count": 24,
     "metadata": {},
     "output_type": "execute_result"
    }
   ],
   "source": [
    "X_test.tail()"
   ]
  },
  {
   "cell_type": "code",
   "execution_count": 25,
   "id": "aa442524-95f3-495d-a2bf-e8e7712befae",
   "metadata": {},
   "outputs": [
    {
     "data": {
      "text/plain": [
       "30     False\n",
       "10     False\n",
       "873    False\n",
       "182    False\n",
       "876    False\n",
       "       ...  \n",
       "534    False\n",
       "584     True\n",
       "493    False\n",
       "527     True\n",
       "168     True\n",
       "Name: Age_imputed, Length: 712, dtype: bool"
      ]
     },
     "execution_count": 25,
     "metadata": {},
     "output_type": "execute_result"
    }
   ],
   "source": [
    "X_train['Age_imputed'].isnull()"
   ]
  },
  {
   "cell_type": "code",
   "execution_count": 43,
   "id": "5e46817f-fda6-472a-b0e4-8ecb618666e2",
   "metadata": {},
   "outputs": [],
   "source": [
    "n_missing = X_train['Age_imputed'].isnull().sum()\n",
    "random_sample = X_train['Age'].dropna().sample(n_missing, random_state=42).values\n",
    "X_train.loc[X_train['Age_imputed'].isnull(), 'Age_imputed'] = random_sample\n",
    "\n",
    "n_missing1 = X_test['Age_imputed'].isnull().sum()\n",
    "random_sample1 = X_test['Age'].dropna().sample(n_missing1, random_state=42).values\n",
    "X_test.loc[X_test['Age_imputed'].isnull(), 'Age_imputed'] = random_sample1"
   ]
  },
  {
   "cell_type": "code",
   "execution_count": 33,
   "id": "aacca438-3863-4cdc-9b98-fac8c7ee27d5",
   "metadata": {},
   "outputs": [
    {
     "data": {
      "text/plain": [
       "array([40.  ,  4.  , 47.  ,  9.  , 20.  , 30.  , 30.  , 13.  , 36.  ,\n",
       "       31.  , 38.  , 18.  , 25.  , 37.  , 18.  , 35.  , 46.  , 70.5 ,\n",
       "       48.  , 48.  , 24.  , 56.  , 54.  , 16.  , 34.  , 43.  ,  2.  ,\n",
       "       50.  , 60.  , 41.  ,  3.  , 39.  , 33.  , 37.  , 42.  , 19.  ,\n",
       "       16.  , 24.  , 45.  , 29.  , 35.  , 30.  , 17.  , 14.5 , 27.  ,\n",
       "       57.  , 42.  , 19.  , 31.  , 30.  , 30.  , 59.  , 24.  , 39.  ,\n",
       "       23.  , 27.  , 35.  , 23.  , 21.  , 26.  , 24.  , 36.  , 31.  ,\n",
       "       20.  ,  7.  , 30.  , 30.  , 43.  , 45.  , 38.  , 24.  , 19.  ,\n",
       "       30.  , 31.  , 44.  , 31.  , 24.  , 19.  , 35.  , 21.  , 48.  ,\n",
       "       41.  , 26.  , 18.  , 34.  , 30.  , 40.  , 21.  , 30.  , 30.  ,\n",
       "       25.  ,  5.  , 35.  ,  2.  , 24.  , 21.  , 22.  , 31.  ,  4.  ,\n",
       "       19.  , 39.  , 32.  , 36.  , 45.5 , 28.  , 16.  , 42.  , 50.  ,\n",
       "       32.  , 36.  , 35.  , 36.  , 33.  , 36.  , 28.  , 65.  , 27.  ,\n",
       "       47.  , 31.  , 32.  , 30.  , 20.  , 22.  , 41.  , 32.  , 28.5 ,\n",
       "       33.  , 20.  , 22.  , 40.5 , 21.  , 24.  ,  3.  , 39.  , 27.  ,\n",
       "        4.  , 39.  , 60.  , 58.  , 36.  , 45.  , 32.5 , 20.  , 40.  ,\n",
       "        4.  , 36.  , 29.  , 34.  , 45.  , 31.  , 49.  , 11.  , 25.  ,\n",
       "       25.  , 51.  , 49.  , 24.  , 30.  , 22.  , 39.  , 45.  ,  9.  ,\n",
       "       32.  , 39.  , 32.  ,  2.  , 20.  , 43.  , 26.  , 29.  , 34.  ,\n",
       "       16.  , 18.  , 54.  ,  1.  , 29.  , 44.  , 19.  , 28.  , 42.  ,\n",
       "       17.  , 47.  , 20.  , 29.  , 30.  , 49.  , 27.  , 32.  , 27.  ,\n",
       "       16.  , 33.  , 25.  ,  2.  , 23.  , 36.  , 30.  , 33.  , 45.  ,\n",
       "       23.  , 47.  , 30.  , 22.  , 32.  ,  0.75, 16.  , 52.  , 33.  ,\n",
       "       24.  , 29.  , 45.  , 25.  , 38.  , 34.5 ,  8.  , 24.  , 24.  ,\n",
       "       28.  , 19.  , 51.  , 27.  , 40.  , 59.  ,  9.  , 42.  , 14.  ,\n",
       "        1.  , 28.  , 58.  , 15.  , 34.  , 36.  , 28.  , 21.  , 28.  ,\n",
       "       38.  , 20.  , 31.  , 27.  , 29.  , 23.  , 51.  , 40.  , 53.  ,\n",
       "        1.  , 51.  , 25.  , 29.  , 32.  , 26.  , 15.  , 25.  , 24.  ,\n",
       "       48.  , 24.  , 32.  , 17.  , 25.  ,  9.  ,  2.  , 50.  , 54.  ,\n",
       "       26.  , 14.  , 22.  , 27.  , 24.  ,  0.83,  2.  , 19.  , 65.  ,\n",
       "       56.  , 16.  , 35.  , 24.  , 18.  , 37.  , 21.  , 34.  , 45.5 ,\n",
       "        2.  , 24.  , 22.  , 42.  , 33.  , 24.  , 32.  , 32.  , 33.  ,\n",
       "       17.  , 21.  , 24.  , 20.  , 28.  , 48.  , 19.  , 22.  , 14.  ,\n",
       "       25.  , 42.  , 25.  ,  9.  , 35.  , 19.  ,  8.  , 31.  , 43.  ,\n",
       "       24.  ,  4.  , 19.  , 22.  , 18.  , 22.  ,  9.  , 17.  , 21.  ,\n",
       "       52.  , 31.  , 21.  , 23.  , 44.  , 17.  ,  5.  , 26.  , 50.  ,\n",
       "       22.  , 46.  , 61.  , 41.  , 62.  , 24.  , 35.  , 35.  , 26.  ,\n",
       "       31.  , 23.  , 34.  , 54.  , 19.  , 27.  , 30.5 , 23.  , 49.  ,\n",
       "       28.  , 39.  , 36.  , 38.  , 18.  , 19.  , 58.  , 37.  ,  0.75,\n",
       "       24.  , 18.  , 28.5 , 66.  ,  8.  , 10.  , 16.  , 47.  , 45.  ,\n",
       "       22.  , 44.  , 46.  , 24.  , 41.  , 33.  , 32.  , 14.  , 17.  ,\n",
       "       21.  ,  9.  , 34.  , 37.  , 43.  ,  5.  , 28.  , 24.  , 30.  ,\n",
       "       21.  , 29.  , 16.  , 47.  , 14.  , 31.  , 36.  , 52.  , 36.  ,\n",
       "       54.  , 45.  , 40.5 , 27.  , 19.  , 61.  , 36.  , 16.  , 42.  ,\n",
       "       38.  , 29.  ,  3.  ,  7.  , 30.  , 27.  , 21.  , 25.  , 16.  ,\n",
       "       42.  , 62.  ,  4.  , 26.  , 45.  , 30.  , 42.  , 14.  , 11.  ,\n",
       "       27.  , 33.  , 26.  , 28.  , 21.  , 32.  , 32.5 ,  4.  , 16.  ,\n",
       "       29.  , 29.  , 23.  , 18.  , 18.  , 18.  , 27.  , 26.  , 27.  ,\n",
       "       23.  ,  3.  , 26.  ,  4.  , 25.  , 34.  , 50.  , 34.  ,  0.67,\n",
       "       22.  , 35.  , 21.  , 23.5 , 18.  , 58.  , 38.  , 30.  , 56.  ,\n",
       "       56.  , 28.  , 20.  , 28.  ,  4.  , 35.  , 44.  , 25.  , 16.  ,\n",
       "       22.  , 22.  , 20.  , 15.  , 45.  , 51.  , 36.5 ,  6.  , 34.  ,\n",
       "       40.  , 24.  , 11.  , 52.  , 61.  , 18.  ,  6.  , 29.  ,  3.  ,\n",
       "       40.  , 28.  , 39.  , 48.  , 63.  , 32.  , 36.  , 39.  , 52.  ,\n",
       "       40.  , 12.  ,  0.42, 38.  , 29.  , 18.  , 25.  , 21.  ,  9.  ,\n",
       "       16.  , 34.  , 23.  , 24.  , 28.  , 39.  , 16.  , 22.  , 25.  ,\n",
       "       34.  , 62.  , 71.  , 28.  , 13.  , 22.  , 16.  , 60.  , 18.  ,\n",
       "       23.  , 26.  , 33.  , 28.  , 18.  , 70.  , 25.  , 33.  , 50.  ,\n",
       "       18.  , 40.  , 26.  , 40.  , 33.  , 47.  ,  7.  , 19.  , 47.  ,\n",
       "       36.  , 35.  , 19.  , 22.  , 23.  , 36.  , 22.  , 29.  , 62.  ,\n",
       "       64.  , 17.  , 21.  , 57.  , 21.  , 58.  , 36.  , 31.  , 26.  ,\n",
       "       54.  , 20.  , 29.  , 22.  ,  0.83, 20.  , 60.  , 27.  , 17.  ,\n",
       "       40.  , 40.  , 25.  , 50.  , 30.  , 71.  ])"
      ]
     },
     "execution_count": 33,
     "metadata": {},
     "output_type": "execute_result"
    }
   ],
   "source": [
    "X_train['Age'].dropna().values"
   ]
  },
  {
   "cell_type": "code",
   "execution_count": 41,
   "id": "550e933c-7a92-4ec7-9879-1748a2565234",
   "metadata": {},
   "outputs": [
    {
     "data": {
      "text/plain": [
       "Series([], Name: Age_imputed, dtype: float64)"
      ]
     },
     "execution_count": 41,
     "metadata": {},
     "output_type": "execute_result"
    }
   ],
   "source": [
    "X_train.loc[X_train['Age_imputed'].isnull(), 'Age_imputed']"
   ]
  },
  {
   "cell_type": "code",
   "execution_count": 44,
   "id": "ef0bb549-c13d-40f3-a376-99050311d1dd",
   "metadata": {},
   "outputs": [
    {
     "data": {
      "text/html": [
       "<div>\n",
       "<style scoped>\n",
       "    .dataframe tbody tr th:only-of-type {\n",
       "        vertical-align: middle;\n",
       "    }\n",
       "\n",
       "    .dataframe tbody tr th {\n",
       "        vertical-align: top;\n",
       "    }\n",
       "\n",
       "    .dataframe thead th {\n",
       "        text-align: right;\n",
       "    }\n",
       "</style>\n",
       "<table border=\"1\" class=\"dataframe\">\n",
       "  <thead>\n",
       "    <tr style=\"text-align: right;\">\n",
       "      <th></th>\n",
       "      <th>Age</th>\n",
       "      <th>Fare</th>\n",
       "      <th>Age_imputed</th>\n",
       "    </tr>\n",
       "  </thead>\n",
       "  <tbody>\n",
       "    <tr>\n",
       "      <th>30</th>\n",
       "      <td>40.0</td>\n",
       "      <td>27.7208</td>\n",
       "      <td>40.0</td>\n",
       "    </tr>\n",
       "    <tr>\n",
       "      <th>10</th>\n",
       "      <td>4.0</td>\n",
       "      <td>16.7000</td>\n",
       "      <td>4.0</td>\n",
       "    </tr>\n",
       "    <tr>\n",
       "      <th>873</th>\n",
       "      <td>47.0</td>\n",
       "      <td>9.0000</td>\n",
       "      <td>47.0</td>\n",
       "    </tr>\n",
       "    <tr>\n",
       "      <th>182</th>\n",
       "      <td>9.0</td>\n",
       "      <td>31.3875</td>\n",
       "      <td>9.0</td>\n",
       "    </tr>\n",
       "    <tr>\n",
       "      <th>876</th>\n",
       "      <td>20.0</td>\n",
       "      <td>9.8458</td>\n",
       "      <td>20.0</td>\n",
       "    </tr>\n",
       "    <tr>\n",
       "      <th>...</th>\n",
       "      <td>...</td>\n",
       "      <td>...</td>\n",
       "      <td>...</td>\n",
       "    </tr>\n",
       "    <tr>\n",
       "      <th>534</th>\n",
       "      <td>30.0</td>\n",
       "      <td>8.6625</td>\n",
       "      <td>30.0</td>\n",
       "    </tr>\n",
       "    <tr>\n",
       "      <th>584</th>\n",
       "      <td>NaN</td>\n",
       "      <td>8.7125</td>\n",
       "      <td>45.0</td>\n",
       "    </tr>\n",
       "    <tr>\n",
       "      <th>493</th>\n",
       "      <td>71.0</td>\n",
       "      <td>49.5042</td>\n",
       "      <td>71.0</td>\n",
       "    </tr>\n",
       "    <tr>\n",
       "      <th>527</th>\n",
       "      <td>NaN</td>\n",
       "      <td>221.7792</td>\n",
       "      <td>30.0</td>\n",
       "    </tr>\n",
       "    <tr>\n",
       "      <th>168</th>\n",
       "      <td>NaN</td>\n",
       "      <td>25.9250</td>\n",
       "      <td>18.0</td>\n",
       "    </tr>\n",
       "  </tbody>\n",
       "</table>\n",
       "<p>712 rows × 3 columns</p>\n",
       "</div>"
      ],
      "text/plain": [
       "      Age      Fare  Age_imputed\n",
       "30   40.0   27.7208         40.0\n",
       "10    4.0   16.7000          4.0\n",
       "873  47.0    9.0000         47.0\n",
       "182   9.0   31.3875          9.0\n",
       "876  20.0    9.8458         20.0\n",
       "..    ...       ...          ...\n",
       "534  30.0    8.6625         30.0\n",
       "584   NaN    8.7125         45.0\n",
       "493  71.0   49.5042         71.0\n",
       "527   NaN  221.7792         30.0\n",
       "168   NaN   25.9250         18.0\n",
       "\n",
       "[712 rows x 3 columns]"
      ]
     },
     "execution_count": 44,
     "metadata": {},
     "output_type": "execute_result"
    }
   ],
   "source": [
    "X_train"
   ]
  },
  {
   "cell_type": "code",
   "execution_count": 45,
   "id": "ac45c5ac-c8c2-46dc-907f-5bce79dee160",
   "metadata": {},
   "outputs": [
    {
     "name": "stdout",
     "output_type": "stream",
     "text": [
      "Original variable variance:  204.3495133904614\n",
      "Variance after random imputation:  206.3193433301334\n"
     ]
    }
   ],
   "source": [
    "print('Original variable variance: ', X_train['Age'].var())\n",
    "print('Variance after random imputation: ', X_train['Age_imputed'].var())"
   ]
  },
  {
   "cell_type": "code",
   "execution_count": 46,
   "id": "971b2dea-014f-4a1e-afd9-92fab98744fd",
   "metadata": {},
   "outputs": [
    {
     "data": {
      "text/html": [
       "<div>\n",
       "<style scoped>\n",
       "    .dataframe tbody tr th:only-of-type {\n",
       "        vertical-align: middle;\n",
       "    }\n",
       "\n",
       "    .dataframe tbody tr th {\n",
       "        vertical-align: top;\n",
       "    }\n",
       "\n",
       "    .dataframe thead th {\n",
       "        text-align: right;\n",
       "    }\n",
       "</style>\n",
       "<table border=\"1\" class=\"dataframe\">\n",
       "  <thead>\n",
       "    <tr style=\"text-align: right;\">\n",
       "      <th></th>\n",
       "      <th>Fare</th>\n",
       "      <th>Age</th>\n",
       "      <th>Age_imputed</th>\n",
       "    </tr>\n",
       "  </thead>\n",
       "  <tbody>\n",
       "    <tr>\n",
       "      <th>Fare</th>\n",
       "      <td>2368.246832</td>\n",
       "      <td>71.512440</td>\n",
       "      <td>50.834578</td>\n",
       "    </tr>\n",
       "    <tr>\n",
       "      <th>Age</th>\n",
       "      <td>71.512440</td>\n",
       "      <td>204.349513</td>\n",
       "      <td>204.349513</td>\n",
       "    </tr>\n",
       "    <tr>\n",
       "      <th>Age_imputed</th>\n",
       "      <td>50.834578</td>\n",
       "      <td>204.349513</td>\n",
       "      <td>206.319343</td>\n",
       "    </tr>\n",
       "  </tbody>\n",
       "</table>\n",
       "</div>"
      ],
      "text/plain": [
       "                    Fare         Age  Age_imputed\n",
       "Fare         2368.246832   71.512440    50.834578\n",
       "Age            71.512440  204.349513   204.349513\n",
       "Age_imputed    50.834578  204.349513   206.319343"
      ]
     },
     "execution_count": 46,
     "metadata": {},
     "output_type": "execute_result"
    }
   ],
   "source": [
    "X_train[['Fare', 'Age', 'Age_imputed']].cov()"
   ]
  },
  {
   "cell_type": "code",
   "execution_count": null,
   "id": "f7c813c4-6546-4688-8a28-cec06a2a6384",
   "metadata": {},
   "outputs": [],
   "source": []
  }
 ],
 "metadata": {
  "kernelspec": {
   "display_name": "Python 3 (ipykernel)",
   "language": "python",
   "name": "python3"
  },
  "language_info": {
   "codemirror_mode": {
    "name": "ipython",
    "version": 3
   },
   "file_extension": ".py",
   "mimetype": "text/x-python",
   "name": "python",
   "nbconvert_exporter": "python",
   "pygments_lexer": "ipython3",
   "version": "3.13.5"
  }
 },
 "nbformat": 4,
 "nbformat_minor": 5
}
