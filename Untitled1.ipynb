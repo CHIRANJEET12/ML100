{
 "cells": [
  {
   "cell_type": "code",
   "execution_count": null,
   "id": "c7cdad44-dead-432e-b993-a85a27f3225c",
   "metadata": {},
   "outputs": [],
   "source": []
  }
 ],
 "metadata": {
  "kernelspec": {
   "display_name": "",
   "name": ""
  },
  "language_info": {
   "name": ""
  }
 },
 "nbformat": 4,
 "nbformat_minor": 5
}
