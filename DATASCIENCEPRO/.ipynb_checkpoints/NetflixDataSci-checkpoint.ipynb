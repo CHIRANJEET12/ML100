{
 "cells": [
  {
   "cell_type": "code",
   "execution_count": 50,
   "id": "cc1cf883-14a6-45a4-aaf8-c788b44e7625",
   "metadata": {},
   "outputs": [],
   "source": [
    "import numpy as np\n",
    "import pandas as pd\n",
    "import matplotlib.pyplot as plt\n",
    "import seaborn as sns"
   ]
  },
  {
   "cell_type": "code",
   "execution_count": 474,
   "id": "2e4baf8e-d955-4520-8d0b-ac36df43e4d3",
   "metadata": {},
   "outputs": [
    {
     "data": {
      "text/html": [
       "<div>\n",
       "<style scoped>\n",
       "    .dataframe tbody tr th:only-of-type {\n",
       "        vertical-align: middle;\n",
       "    }\n",
       "\n",
       "    .dataframe tbody tr th {\n",
       "        vertical-align: top;\n",
       "    }\n",
       "\n",
       "    .dataframe thead th {\n",
       "        text-align: right;\n",
       "    }\n",
       "</style>\n",
       "<table border=\"1\" class=\"dataframe\">\n",
       "  <thead>\n",
       "    <tr style=\"text-align: right;\">\n",
       "      <th></th>\n",
       "      <th>Release_Date</th>\n",
       "      <th>Title</th>\n",
       "      <th>Overview</th>\n",
       "      <th>Popularity</th>\n",
       "      <th>Vote_Count</th>\n",
       "      <th>Vote_Average</th>\n",
       "      <th>Original_Language</th>\n",
       "      <th>Genre</th>\n",
       "      <th>Poster_Url</th>\n",
       "    </tr>\n",
       "  </thead>\n",
       "  <tbody>\n",
       "    <tr>\n",
       "      <th>0</th>\n",
       "      <td>2021-12-15</td>\n",
       "      <td>Spider-Man: No Way Home</td>\n",
       "      <td>Peter Parker is unmasked and no longer able to...</td>\n",
       "      <td>5083.954</td>\n",
       "      <td>8940</td>\n",
       "      <td>8.3</td>\n",
       "      <td>en</td>\n",
       "      <td>Action, Adventure, Science Fiction</td>\n",
       "      <td>https://image.tmdb.org/t/p/original/1g0dhYtq4i...</td>\n",
       "    </tr>\n",
       "    <tr>\n",
       "      <th>1</th>\n",
       "      <td>2022-03-01</td>\n",
       "      <td>The Batman</td>\n",
       "      <td>In his second year of fighting crime, Batman u...</td>\n",
       "      <td>3827.658</td>\n",
       "      <td>1151</td>\n",
       "      <td>8.1</td>\n",
       "      <td>en</td>\n",
       "      <td>Crime, Mystery, Thriller</td>\n",
       "      <td>https://image.tmdb.org/t/p/original/74xTEgt7R3...</td>\n",
       "    </tr>\n",
       "    <tr>\n",
       "      <th>2</th>\n",
       "      <td>2022-02-25</td>\n",
       "      <td>No Exit</td>\n",
       "      <td>Stranded at a rest stop in the mountains durin...</td>\n",
       "      <td>2618.087</td>\n",
       "      <td>122</td>\n",
       "      <td>6.3</td>\n",
       "      <td>en</td>\n",
       "      <td>Thriller</td>\n",
       "      <td>https://image.tmdb.org/t/p/original/vDHsLnOWKl...</td>\n",
       "    </tr>\n",
       "    <tr>\n",
       "      <th>3</th>\n",
       "      <td>2021-11-24</td>\n",
       "      <td>Encanto</td>\n",
       "      <td>The tale of an extraordinary family, the Madri...</td>\n",
       "      <td>2402.201</td>\n",
       "      <td>5076</td>\n",
       "      <td>7.7</td>\n",
       "      <td>en</td>\n",
       "      <td>Animation, Comedy, Family, Fantasy</td>\n",
       "      <td>https://image.tmdb.org/t/p/original/4j0PNHkMr5...</td>\n",
       "    </tr>\n",
       "    <tr>\n",
       "      <th>4</th>\n",
       "      <td>2021-12-22</td>\n",
       "      <td>The King's Man</td>\n",
       "      <td>As a collection of history's worst tyrants and...</td>\n",
       "      <td>1895.511</td>\n",
       "      <td>1793</td>\n",
       "      <td>7.0</td>\n",
       "      <td>en</td>\n",
       "      <td>Action, Adventure, Thriller, War</td>\n",
       "      <td>https://image.tmdb.org/t/p/original/aq4Pwv5Xeu...</td>\n",
       "    </tr>\n",
       "  </tbody>\n",
       "</table>\n",
       "</div>"
      ],
      "text/plain": [
       "  Release_Date                    Title  \\\n",
       "0   2021-12-15  Spider-Man: No Way Home   \n",
       "1   2022-03-01               The Batman   \n",
       "2   2022-02-25                  No Exit   \n",
       "3   2021-11-24                  Encanto   \n",
       "4   2021-12-22           The King's Man   \n",
       "\n",
       "                                            Overview  Popularity  Vote_Count  \\\n",
       "0  Peter Parker is unmasked and no longer able to...    5083.954        8940   \n",
       "1  In his second year of fighting crime, Batman u...    3827.658        1151   \n",
       "2  Stranded at a rest stop in the mountains durin...    2618.087         122   \n",
       "3  The tale of an extraordinary family, the Madri...    2402.201        5076   \n",
       "4  As a collection of history's worst tyrants and...    1895.511        1793   \n",
       "\n",
       "   Vote_Average Original_Language                               Genre  \\\n",
       "0           8.3                en  Action, Adventure, Science Fiction   \n",
       "1           8.1                en            Crime, Mystery, Thriller   \n",
       "2           6.3                en                            Thriller   \n",
       "3           7.7                en  Animation, Comedy, Family, Fantasy   \n",
       "4           7.0                en    Action, Adventure, Thriller, War   \n",
       "\n",
       "                                          Poster_Url  \n",
       "0  https://image.tmdb.org/t/p/original/1g0dhYtq4i...  \n",
       "1  https://image.tmdb.org/t/p/original/74xTEgt7R3...  \n",
       "2  https://image.tmdb.org/t/p/original/vDHsLnOWKl...  \n",
       "3  https://image.tmdb.org/t/p/original/4j0PNHkMr5...  \n",
       "4  https://image.tmdb.org/t/p/original/aq4Pwv5Xeu...  "
      ]
     },
     "execution_count": 474,
     "metadata": {},
     "output_type": "execute_result"
    }
   ],
   "source": [
    "df = pd.read_csv(\"mymoviedb.csv\", lineterminator='\\n')\n",
    "df.head()"
   ]
  },
  {
   "cell_type": "code",
   "execution_count": 475,
   "id": "735c45e0-fab6-4847-bc21-2f9c7f1e3749",
   "metadata": {},
   "outputs": [
    {
     "data": {
      "text/plain": [
       "Release_Date         0\n",
       "Title                0\n",
       "Overview             0\n",
       "Popularity           0\n",
       "Vote_Count           0\n",
       "Vote_Average         0\n",
       "Original_Language    0\n",
       "Genre                0\n",
       "Poster_Url           0\n",
       "dtype: int64"
      ]
     },
     "execution_count": 475,
     "metadata": {},
     "output_type": "execute_result"
    }
   ],
   "source": [
    "df.isnull().sum()"
   ]
  },
  {
   "cell_type": "code",
   "execution_count": 476,
   "id": "947bf696-c872-45c1-bb44-a6551d903cf4",
   "metadata": {},
   "outputs": [
    {
     "data": {
      "image/png": "[encoded data removed]",
      "text/plain": [
       "<Figure size 640x480 with 1 Axes>"
      ]
     },
     "metadata": {},
     "output_type": "display_data"
    }
   ],
   "source": [
    "sns.histplot(df['Popularity'], kde=True)\n",
    "plt.show()"
   ]
  },
  {
   "cell_type": "code",
   "execution_count": 477,
   "id": "3443c27a-0123-4769-8a3d-b9cc0a612ce3",
   "metadata": {},
   "outputs": [
    {
     "name": "stdout",
     "output_type": "stream",
     "text": [
      "<class 'pandas.core.frame.DataFrame'>\n",
      "RangeIndex: 9827 entries, 0 to 9826\n",
      "Data columns (total 9 columns):\n",
      " #   Column             Non-Null Count  Dtype  \n",
      "---  ------             --------------  -----  \n",
      " 0   Release_Date       9827 non-null   object \n",
      " 1   Title              9827 non-null   object \n",
      " 2   Overview           9827 non-null   object \n",
      " 3   Popularity         9827 non-null   float64\n",
      " 4   Vote_Count         9827 non-null   int64  \n",
      " 5   Vote_Average       9827 non-null   float64\n",
      " 6   Original_Language  9827 non-null   object \n",
      " 7   Genre              9827 non-null   object \n",
      " 8   Poster_Url         9827 non-null   object \n",
      "dtypes: float64(2), int64(1), object(6)\n",
      "memory usage: 691.1+ KB\n"
     ]
    }
   ],
   "source": [
    "df.info()"
   ]
  },
  {
   "cell_type": "code",
   "execution_count": 478,
   "id": "a0734092-8cff-4330-9bf5-4785316da6ea",
   "metadata": {},
   "outputs": [
    {
     "data": {
      "text/plain": [
       "0    Action, Adventure, Science Fiction\n",
       "1              Crime, Mystery, Thriller\n",
       "2                              Thriller\n",
       "3    Animation, Comedy, Family, Fantasy\n",
       "4      Action, Adventure, Thriller, War\n",
       "Name: Genre, dtype: object"
      ]
     },
     "execution_count": 478,
     "metadata": {},
     "output_type": "execute_result"
    }
   ],
   "source": [
    "df['Genre'].head()"
   ]
  },
  {
   "cell_type": "code",
   "execution_count": 479,
   "id": "d636a09c-ca3d-4de0-9bfe-e7521f854257",
   "metadata": {},
   "outputs": [
    {
     "data": {
      "text/plain": [
       "np.int64(0)"
      ]
     },
     "execution_count": 479,
     "metadata": {},
     "output_type": "execute_result"
    }
   ],
   "source": [
    "df.duplicated().sum()"
   ]
  },
  {
   "cell_type": "code",
   "execution_count": 480,
   "id": "838a6d83-6471-410a-a60b-7c6ea37ae1d8",
   "metadata": {},
   "outputs": [
    {
     "data": {
      "text/html": [
       "<div>\n",
       "<style scoped>\n",
       "    .dataframe tbody tr th:only-of-type {\n",
       "        vertical-align: middle;\n",
       "    }\n",
       "\n",
       "    .dataframe tbody tr th {\n",
       "        vertical-align: top;\n",
       "    }\n",
       "\n",
       "    .dataframe thead th {\n",
       "        text-align: right;\n",
       "    }\n",
       "</style>\n",
       "<table border=\"1\" class=\"dataframe\">\n",
       "  <thead>\n",
       "    <tr style=\"text-align: right;\">\n",
       "      <th></th>\n",
       "      <th>Popularity</th>\n",
       "      <th>Vote_Count</th>\n",
       "      <th>Vote_Average</th>\n",
       "    </tr>\n",
       "  </thead>\n",
       "  <tbody>\n",
       "    <tr>\n",
       "      <th>count</th>\n",
       "      <td>9827.000000</td>\n",
       "      <td>9827.000000</td>\n",
       "      <td>9827.000000</td>\n",
       "    </tr>\n",
       "    <tr>\n",
       "      <th>mean</th>\n",
       "      <td>40.326088</td>\n",
       "      <td>1392.805536</td>\n",
       "      <td>6.439534</td>\n",
       "    </tr>\n",
       "    <tr>\n",
       "      <th>std</th>\n",
       "      <td>108.873998</td>\n",
       "      <td>2611.206907</td>\n",
       "      <td>1.129759</td>\n",
       "    </tr>\n",
       "    <tr>\n",
       "      <th>min</th>\n",
       "      <td>13.354000</td>\n",
       "      <td>0.000000</td>\n",
       "      <td>0.000000</td>\n",
       "    </tr>\n",
       "    <tr>\n",
       "      <th>25%</th>\n",
       "      <td>16.128500</td>\n",
       "      <td>146.000000</td>\n",
       "      <td>5.900000</td>\n",
       "    </tr>\n",
       "    <tr>\n",
       "      <th>50%</th>\n",
       "      <td>21.199000</td>\n",
       "      <td>444.000000</td>\n",
       "      <td>6.500000</td>\n",
       "    </tr>\n",
       "    <tr>\n",
       "      <th>75%</th>\n",
       "      <td>35.191500</td>\n",
       "      <td>1376.000000</td>\n",
       "      <td>7.100000</td>\n",
       "    </tr>\n",
       "    <tr>\n",
       "      <th>max</th>\n",
       "      <td>5083.954000</td>\n",
       "      <td>31077.000000</td>\n",
       "      <td>10.000000</td>\n",
       "    </tr>\n",
       "  </tbody>\n",
       "</table>\n",
       "</div>"
      ],
      "text/plain": [
       "        Popularity    Vote_Count  Vote_Average\n",
       "count  9827.000000   9827.000000   9827.000000\n",
       "mean     40.326088   1392.805536      6.439534\n",
       "std     108.873998   2611.206907      1.129759\n",
       "min      13.354000      0.000000      0.000000\n",
       "25%      16.128500    146.000000      5.900000\n",
       "50%      21.199000    444.000000      6.500000\n",
       "75%      35.191500   1376.000000      7.100000\n",
       "max    5083.954000  31077.000000     10.000000"
      ]
     },
     "execution_count": 480,
     "metadata": {},
     "output_type": "execute_result"
    }
   ],
   "source": [
    "df.describe()"
   ]
  },
  {
   "cell_type": "code",
   "execution_count": 481,
   "id": "e1437a08-b37a-40e9-8fbd-73ba4e104e27",
   "metadata": {},
   "outputs": [
    {
     "data": {
      "text/plain": [
       "(9827, 9)"
      ]
     },
     "execution_count": 481,
     "metadata": {},
     "output_type": "execute_result"
    }
   ],
   "source": [
    "df.shape"
   ]
  },
  {
   "cell_type": "code",
   "execution_count": 482,
   "id": "5c882ab7-45c0-4373-b378-daa48429913b",
   "metadata": {},
   "outputs": [
    {
     "name": "stdout",
     "output_type": "stream",
     "text": [
      "Before cleaning: count    9827.000000\n",
      "mean       40.326088\n",
      "std       108.873998\n",
      "min        13.354000\n",
      "25%        16.128500\n",
      "50%        21.199000\n",
      "75%        35.191500\n",
      "max      5083.954000\n",
      "Name: Popularity, dtype: float64\n",
      "Before cleaning: count     9827.000000\n",
      "mean      1392.805536\n",
      "std       2611.206907\n",
      "min          0.000000\n",
      "25%        146.000000\n",
      "50%        444.000000\n",
      "75%       1376.000000\n",
      "max      31077.000000\n",
      "Name: Vote_Count, dtype: float64\n",
      "Before cleaning: count    9827.000000\n",
      "mean        6.439534\n",
      "std         1.129759\n",
      "min         0.000000\n",
      "25%         5.900000\n",
      "50%         6.500000\n",
      "75%         7.100000\n",
      "max        10.000000\n",
      "Name: Vote_Average, dtype: float64\n"
     ]
    }
   ],
   "source": [
    "print(\"Before cleaning:\", df['Popularity'].describe())\n",
    "print(\"Before cleaning:\", df['Vote_Count'].describe())\n",
    "print(\"Before cleaning:\", df['Vote_Average'].describe())"
   ]
  },
  {
   "cell_type": "code",
   "execution_count": 483,
   "id": "fc293df0-515d-455f-ae45-8820d61a4d81",
   "metadata": {},
   "outputs": [
    {
     "data": {
      "image/png": "[encoded data removed]",
      "text/plain": [
       "<Figure size 640x480 with 1 Axes>"
      ]
     },
     "metadata": {},
     "output_type": "display_data"
    }
   ],
   "source": [
    "df.plot.box()\n",
    "plt.show()"
   ]
  },
  {
   "cell_type": "code",
   "execution_count": 484,
   "id": "0414b781-7603-4277-83b3-464629d80d5e",
   "metadata": {},
   "outputs": [
    {
     "data": {
      "text/plain": [
       "np.float64(19.062999999999995)"
      ]
     },
     "execution_count": 484,
     "metadata": {},
     "output_type": "execute_result"
    }
   ],
   "source": [
    "q1 =  df['Popularity'].quantile(0.25)\n",
    "q3 =  df['Popularity'].quantile(0.75)\n",
    "IQR = q3 - q1\n",
    "IQR"
   ]
  },
  {
   "cell_type": "code",
   "execution_count": 485,
   "id": "11b11859-42b2-4cd1-95b9-6efe4a7f58be",
   "metadata": {},
   "outputs": [
    {
     "name": "stdout",
     "output_type": "stream",
     "text": [
      "     Release_Date                    Title  \\\n",
      "0      2021-12-15  Spider-Man: No Way Home   \n",
      "1      2022-03-01               The Batman   \n",
      "2      2022-02-25                  No Exit   \n",
      "3      2021-11-24                  Encanto   \n",
      "4      2021-12-22           The King's Man   \n",
      "...           ...                      ...   \n",
      "1042   2021-07-06                  Annette   \n",
      "1043   2014-06-05           22 Jump Street   \n",
      "1044   2021-02-26                   Crisis   \n",
      "1045   2004-10-01                      Saw   \n",
      "1046   2012-08-17      Secret of the Wings   \n",
      "\n",
      "                                               Overview  Popularity  \\\n",
      "0     Peter Parker is unmasked and no longer able to...    5083.954   \n",
      "1     In his second year of fighting crime, Batman u...    3827.658   \n",
      "2     Stranded at a rest stop in the mountains durin...    2618.087   \n",
      "3     The tale of an extraordinary family, the Madri...    2402.201   \n",
      "4     As a collection of history's worst tyrants and...    1895.511   \n",
      "...                                                 ...         ...   \n",
      "1042  The story of Henry, a stand-up comedian with a...      63.892   \n",
      "1043  After making their way through high school (tw...      63.875   \n",
      "1044  Three stories about the world of opioids colli...      63.866   \n",
      "1045  Obsessed with teaching his victims the value o...      63.799   \n",
      "1046  Tinkerbell wanders into the forbidden Winter w...      63.793   \n",
      "\n",
      "      Vote_Count  Vote_Average Original_Language  \\\n",
      "0           8940           8.3                en   \n",
      "1           1151           8.1                en   \n",
      "2            122           6.3                en   \n",
      "3           5076           7.7                en   \n",
      "4           1793           7.0                en   \n",
      "...          ...           ...               ...   \n",
      "1042         404           7.0                en   \n",
      "1043        6790           6.8                en   \n",
      "1044         186           6.5                en   \n",
      "1045        7258           7.4                en   \n",
      "1046         928           7.1                en   \n",
      "\n",
      "                                      Genre  \\\n",
      "0        Action, Adventure, Science Fiction   \n",
      "1                  Crime, Mystery, Thriller   \n",
      "2                                  Thriller   \n",
      "3        Animation, Comedy, Family, Fantasy   \n",
      "4          Action, Adventure, Thriller, War   \n",
      "...                                     ...   \n",
      "1042                         Drama, Romance   \n",
      "1043                  Crime, Comedy, Action   \n",
      "1044                 Thriller, Crime, Drama   \n",
      "1045                 Horror, Mystery, Crime   \n",
      "1046  Animation, Family, Fantasy, Adventure   \n",
      "\n",
      "                                             Poster_Url  \n",
      "0     https://image.tmdb.org/t/p/original/1g0dhYtq4i...  \n",
      "1     https://image.tmdb.org/t/p/original/74xTEgt7R3...  \n",
      "2     https://image.tmdb.org/t/p/original/vDHsLnOWKl...  \n",
      "3     https://image.tmdb.org/t/p/original/4j0PNHkMr5...  \n",
      "4     https://image.tmdb.org/t/p/original/aq4Pwv5Xeu...  \n",
      "...                                                 ...  \n",
      "1042  https://image.tmdb.org/t/p/original/4FTnypxpGl...  \n",
      "1043  https://image.tmdb.org/t/p/original/850chzYHYb...  \n",
      "1044  https://image.tmdb.org/t/p/original/15e2VcMTtk...  \n",
      "1045  https://image.tmdb.org/t/p/original/pparEGTCxc...  \n",
      "1046  https://image.tmdb.org/t/p/original/iOp2tq3Kkr...  \n",
      "\n",
      "[1047 rows x 9 columns]\n"
     ]
    }
   ],
   "source": [
    "low = q1 - 1.5 * IQR\n",
    "high = q3 + 1.5 * IQR\n",
    "outliers = df[(df['Popularity']<low) | (df['Popularity']>high)]\n",
    "print(outliers)"
   ]
  },
  {
   "cell_type": "code",
   "execution_count": 486,
   "id": "7312af08-81a9-40f0-9c5b-9fa70e5c77d3",
   "metadata": {},
   "outputs": [],
   "source": [
    "df[\"Popularity\"] = df[\"Popularity\"].clip(low, high)"
   ]
  },
  {
   "cell_type": "code",
   "execution_count": 487,
   "id": "e96b6966-d492-472b-a5e5-89b990ee0df2",
   "metadata": {},
   "outputs": [
    {
     "data": {
      "text/plain": [
       "Release_Date          object\n",
       "Title                 object\n",
       "Overview              object\n",
       "Popularity           float64\n",
       "Vote_Count             int64\n",
       "Vote_Average         float64\n",
       "Original_Language     object\n",
       "Genre                 object\n",
       "Poster_Url            object\n",
       "dtype: object"
      ]
     },
     "execution_count": 487,
     "metadata": {},
     "output_type": "execute_result"
    }
   ],
   "source": [
    "df.dtypes"
   ]
  },
  {
   "cell_type": "code",
   "execution_count": 488,
   "id": "5d241aae-dba6-42aa-9356-2dbb921b174d",
   "metadata": {},
   "outputs": [
    {
     "data": {
      "image/png": "[encoded data removed]",
      "text/plain": [
       "<Figure size 640x480 with 1 Axes>"
      ]
     },
     "metadata": {},
     "output_type": "display_data"
    }
   ],
   "source": [
    "df.plot.box()\n",
    "plt.show()"
   ]
  },
  {
   "cell_type": "code",
   "execution_count": 489,
   "id": "93eb27db-04a3-4024-b11e-29e7e6777773",
   "metadata": {},
   "outputs": [
    {
     "data": {
      "text/plain": [
       "np.float64(1230.0)"
      ]
     },
     "execution_count": 489,
     "metadata": {},
     "output_type": "execute_result"
    }
   ],
   "source": [
    "q1 =  df['Vote_Count'].quantile(0.25)\n",
    "q3 =  df['Vote_Count'].quantile(0.75)\n",
    "IQR = q3 - q1\n",
    "IQR"
   ]
  },
  {
   "cell_type": "code",
   "execution_count": 490,
   "id": "be9542ab-3e38-472a-b7f1-3ec7f24098c8",
   "metadata": {},
   "outputs": [
    {
     "name": "stdout",
     "output_type": "stream",
     "text": [
      "Empty DataFrame\n",
      "Columns: [Release_Date, Title, Overview, Popularity, Vote_Count, Vote_Average, Original_Language, Genre, Poster_Url]\n",
      "Index: []\n"
     ]
    }
   ],
   "source": [
    "low = q1 - 1.5 * IQR\n",
    "high = q3 + 1.5 * IQR\n",
    "outliers = df[(df['Popularity']<low) | (df['Popularity']>high)]\n",
    "print(outliers)"
   ]
  },
  {
   "cell_type": "code",
   "execution_count": 491,
   "id": "92ff6497-70f8-4481-8ce0-d3d3df3552d7",
   "metadata": {},
   "outputs": [],
   "source": [
    "df['Vote_Count'] = df['Vote_Count'].clip(low,high)"
   ]
  },
  {
   "cell_type": "code",
   "execution_count": 492,
   "id": "84c8c822-a10d-47ff-a4a1-94dc2ac619ed",
   "metadata": {},
   "outputs": [
    {
     "data": {
      "image/png": "[encoded data removed]",
      "text/plain": [
       "<Figure size 640x480 with 1 Axes>"
      ]
     },
     "metadata": {},
     "output_type": "display_data"
    }
   ],
   "source": [
    "df.plot.box()\n",
    "plt.show()"
   ]
  },
  {
   "cell_type": "code",
   "execution_count": 493,
   "id": "5cd44438-f7e1-4c21-bbc1-d4039e88a537",
   "metadata": {},
   "outputs": [
    {
     "name": "stdout",
     "output_type": "stream",
     "text": [
      "     Release_Date                                 Title  \\\n",
      "77     2022-02-04                Sex, Shame and Tears 2   \n",
      "80     2022-03-30                  Sonic the Hedgehog 2   \n",
      "210    2023-04-06                     Fast & Furious 10   \n",
      "229    2021-12-25                            El Paseo 6   \n",
      "231    2022-04-22         Dragon Ball Super: Super Hero   \n",
      "...           ...                                   ...   \n",
      "9489   2016-11-12                       My Friend's Mom   \n",
      "9565   2000-06-30  The Adventures of Rocky & Bullwinkle   \n",
      "9687   2003-12-03                            Sexy Movie   \n",
      "9713   2022-03-12  Tony Hawk: Until the Wheels Fall Off   \n",
      "9823   2020-10-01                      Violent Delights   \n",
      "\n",
      "                                               Overview  Popularity  \\\n",
      "77    Twenty years have passed since those two apart...      63.786   \n",
      "80    After settling in Green Hills, Sonic is eager ...      63.786   \n",
      "210             The tenth installment in the Fast Saga.      63.786   \n",
      "229   The last year High School excursion is the wal...      63.786   \n",
      "231   The Red Ribbon Army, an evil organization that...      63.786   \n",
      "...                                                 ...         ...   \n",
      "9489  After her mother dies, Young-jae visits her ol...      13.651   \n",
      "9565  Rocky and Bullwinkle have been living off the ...      13.571   \n",
      "9687  A guy wanting a Hollywood career decides to ma...      13.471   \n",
      "9713  A wide-ranging, definitive look at Hawk’s life...      13.446   \n",
      "9823  A female vampire falls in love with a man she ...      13.356   \n",
      "\n",
      "      Vote_Count  Vote_Average Original_Language  \\\n",
      "77             5           2.2                es   \n",
      "80             0           0.0                en   \n",
      "210            0           0.0                en   \n",
      "229            5           3.5                es   \n",
      "231            0           0.0                ja   \n",
      "...          ...           ...               ...   \n",
      "9489           6           3.8                ko   \n",
      "9565         293           4.1                en   \n",
      "9687           6           4.1                en   \n",
      "9713           0           0.0                en   \n",
      "9823           8           3.5                es   \n",
      "\n",
      "                                              Genre  \\\n",
      "77                                    Comedy, Drama   \n",
      "80          Action, Science Fiction, Comedy, Family   \n",
      "210                                   Action, Crime   \n",
      "229                                          Comedy   \n",
      "231              Animation, Science Fiction, Action   \n",
      "...                                             ...   \n",
      "9489                                        Romance   \n",
      "9565  Family, Adventure, Animation, Comedy, Fantasy   \n",
      "9687                                         Comedy   \n",
      "9713                                    Documentary   \n",
      "9823                                         Horror   \n",
      "\n",
      "                                             Poster_Url  \n",
      "77    https://image.tmdb.org/t/p/original/2ip2iDBSXf...  \n",
      "80    https://image.tmdb.org/t/p/original/6DrHO1jr3q...  \n",
      "210   https://image.tmdb.org/t/p/original/2DyEk84Xnb...  \n",
      "229   https://image.tmdb.org/t/p/original/f1nHNgR6tQ...  \n",
      "231   https://image.tmdb.org/t/p/original/wFYXVMKWLA...  \n",
      "...                                                 ...  \n",
      "9489  https://image.tmdb.org/t/p/original/19ly5EebC8...  \n",
      "9565  https://image.tmdb.org/t/p/original/xCFSsftt2r...  \n",
      "9687  https://image.tmdb.org/t/p/original/o9LjZEBrXl...  \n",
      "9713  https://image.tmdb.org/t/p/original/namFh1FM7B...  \n",
      "9823  https://image.tmdb.org/t/p/original/4b6HY7rud6...  \n",
      "\n",
      "[243 rows x 9 columns]\n"
     ]
    }
   ],
   "source": [
    "q1 =  df['Vote_Average'].quantile(0.25)\n",
    "q3 =  df['Vote_Average'].quantile(0.75)\n",
    "IQR = q3 - q1\n",
    "IQR\n",
    "low = q1 - 1.5 * IQR\n",
    "high = q3 + 1.5 * IQR\n",
    "outliers = df[(df['Vote_Average']<low) | (df['Vote_Average']>high)]\n",
    "print(outliers)"
   ]
  },
  {
   "cell_type": "code",
   "execution_count": 494,
   "id": "920aa880-4879-446d-94f9-80b73f33dc7f",
   "metadata": {},
   "outputs": [],
   "source": [
    "df['Vote_Average'] = df['Vote_Average'].clip(low,high)"
   ]
  },
  {
   "cell_type": "code",
   "execution_count": 495,
   "id": "377aa170-ae62-4f5d-8b99-adecf50064d1",
   "metadata": {},
   "outputs": [
    {
     "data": {
      "image/png": "[encoded data removed]",
      "text/plain": [
       "<Figure size 640x480 with 1 Axes>"
      ]
     },
     "metadata": {},
     "output_type": "display_data"
    }
   ],
   "source": [
    "df.plot.box()\n",
    "plt.show()"
   ]
  },
  {
   "cell_type": "code",
   "execution_count": null,
   "id": "ff8e3c86-ab98-4f30-82df-4cf94397f97e",
   "metadata": {},
   "outputs": [],
   "source": []
  },
  {
   "cell_type": "code",
   "execution_count": 496,
   "id": "1bc1abea-32f1-4bc0-bf9d-adafd5e6e085",
   "metadata": {},
   "outputs": [
    {
     "name": "stdout",
     "output_type": "stream",
     "text": [
      "Before filtering: count    9827.000000\n",
      "mean       28.362255\n",
      "std        16.344671\n",
      "min        13.354000\n",
      "25%        16.128500\n",
      "50%        21.199000\n",
      "75%        35.191500\n",
      "max        63.786000\n",
      "Name: Popularity, dtype: float64\n",
      "Before filtering: count    9827.000000\n",
      "mean      944.255012\n",
      "std      1070.953996\n",
      "min         0.000000\n",
      "25%       146.000000\n",
      "50%       444.000000\n",
      "75%      1376.000000\n",
      "max      3221.000000\n",
      "Name: Vote_Count, dtype: float64\n",
      "Before filtering: count    9827.00000\n",
      "mean        6.48962\n",
      "std         0.92359\n",
      "min         4.10000\n",
      "25%         5.90000\n",
      "50%         6.50000\n",
      "75%         7.10000\n",
      "max         8.90000\n",
      "Name: Vote_Average, dtype: float64\n"
     ]
    }
   ],
   "source": [
    "print(\"Before filtering:\", df['Popularity'].describe())\n",
    "print(\"Before filtering:\", df['Vote_Count'].describe())\n",
    "print(\"Before filtering:\", df['Vote_Average'].describe())"
   ]
  },
  {
   "cell_type": "code",
   "execution_count": 497,
   "id": "9c1a5854-3311-4c65-85fc-ec41ae1eae87",
   "metadata": {},
   "outputs": [
    {
     "data": {
      "text/plain": [
       "(9827, 9)"
      ]
     },
     "execution_count": 497,
     "metadata": {},
     "output_type": "execute_result"
    }
   ],
   "source": [
    "df.shape"
   ]
  },
  {
   "cell_type": "code",
   "execution_count": 498,
   "id": "e4d7c9bd-7ccb-4676-94f9-a333d3c66fbd",
   "metadata": {},
   "outputs": [
    {
     "data": {
      "text/html": [
       "<div>\n",
       "<style scoped>\n",
       "    .dataframe tbody tr th:only-of-type {\n",
       "        vertical-align: middle;\n",
       "    }\n",
       "\n",
       "    .dataframe tbody tr th {\n",
       "        vertical-align: top;\n",
       "    }\n",
       "\n",
       "    .dataframe thead th {\n",
       "        text-align: right;\n",
       "    }\n",
       "</style>\n",
       "<table border=\"1\" class=\"dataframe\">\n",
       "  <thead>\n",
       "    <tr style=\"text-align: right;\">\n",
       "      <th></th>\n",
       "      <th>Release_Date</th>\n",
       "      <th>Title</th>\n",
       "      <th>Overview</th>\n",
       "      <th>Popularity</th>\n",
       "      <th>Vote_Count</th>\n",
       "      <th>Vote_Average</th>\n",
       "      <th>Original_Language</th>\n",
       "      <th>Genre</th>\n",
       "      <th>Poster_Url</th>\n",
       "    </tr>\n",
       "  </thead>\n",
       "  <tbody>\n",
       "    <tr>\n",
       "      <th>2589</th>\n",
       "      <td>2015-12-18</td>\n",
       "      <td>Mojin: The Lost Legend</td>\n",
       "      <td>At the beginning of the 1990s, famous tomb exp...</td>\n",
       "      <td>33.807</td>\n",
       "      <td>165</td>\n",
       "      <td>6.2</td>\n",
       "      <td>zh</td>\n",
       "      <td>Action, Adventure, Fantasy</td>\n",
       "      <td>https://image.tmdb.org/t/p/original/supoIHkh3d...</td>\n",
       "    </tr>\n",
       "    <tr>\n",
       "      <th>9218</th>\n",
       "      <td>2010-12-11</td>\n",
       "      <td>Norwegian Wood</td>\n",
       "      <td>Set in the 1960s, high school student Toru Wat...</td>\n",
       "      <td>13.932</td>\n",
       "      <td>146</td>\n",
       "      <td>6.4</td>\n",
       "      <td>ja</td>\n",
       "      <td>Drama, Romance</td>\n",
       "      <td>https://image.tmdb.org/t/p/original/cnTbsvghYl...</td>\n",
       "    </tr>\n",
       "    <tr>\n",
       "      <th>1672</th>\n",
       "      <td>2021-12-24</td>\n",
       "      <td>1000 Miles From Christmas</td>\n",
       "      <td>An auditor who completely despises Christmas i...</td>\n",
       "      <td>46.441</td>\n",
       "      <td>64</td>\n",
       "      <td>6.3</td>\n",
       "      <td>es</td>\n",
       "      <td>Comedy, Romance</td>\n",
       "      <td>https://image.tmdb.org/t/p/original/1k44GYYpLH...</td>\n",
       "    </tr>\n",
       "    <tr>\n",
       "      <th>8312</th>\n",
       "      <td>2011-01-13</td>\n",
       "      <td>The Dilemma</td>\n",
       "      <td>Longtime friends Ronny and Nick are partners i...</td>\n",
       "      <td>14.859</td>\n",
       "      <td>686</td>\n",
       "      <td>5.3</td>\n",
       "      <td>en</td>\n",
       "      <td>Comedy, Drama</td>\n",
       "      <td>https://image.tmdb.org/t/p/original/a7EVBTqeh6...</td>\n",
       "    </tr>\n",
       "    <tr>\n",
       "      <th>7563</th>\n",
       "      <td>1977-05-26</td>\n",
       "      <td>Smokey and the Bandit</td>\n",
       "      <td>A race car driver tries to transport an illega...</td>\n",
       "      <td>15.855</td>\n",
       "      <td>523</td>\n",
       "      <td>6.9</td>\n",
       "      <td>en</td>\n",
       "      <td>Action, Adventure, Comedy</td>\n",
       "      <td>https://image.tmdb.org/t/p/original/w4RqNZtVHB...</td>\n",
       "    </tr>\n",
       "    <tr>\n",
       "      <th>2465</th>\n",
       "      <td>2017-09-22</td>\n",
       "      <td>Only the Brave</td>\n",
       "      <td>Members of the Granite Mountain Hotshots battl...</td>\n",
       "      <td>35.082</td>\n",
       "      <td>1170</td>\n",
       "      <td>7.4</td>\n",
       "      <td>en</td>\n",
       "      <td>Drama, Action, History</td>\n",
       "      <td>https://image.tmdb.org/t/p/original/rwJVB0muOM...</td>\n",
       "    </tr>\n",
       "    <tr>\n",
       "      <th>7289</th>\n",
       "      <td>1981-04-24</td>\n",
       "      <td>Ms .45</td>\n",
       "      <td>A shy and mute seamstress goes insane after be...</td>\n",
       "      <td>16.238</td>\n",
       "      <td>213</td>\n",
       "      <td>6.6</td>\n",
       "      <td>en</td>\n",
       "      <td>Crime, Thriller</td>\n",
       "      <td>https://image.tmdb.org/t/p/original/9ulPP8hcBj...</td>\n",
       "    </tr>\n",
       "    <tr>\n",
       "      <th>6131</th>\n",
       "      <td>1990-02-09</td>\n",
       "      <td>Hard to Kill</td>\n",
       "      <td>Mason Storm, a 'go it alone' cop, is gunned do...</td>\n",
       "      <td>18.276</td>\n",
       "      <td>458</td>\n",
       "      <td>5.9</td>\n",
       "      <td>en</td>\n",
       "      <td>Action</td>\n",
       "      <td>https://image.tmdb.org/t/p/original/nmtMNxsllj...</td>\n",
       "    </tr>\n",
       "    <tr>\n",
       "      <th>6151</th>\n",
       "      <td>1990-08-17</td>\n",
       "      <td>Wild at Heart</td>\n",
       "      <td>After serving prison time for a self-defense k...</td>\n",
       "      <td>18.252</td>\n",
       "      <td>1203</td>\n",
       "      <td>7.0</td>\n",
       "      <td>en</td>\n",
       "      <td>Comedy, Crime, Thriller</td>\n",
       "      <td>https://image.tmdb.org/t/p/original/uLUFI5sJIf...</td>\n",
       "    </tr>\n",
       "    <tr>\n",
       "      <th>8930</th>\n",
       "      <td>1996-12-18</td>\n",
       "      <td>Marvin's Room</td>\n",
       "      <td>A leukemia patient attempts to end a 20-year f...</td>\n",
       "      <td>14.205</td>\n",
       "      <td>487</td>\n",
       "      <td>6.7</td>\n",
       "      <td>en</td>\n",
       "      <td>Drama</td>\n",
       "      <td>https://image.tmdb.org/t/p/original/89YFVzS7Un...</td>\n",
       "    </tr>\n",
       "  </tbody>\n",
       "</table>\n",
       "</div>"
      ],
      "text/plain": [
       "     Release_Date                      Title  \\\n",
       "2589   2015-12-18     Mojin: The Lost Legend   \n",
       "9218   2010-12-11             Norwegian Wood   \n",
       "1672   2021-12-24  1000 Miles From Christmas   \n",
       "8312   2011-01-13                The Dilemma   \n",
       "7563   1977-05-26      Smokey and the Bandit   \n",
       "2465   2017-09-22             Only the Brave   \n",
       "7289   1981-04-24                     Ms .45   \n",
       "6131   1990-02-09               Hard to Kill   \n",
       "6151   1990-08-17              Wild at Heart   \n",
       "8930   1996-12-18              Marvin's Room   \n",
       "\n",
       "                                               Overview  Popularity  \\\n",
       "2589  At the beginning of the 1990s, famous tomb exp...      33.807   \n",
       "9218  Set in the 1960s, high school student Toru Wat...      13.932   \n",
       "1672  An auditor who completely despises Christmas i...      46.441   \n",
       "8312  Longtime friends Ronny and Nick are partners i...      14.859   \n",
       "7563  A race car driver tries to transport an illega...      15.855   \n",
       "2465  Members of the Granite Mountain Hotshots battl...      35.082   \n",
       "7289  A shy and mute seamstress goes insane after be...      16.238   \n",
       "6131  Mason Storm, a 'go it alone' cop, is gunned do...      18.276   \n",
       "6151  After serving prison time for a self-defense k...      18.252   \n",
       "8930  A leukemia patient attempts to end a 20-year f...      14.205   \n",
       "\n",
       "      Vote_Count  Vote_Average Original_Language                       Genre  \\\n",
       "2589         165           6.2                zh  Action, Adventure, Fantasy   \n",
       "9218         146           6.4                ja              Drama, Romance   \n",
       "1672          64           6.3                es             Comedy, Romance   \n",
       "8312         686           5.3                en               Comedy, Drama   \n",
       "7563         523           6.9                en   Action, Adventure, Comedy   \n",
       "2465        1170           7.4                en      Drama, Action, History   \n",
       "7289         213           6.6                en             Crime, Thriller   \n",
       "6131         458           5.9                en                      Action   \n",
       "6151        1203           7.0                en     Comedy, Crime, Thriller   \n",
       "8930         487           6.7                en                       Drama   \n",
       "\n",
       "                                             Poster_Url  \n",
       "2589  https://image.tmdb.org/t/p/original/supoIHkh3d...  \n",
       "9218  https://image.tmdb.org/t/p/original/cnTbsvghYl...  \n",
       "1672  https://image.tmdb.org/t/p/original/1k44GYYpLH...  \n",
       "8312  https://image.tmdb.org/t/p/original/a7EVBTqeh6...  \n",
       "7563  https://image.tmdb.org/t/p/original/w4RqNZtVHB...  \n",
       "2465  https://image.tmdb.org/t/p/original/rwJVB0muOM...  \n",
       "7289  https://image.tmdb.org/t/p/original/9ulPP8hcBj...  \n",
       "6131  https://image.tmdb.org/t/p/original/nmtMNxsllj...  \n",
       "6151  https://image.tmdb.org/t/p/original/uLUFI5sJIf...  \n",
       "8930  https://image.tmdb.org/t/p/original/89YFVzS7Un...  "
      ]
     },
     "execution_count": 498,
     "metadata": {},
     "output_type": "execute_result"
    }
   ],
   "source": [
    "df.sample(10)"
   ]
  },
  {
   "cell_type": "code",
   "execution_count": 499,
   "id": "406f6941-016f-4caf-9f1d-6b1d7b9d2898",
   "metadata": {},
   "outputs": [
    {
     "data": {
      "image/png": "[encoded data removed]",
      "text/plain": [
       "<Figure size 640x480 with 1 Axes>"
      ]
     },
     "metadata": {},
     "output_type": "display_data"
    }
   ],
   "source": [
    "sns.histplot(df['Popularity'], kde=True)\n",
    "plt.show()"
   ]
  },
  {
   "cell_type": "code",
   "execution_count": 500,
   "id": "677ac272-ca2f-46cc-a34b-4f311eba8e42",
   "metadata": {},
   "outputs": [
    {
     "name": "stdout",
     "output_type": "stream",
     "text": [
      "<class 'pandas.core.frame.DataFrame'>\n",
      "RangeIndex: 9827 entries, 0 to 9826\n",
      "Data columns (total 9 columns):\n",
      " #   Column             Non-Null Count  Dtype  \n",
      "---  ------             --------------  -----  \n",
      " 0   Release_Date       9827 non-null   object \n",
      " 1   Title              9827 non-null   object \n",
      " 2   Overview           9827 non-null   object \n",
      " 3   Popularity         9827 non-null   float64\n",
      " 4   Vote_Count         9827 non-null   int64  \n",
      " 5   Vote_Average       9827 non-null   float64\n",
      " 6   Original_Language  9827 non-null   object \n",
      " 7   Genre              9827 non-null   object \n",
      " 8   Poster_Url         9827 non-null   object \n",
      "dtypes: float64(2), int64(1), object(6)\n",
      "memory usage: 691.1+ KB\n"
     ]
    }
   ],
   "source": [
    "df.info()"
   ]
  },
  {
   "cell_type": "code",
   "execution_count": 501,
   "id": "763a30a7-1d95-47b4-8ba4-6770c31afdf9",
   "metadata": {},
   "outputs": [
    {
     "data": {
      "text/html": [
       "<div>\n",
       "<style scoped>\n",
       "    .dataframe tbody tr th:only-of-type {\n",
       "        vertical-align: middle;\n",
       "    }\n",
       "\n",
       "    .dataframe tbody tr th {\n",
       "        vertical-align: top;\n",
       "    }\n",
       "\n",
       "    .dataframe thead th {\n",
       "        text-align: right;\n",
       "    }\n",
       "</style>\n",
       "<table border=\"1\" class=\"dataframe\">\n",
       "  <thead>\n",
       "    <tr style=\"text-align: right;\">\n",
       "      <th></th>\n",
       "      <th>Release_Date</th>\n",
       "      <th>Title</th>\n",
       "      <th>Overview</th>\n",
       "      <th>Popularity</th>\n",
       "      <th>Vote_Count</th>\n",
       "      <th>Vote_Average</th>\n",
       "      <th>Original_Language</th>\n",
       "      <th>Genre</th>\n",
       "      <th>Poster_Url</th>\n",
       "    </tr>\n",
       "  </thead>\n",
       "  <tbody>\n",
       "    <tr>\n",
       "      <th>9822</th>\n",
       "      <td>1973-10-15</td>\n",
       "      <td>Badlands</td>\n",
       "      <td>A dramatization of the Starkweather-Fugate kil...</td>\n",
       "      <td>13.357</td>\n",
       "      <td>896</td>\n",
       "      <td>7.6</td>\n",
       "      <td>en</td>\n",
       "      <td>Drama, Crime</td>\n",
       "      <td>https://image.tmdb.org/t/p/original/z81rBzHNgi...</td>\n",
       "    </tr>\n",
       "    <tr>\n",
       "      <th>9823</th>\n",
       "      <td>2020-10-01</td>\n",
       "      <td>Violent Delights</td>\n",
       "      <td>A female vampire falls in love with a man she ...</td>\n",
       "      <td>13.356</td>\n",
       "      <td>8</td>\n",
       "      <td>4.1</td>\n",
       "      <td>es</td>\n",
       "      <td>Horror</td>\n",
       "      <td>https://image.tmdb.org/t/p/original/4b6HY7rud6...</td>\n",
       "    </tr>\n",
       "    <tr>\n",
       "      <th>9824</th>\n",
       "      <td>2016-05-06</td>\n",
       "      <td>The Offering</td>\n",
       "      <td>When young and successful reporter Jamie finds...</td>\n",
       "      <td>13.355</td>\n",
       "      <td>94</td>\n",
       "      <td>5.0</td>\n",
       "      <td>en</td>\n",
       "      <td>Mystery, Thriller, Horror</td>\n",
       "      <td>https://image.tmdb.org/t/p/original/h4uMM1wOhz...</td>\n",
       "    </tr>\n",
       "    <tr>\n",
       "      <th>9825</th>\n",
       "      <td>2021-03-31</td>\n",
       "      <td>The United States vs. Billie Holiday</td>\n",
       "      <td>Billie Holiday spent much of her career being ...</td>\n",
       "      <td>13.354</td>\n",
       "      <td>152</td>\n",
       "      <td>6.7</td>\n",
       "      <td>en</td>\n",
       "      <td>Music, Drama, History</td>\n",
       "      <td>https://image.tmdb.org/t/p/original/vEzkxuE2sJ...</td>\n",
       "    </tr>\n",
       "    <tr>\n",
       "      <th>9826</th>\n",
       "      <td>1984-09-23</td>\n",
       "      <td>Threads</td>\n",
       "      <td>Documentary style account of a nuclear holocau...</td>\n",
       "      <td>13.354</td>\n",
       "      <td>186</td>\n",
       "      <td>7.8</td>\n",
       "      <td>en</td>\n",
       "      <td>War, Drama, Science Fiction</td>\n",
       "      <td>https://image.tmdb.org/t/p/original/lBhU4U9Eeh...</td>\n",
       "    </tr>\n",
       "  </tbody>\n",
       "</table>\n",
       "</div>"
      ],
      "text/plain": [
       "     Release_Date                                 Title  \\\n",
       "9822   1973-10-15                              Badlands   \n",
       "9823   2020-10-01                      Violent Delights   \n",
       "9824   2016-05-06                          The Offering   \n",
       "9825   2021-03-31  The United States vs. Billie Holiday   \n",
       "9826   1984-09-23                               Threads   \n",
       "\n",
       "                                               Overview  Popularity  \\\n",
       "9822  A dramatization of the Starkweather-Fugate kil...      13.357   \n",
       "9823  A female vampire falls in love with a man she ...      13.356   \n",
       "9824  When young and successful reporter Jamie finds...      13.355   \n",
       "9825  Billie Holiday spent much of her career being ...      13.354   \n",
       "9826  Documentary style account of a nuclear holocau...      13.354   \n",
       "\n",
       "      Vote_Count  Vote_Average Original_Language                        Genre  \\\n",
       "9822         896           7.6                en                 Drama, Crime   \n",
       "9823           8           4.1                es                       Horror   \n",
       "9824          94           5.0                en    Mystery, Thriller, Horror   \n",
       "9825         152           6.7                en        Music, Drama, History   \n",
       "9826         186           7.8                en  War, Drama, Science Fiction   \n",
       "\n",
       "                                             Poster_Url  \n",
       "9822  https://image.tmdb.org/t/p/original/z81rBzHNgi...  \n",
       "9823  https://image.tmdb.org/t/p/original/4b6HY7rud6...  \n",
       "9824  https://image.tmdb.org/t/p/original/h4uMM1wOhz...  \n",
       "9825  https://image.tmdb.org/t/p/original/vEzkxuE2sJ...  \n",
       "9826  https://image.tmdb.org/t/p/original/lBhU4U9Eeh...  "
      ]
     },
     "execution_count": 501,
     "metadata": {},
     "output_type": "execute_result"
    }
   ],
   "source": [
    "df.tail()"
   ]
  },
  {
   "cell_type": "code",
   "execution_count": 502,
   "id": "3a9b21eb-10e1-478a-b70a-7abca98be7ae",
   "metadata": {},
   "outputs": [
    {
     "data": {
      "text/plain": [
       "232"
      ]
     },
     "execution_count": 502,
     "metadata": {},
     "output_type": "execute_result"
    }
   ],
   "source": [
    "df[np.isclose(df['Vote_Average'], 4.1)].shape[0]"
   ]
  },
  {
   "cell_type": "code",
   "execution_count": 503,
   "id": "51448459-425f-40b2-bfe3-4071668fd2d8",
   "metadata": {},
   "outputs": [],
   "source": [
    "df['Release_Date'] = pd.to_datetime(df['Release_Date'])"
   ]
  },
  {
   "cell_type": "code",
   "execution_count": 504,
   "id": "2037610f-df5b-4aae-8225-0df62324a3a1",
   "metadata": {},
   "outputs": [
    {
     "name": "stdout",
     "output_type": "stream",
     "text": [
      "datetime64[ns]\n"
     ]
    }
   ],
   "source": [
    "print(df['Release_Date'].dtypes)"
   ]
  },
  {
   "cell_type": "code",
   "execution_count": 505,
   "id": "754c8778-8759-44ba-b9ba-ba2bb1893814",
   "metadata": {},
   "outputs": [],
   "source": [
    "df['Release_Date'] = df['Release_Date'].dt.year"
   ]
  },
  {
   "cell_type": "code",
   "execution_count": 506,
   "id": "5e2179f7-bcc6-4942-b222-b6ab4026f934",
   "metadata": {},
   "outputs": [
    {
     "data": {
      "text/html": [
       "<div>\n",
       "<style scoped>\n",
       "    .dataframe tbody tr th:only-of-type {\n",
       "        vertical-align: middle;\n",
       "    }\n",
       "\n",
       "    .dataframe tbody tr th {\n",
       "        vertical-align: top;\n",
       "    }\n",
       "\n",
       "    .dataframe thead th {\n",
       "        text-align: right;\n",
       "    }\n",
       "</style>\n",
       "<table border=\"1\" class=\"dataframe\">\n",
       "  <thead>\n",
       "    <tr style=\"text-align: right;\">\n",
       "      <th></th>\n",
       "      <th>Release_Date</th>\n",
       "      <th>Title</th>\n",
       "      <th>Overview</th>\n",
       "      <th>Popularity</th>\n",
       "      <th>Vote_Count</th>\n",
       "      <th>Vote_Average</th>\n",
       "      <th>Original_Language</th>\n",
       "      <th>Genre</th>\n",
       "      <th>Poster_Url</th>\n",
       "    </tr>\n",
       "  </thead>\n",
       "  <tbody>\n",
       "    <tr>\n",
       "      <th>0</th>\n",
       "      <td>2021</td>\n",
       "      <td>Spider-Man: No Way Home</td>\n",
       "      <td>Peter Parker is unmasked and no longer able to...</td>\n",
       "      <td>63.786</td>\n",
       "      <td>3221</td>\n",
       "      <td>8.3</td>\n",
       "      <td>en</td>\n",
       "      <td>Action, Adventure, Science Fiction</td>\n",
       "      <td>https://image.tmdb.org/t/p/original/1g0dhYtq4i...</td>\n",
       "    </tr>\n",
       "    <tr>\n",
       "      <th>1</th>\n",
       "      <td>2022</td>\n",
       "      <td>The Batman</td>\n",
       "      <td>In his second year of fighting crime, Batman u...</td>\n",
       "      <td>63.786</td>\n",
       "      <td>1151</td>\n",
       "      <td>8.1</td>\n",
       "      <td>en</td>\n",
       "      <td>Crime, Mystery, Thriller</td>\n",
       "      <td>https://image.tmdb.org/t/p/original/74xTEgt7R3...</td>\n",
       "    </tr>\n",
       "    <tr>\n",
       "      <th>2</th>\n",
       "      <td>2022</td>\n",
       "      <td>No Exit</td>\n",
       "      <td>Stranded at a rest stop in the mountains durin...</td>\n",
       "      <td>63.786</td>\n",
       "      <td>122</td>\n",
       "      <td>6.3</td>\n",
       "      <td>en</td>\n",
       "      <td>Thriller</td>\n",
       "      <td>https://image.tmdb.org/t/p/original/vDHsLnOWKl...</td>\n",
       "    </tr>\n",
       "    <tr>\n",
       "      <th>3</th>\n",
       "      <td>2021</td>\n",
       "      <td>Encanto</td>\n",
       "      <td>The tale of an extraordinary family, the Madri...</td>\n",
       "      <td>63.786</td>\n",
       "      <td>3221</td>\n",
       "      <td>7.7</td>\n",
       "      <td>en</td>\n",
       "      <td>Animation, Comedy, Family, Fantasy</td>\n",
       "      <td>https://image.tmdb.org/t/p/original/4j0PNHkMr5...</td>\n",
       "    </tr>\n",
       "    <tr>\n",
       "      <th>4</th>\n",
       "      <td>2021</td>\n",
       "      <td>The King's Man</td>\n",
       "      <td>As a collection of history's worst tyrants and...</td>\n",
       "      <td>63.786</td>\n",
       "      <td>1793</td>\n",
       "      <td>7.0</td>\n",
       "      <td>en</td>\n",
       "      <td>Action, Adventure, Thriller, War</td>\n",
       "      <td>https://image.tmdb.org/t/p/original/aq4Pwv5Xeu...</td>\n",
       "    </tr>\n",
       "  </tbody>\n",
       "</table>\n",
       "</div>"
      ],
      "text/plain": [
       "   Release_Date                    Title  \\\n",
       "0          2021  Spider-Man: No Way Home   \n",
       "1          2022               The Batman   \n",
       "2          2022                  No Exit   \n",
       "3          2021                  Encanto   \n",
       "4          2021           The King's Man   \n",
       "\n",
       "                                            Overview  Popularity  Vote_Count  \\\n",
       "0  Peter Parker is unmasked and no longer able to...      63.786        3221   \n",
       "1  In his second year of fighting crime, Batman u...      63.786        1151   \n",
       "2  Stranded at a rest stop in the mountains durin...      63.786         122   \n",
       "3  The tale of an extraordinary family, the Madri...      63.786        3221   \n",
       "4  As a collection of history's worst tyrants and...      63.786        1793   \n",
       "\n",
       "   Vote_Average Original_Language                               Genre  \\\n",
       "0           8.3                en  Action, Adventure, Science Fiction   \n",
       "1           8.1                en            Crime, Mystery, Thriller   \n",
       "2           6.3                en                            Thriller   \n",
       "3           7.7                en  Animation, Comedy, Family, Fantasy   \n",
       "4           7.0                en    Action, Adventure, Thriller, War   \n",
       "\n",
       "                                          Poster_Url  \n",
       "0  https://image.tmdb.org/t/p/original/1g0dhYtq4i...  \n",
       "1  https://image.tmdb.org/t/p/original/74xTEgt7R3...  \n",
       "2  https://image.tmdb.org/t/p/original/vDHsLnOWKl...  \n",
       "3  https://image.tmdb.org/t/p/original/4j0PNHkMr5...  \n",
       "4  https://image.tmdb.org/t/p/original/aq4Pwv5Xeu...  "
      ]
     },
     "execution_count": 506,
     "metadata": {},
     "output_type": "execute_result"
    }
   ],
   "source": [
    "df.head()"
   ]
  },
  {
   "cell_type": "code",
   "execution_count": 507,
   "id": "1b69b329-415b-448a-b2ef-339f9d1af292",
   "metadata": {},
   "outputs": [],
   "source": [
    "df = df.drop(columns=['Poster_Url'], axis=1)\n"
   ]
  },
  {
   "cell_type": "code",
   "execution_count": 508,
   "id": "ae837ce9-8944-4499-aae4-bf326edbcf70",
   "metadata": {},
   "outputs": [
    {
     "data": {
      "text/html": [
       "<div>\n",
       "<style scoped>\n",
       "    .dataframe tbody tr th:only-of-type {\n",
       "        vertical-align: middle;\n",
       "    }\n",
       "\n",
       "    .dataframe tbody tr th {\n",
       "        vertical-align: top;\n",
       "    }\n",
       "\n",
       "    .dataframe thead th {\n",
       "        text-align: right;\n",
       "    }\n",
       "</style>\n",
       "<table border=\"1\" class=\"dataframe\">\n",
       "  <thead>\n",
       "    <tr style=\"text-align: right;\">\n",
       "      <th></th>\n",
       "      <th>Release_Date</th>\n",
       "      <th>Title</th>\n",
       "      <th>Overview</th>\n",
       "      <th>Popularity</th>\n",
       "      <th>Vote_Count</th>\n",
       "      <th>Vote_Average</th>\n",
       "      <th>Original_Language</th>\n",
       "      <th>Genre</th>\n",
       "    </tr>\n",
       "  </thead>\n",
       "  <tbody>\n",
       "    <tr>\n",
       "      <th>0</th>\n",
       "      <td>2021</td>\n",
       "      <td>Spider-Man: No Way Home</td>\n",
       "      <td>Peter Parker is unmasked and no longer able to...</td>\n",
       "      <td>63.786</td>\n",
       "      <td>3221</td>\n",
       "      <td>8.3</td>\n",
       "      <td>en</td>\n",
       "      <td>Action, Adventure, Science Fiction</td>\n",
       "    </tr>\n",
       "    <tr>\n",
       "      <th>1</th>\n",
       "      <td>2022</td>\n",
       "      <td>The Batman</td>\n",
       "      <td>In his second year of fighting crime, Batman u...</td>\n",
       "      <td>63.786</td>\n",
       "      <td>1151</td>\n",
       "      <td>8.1</td>\n",
       "      <td>en</td>\n",
       "      <td>Crime, Mystery, Thriller</td>\n",
       "    </tr>\n",
       "    <tr>\n",
       "      <th>2</th>\n",
       "      <td>2022</td>\n",
       "      <td>No Exit</td>\n",
       "      <td>Stranded at a rest stop in the mountains durin...</td>\n",
       "      <td>63.786</td>\n",
       "      <td>122</td>\n",
       "      <td>6.3</td>\n",
       "      <td>en</td>\n",
       "      <td>Thriller</td>\n",
       "    </tr>\n",
       "    <tr>\n",
       "      <th>3</th>\n",
       "      <td>2021</td>\n",
       "      <td>Encanto</td>\n",
       "      <td>The tale of an extraordinary family, the Madri...</td>\n",
       "      <td>63.786</td>\n",
       "      <td>3221</td>\n",
       "      <td>7.7</td>\n",
       "      <td>en</td>\n",
       "      <td>Animation, Comedy, Family, Fantasy</td>\n",
       "    </tr>\n",
       "    <tr>\n",
       "      <th>4</th>\n",
       "      <td>2021</td>\n",
       "      <td>The King's Man</td>\n",
       "      <td>As a collection of history's worst tyrants and...</td>\n",
       "      <td>63.786</td>\n",
       "      <td>1793</td>\n",
       "      <td>7.0</td>\n",
       "      <td>en</td>\n",
       "      <td>Action, Adventure, Thriller, War</td>\n",
       "    </tr>\n",
       "  </tbody>\n",
       "</table>\n",
       "</div>"
      ],
      "text/plain": [
       "   Release_Date                    Title  \\\n",
       "0          2021  Spider-Man: No Way Home   \n",
       "1          2022               The Batman   \n",
       "2          2022                  No Exit   \n",
       "3          2021                  Encanto   \n",
       "4          2021           The King's Man   \n",
       "\n",
       "                                            Overview  Popularity  Vote_Count  \\\n",
       "0  Peter Parker is unmasked and no longer able to...      63.786        3221   \n",
       "1  In his second year of fighting crime, Batman u...      63.786        1151   \n",
       "2  Stranded at a rest stop in the mountains durin...      63.786         122   \n",
       "3  The tale of an extraordinary family, the Madri...      63.786        3221   \n",
       "4  As a collection of history's worst tyrants and...      63.786        1793   \n",
       "\n",
       "   Vote_Average Original_Language                               Genre  \n",
       "0           8.3                en  Action, Adventure, Science Fiction  \n",
       "1           8.1                en            Crime, Mystery, Thriller  \n",
       "2           6.3                en                            Thriller  \n",
       "3           7.7                en  Animation, Comedy, Family, Fantasy  \n",
       "4           7.0                en    Action, Adventure, Thriller, War  "
      ]
     },
     "execution_count": 508,
     "metadata": {},
     "output_type": "execute_result"
    }
   ],
   "source": [
    "df.head()"
   ]
  },
  {
   "cell_type": "code",
   "execution_count": 509,
   "id": "7b30f2d8-6ef8-452b-b330-27e73e8f220c",
   "metadata": {},
   "outputs": [
    {
     "data": {
      "text/html": [
       "<div>\n",
       "<style scoped>\n",
       "    .dataframe tbody tr th:only-of-type {\n",
       "        vertical-align: middle;\n",
       "    }\n",
       "\n",
       "    .dataframe tbody tr th {\n",
       "        vertical-align: top;\n",
       "    }\n",
       "\n",
       "    .dataframe thead th {\n",
       "        text-align: right;\n",
       "    }\n",
       "</style>\n",
       "<table border=\"1\" class=\"dataframe\">\n",
       "  <thead>\n",
       "    <tr style=\"text-align: right;\">\n",
       "      <th></th>\n",
       "      <th>Release_Date</th>\n",
       "      <th>Popularity</th>\n",
       "      <th>Vote_Count</th>\n",
       "      <th>Vote_Average</th>\n",
       "    </tr>\n",
       "  </thead>\n",
       "  <tbody>\n",
       "    <tr>\n",
       "      <th>count</th>\n",
       "      <td>9827.000000</td>\n",
       "      <td>9827.000000</td>\n",
       "      <td>9827.000000</td>\n",
       "      <td>9827.00000</td>\n",
       "    </tr>\n",
       "    <tr>\n",
       "      <th>mean</th>\n",
       "      <td>2006.203623</td>\n",
       "      <td>28.362255</td>\n",
       "      <td>944.255012</td>\n",
       "      <td>6.48962</td>\n",
       "    </tr>\n",
       "    <tr>\n",
       "      <th>std</th>\n",
       "      <td>15.685554</td>\n",
       "      <td>16.344671</td>\n",
       "      <td>1070.953996</td>\n",
       "      <td>0.92359</td>\n",
       "    </tr>\n",
       "    <tr>\n",
       "      <th>min</th>\n",
       "      <td>1902.000000</td>\n",
       "      <td>13.354000</td>\n",
       "      <td>0.000000</td>\n",
       "      <td>4.10000</td>\n",
       "    </tr>\n",
       "    <tr>\n",
       "      <th>25%</th>\n",
       "      <td>2000.000000</td>\n",
       "      <td>16.128500</td>\n",
       "      <td>146.000000</td>\n",
       "      <td>5.90000</td>\n",
       "    </tr>\n",
       "    <tr>\n",
       "      <th>50%</th>\n",
       "      <td>2011.000000</td>\n",
       "      <td>21.199000</td>\n",
       "      <td>444.000000</td>\n",
       "      <td>6.50000</td>\n",
       "    </tr>\n",
       "    <tr>\n",
       "      <th>75%</th>\n",
       "      <td>2017.000000</td>\n",
       "      <td>35.191500</td>\n",
       "      <td>1376.000000</td>\n",
       "      <td>7.10000</td>\n",
       "    </tr>\n",
       "    <tr>\n",
       "      <th>max</th>\n",
       "      <td>2024.000000</td>\n",
       "      <td>63.786000</td>\n",
       "      <td>3221.000000</td>\n",
       "      <td>8.90000</td>\n",
       "    </tr>\n",
       "  </tbody>\n",
       "</table>\n",
       "</div>"
      ],
      "text/plain": [
       "       Release_Date   Popularity   Vote_Count  Vote_Average\n",
       "count   9827.000000  9827.000000  9827.000000    9827.00000\n",
       "mean    2006.203623    28.362255   944.255012       6.48962\n",
       "std       15.685554    16.344671  1070.953996       0.92359\n",
       "min     1902.000000    13.354000     0.000000       4.10000\n",
       "25%     2000.000000    16.128500   146.000000       5.90000\n",
       "50%     2011.000000    21.199000   444.000000       6.50000\n",
       "75%     2017.000000    35.191500  1376.000000       7.10000\n",
       "max     2024.000000    63.786000  3221.000000       8.90000"
      ]
     },
     "execution_count": 509,
     "metadata": {},
     "output_type": "execute_result"
    }
   ],
   "source": [
    "df.describe()"
   ]
  },
  {
   "cell_type": "code",
   "execution_count": 513,
   "id": "760f41fc-27cd-46e9-b476-4dc1f543d25c",
   "metadata": {},
   "outputs": [],
   "source": [
    "def cate_col(df,col,labels):\n",
    "    edges = [df[col].describe()['min']-0.01,\n",
    "             df[col].describe()['25%'],\n",
    "             df[col].describe()['50%'],\n",
    "             df[col].describe()['75%'],\n",
    "             df[col].describe()['max']]\n",
    "\n",
    "    df[col] = pd.cut(df[col], bins=len(labels), labels=labels, duplicates='drop')\n",
    "    return df"
   ]
  },
  {
   "cell_type": "code",
   "execution_count": 514,
   "id": "63d78201-45df-4067-a05a-a1c2d70f8cfb",
   "metadata": {},
   "outputs": [],
   "source": [
    "labels = [\"least\",\"Very Low\", \"Low\", \"Medium\", \"High\"]\n",
    "df = cate_col(df, 'Vote_Average', labels)"
   ]
  },
  {
   "cell_type": "code",
   "execution_count": 515,
   "id": "b85963c7-e910-47b1-b22a-aaaef4486d03",
   "metadata": {},
   "outputs": [
    {
     "data": {
      "text/plain": [
       "['High', 'Low', 'Medium', 'Very Low', 'least']\n",
       "Categories (5, object): ['least' < 'Very Low' < 'Low' < 'Medium' < 'High']"
      ]
     },
     "execution_count": 515,
     "metadata": {},
     "output_type": "execute_result"
    }
   ],
   "source": [
    "df['Vote_Average'].unique()"
   ]
  },
  {
   "cell_type": "code",
   "execution_count": 516,
   "id": "1c72424a-d22a-4e32-8778-0a3e9198ee8c",
   "metadata": {},
   "outputs": [
    {
     "data": {
      "text/html": [
       "<div>\n",
       "<style scoped>\n",
       "    .dataframe tbody tr th:only-of-type {\n",
       "        vertical-align: middle;\n",
       "    }\n",
       "\n",
       "    .dataframe tbody tr th {\n",
       "        vertical-align: top;\n",
       "    }\n",
       "\n",
       "    .dataframe thead th {\n",
       "        text-align: right;\n",
       "    }\n",
       "</style>\n",
       "<table border=\"1\" class=\"dataframe\">\n",
       "  <thead>\n",
       "    <tr style=\"text-align: right;\">\n",
       "      <th></th>\n",
       "      <th>Release_Date</th>\n",
       "      <th>Title</th>\n",
       "      <th>Overview</th>\n",
       "      <th>Popularity</th>\n",
       "      <th>Vote_Count</th>\n",
       "      <th>Vote_Average</th>\n",
       "      <th>Original_Language</th>\n",
       "      <th>Genre</th>\n",
       "    </tr>\n",
       "  </thead>\n",
       "  <tbody>\n",
       "    <tr>\n",
       "      <th>0</th>\n",
       "      <td>2021</td>\n",
       "      <td>Spider-Man: No Way Home</td>\n",
       "      <td>Peter Parker is unmasked and no longer able to...</td>\n",
       "      <td>63.786</td>\n",
       "      <td>3221</td>\n",
       "      <td>High</td>\n",
       "      <td>en</td>\n",
       "      <td>Action, Adventure, Science Fiction</td>\n",
       "    </tr>\n",
       "    <tr>\n",
       "      <th>1</th>\n",
       "      <td>2022</td>\n",
       "      <td>The Batman</td>\n",
       "      <td>In his second year of fighting crime, Batman u...</td>\n",
       "      <td>63.786</td>\n",
       "      <td>1151</td>\n",
       "      <td>High</td>\n",
       "      <td>en</td>\n",
       "      <td>Crime, Mystery, Thriller</td>\n",
       "    </tr>\n",
       "    <tr>\n",
       "      <th>2</th>\n",
       "      <td>2022</td>\n",
       "      <td>No Exit</td>\n",
       "      <td>Stranded at a rest stop in the mountains durin...</td>\n",
       "      <td>63.786</td>\n",
       "      <td>122</td>\n",
       "      <td>Low</td>\n",
       "      <td>en</td>\n",
       "      <td>Thriller</td>\n",
       "    </tr>\n",
       "    <tr>\n",
       "      <th>3</th>\n",
       "      <td>2021</td>\n",
       "      <td>Encanto</td>\n",
       "      <td>The tale of an extraordinary family, the Madri...</td>\n",
       "      <td>63.786</td>\n",
       "      <td>3221</td>\n",
       "      <td>Medium</td>\n",
       "      <td>en</td>\n",
       "      <td>Animation, Comedy, Family, Fantasy</td>\n",
       "    </tr>\n",
       "    <tr>\n",
       "      <th>4</th>\n",
       "      <td>2021</td>\n",
       "      <td>The King's Man</td>\n",
       "      <td>As a collection of history's worst tyrants and...</td>\n",
       "      <td>63.786</td>\n",
       "      <td>1793</td>\n",
       "      <td>Medium</td>\n",
       "      <td>en</td>\n",
       "      <td>Action, Adventure, Thriller, War</td>\n",
       "    </tr>\n",
       "  </tbody>\n",
       "</table>\n",
       "</div>"
      ],
      "text/plain": [
       "   Release_Date                    Title  \\\n",
       "0          2021  Spider-Man: No Way Home   \n",
       "1          2022               The Batman   \n",
       "2          2022                  No Exit   \n",
       "3          2021                  Encanto   \n",
       "4          2021           The King's Man   \n",
       "\n",
       "                                            Overview  Popularity  Vote_Count  \\\n",
       "0  Peter Parker is unmasked and no longer able to...      63.786        3221   \n",
       "1  In his second year of fighting crime, Batman u...      63.786        1151   \n",
       "2  Stranded at a rest stop in the mountains durin...      63.786         122   \n",
       "3  The tale of an extraordinary family, the Madri...      63.786        3221   \n",
       "4  As a collection of history's worst tyrants and...      63.786        1793   \n",
       "\n",
       "  Vote_Average Original_Language                               Genre  \n",
       "0         High                en  Action, Adventure, Science Fiction  \n",
       "1         High                en            Crime, Mystery, Thriller  \n",
       "2          Low                en                            Thriller  \n",
       "3       Medium                en  Animation, Comedy, Family, Fantasy  \n",
       "4       Medium                en    Action, Adventure, Thriller, War  "
      ]
     },
     "execution_count": 516,
     "metadata": {},
     "output_type": "execute_result"
    }
   ],
   "source": [
    "df.head()"
   ]
  },
  {
   "cell_type": "code",
   "execution_count": 517,
   "id": "af7911cf-7eaa-4957-af07-4760383500a4",
   "metadata": {},
   "outputs": [
    {
     "data": {
      "text/html": [
       "<div>\n",
       "<style scoped>\n",
       "    .dataframe tbody tr th:only-of-type {\n",
       "        vertical-align: middle;\n",
       "    }\n",
       "\n",
       "    .dataframe tbody tr th {\n",
       "        vertical-align: top;\n",
       "    }\n",
       "\n",
       "    .dataframe thead th {\n",
       "        text-align: right;\n",
       "    }\n",
       "</style>\n",
       "<table border=\"1\" class=\"dataframe\">\n",
       "  <thead>\n",
       "    <tr style=\"text-align: right;\">\n",
       "      <th></th>\n",
       "      <th>Release_Date</th>\n",
       "      <th>Title</th>\n",
       "      <th>Overview</th>\n",
       "      <th>Popularity</th>\n",
       "      <th>Vote_Count</th>\n",
       "      <th>Vote_Average</th>\n",
       "      <th>Original_Language</th>\n",
       "      <th>Genre</th>\n",
       "    </tr>\n",
       "  </thead>\n",
       "  <tbody>\n",
       "    <tr>\n",
       "      <th>9822</th>\n",
       "      <td>1973</td>\n",
       "      <td>Badlands</td>\n",
       "      <td>A dramatization of the Starkweather-Fugate kil...</td>\n",
       "      <td>13.357</td>\n",
       "      <td>896</td>\n",
       "      <td>Medium</td>\n",
       "      <td>en</td>\n",
       "      <td>Drama, Crime</td>\n",
       "    </tr>\n",
       "    <tr>\n",
       "      <th>9823</th>\n",
       "      <td>2020</td>\n",
       "      <td>Violent Delights</td>\n",
       "      <td>A female vampire falls in love with a man she ...</td>\n",
       "      <td>13.356</td>\n",
       "      <td>8</td>\n",
       "      <td>least</td>\n",
       "      <td>es</td>\n",
       "      <td>Horror</td>\n",
       "    </tr>\n",
       "    <tr>\n",
       "      <th>9824</th>\n",
       "      <td>2016</td>\n",
       "      <td>The Offering</td>\n",
       "      <td>When young and successful reporter Jamie finds...</td>\n",
       "      <td>13.355</td>\n",
       "      <td>94</td>\n",
       "      <td>least</td>\n",
       "      <td>en</td>\n",
       "      <td>Mystery, Thriller, Horror</td>\n",
       "    </tr>\n",
       "    <tr>\n",
       "      <th>9825</th>\n",
       "      <td>2021</td>\n",
       "      <td>The United States vs. Billie Holiday</td>\n",
       "      <td>Billie Holiday spent much of her career being ...</td>\n",
       "      <td>13.354</td>\n",
       "      <td>152</td>\n",
       "      <td>Low</td>\n",
       "      <td>en</td>\n",
       "      <td>Music, Drama, History</td>\n",
       "    </tr>\n",
       "    <tr>\n",
       "      <th>9826</th>\n",
       "      <td>1984</td>\n",
       "      <td>Threads</td>\n",
       "      <td>Documentary style account of a nuclear holocau...</td>\n",
       "      <td>13.354</td>\n",
       "      <td>186</td>\n",
       "      <td>Medium</td>\n",
       "      <td>en</td>\n",
       "      <td>War, Drama, Science Fiction</td>\n",
       "    </tr>\n",
       "  </tbody>\n",
       "</table>\n",
       "</div>"
      ],
      "text/plain": [
       "      Release_Date                                 Title  \\\n",
       "9822          1973                              Badlands   \n",
       "9823          2020                      Violent Delights   \n",
       "9824          2016                          The Offering   \n",
       "9825          2021  The United States vs. Billie Holiday   \n",
       "9826          1984                               Threads   \n",
       "\n",
       "                                               Overview  Popularity  \\\n",
       "9822  A dramatization of the Starkweather-Fugate kil...      13.357   \n",
       "9823  A female vampire falls in love with a man she ...      13.356   \n",
       "9824  When young and successful reporter Jamie finds...      13.355   \n",
       "9825  Billie Holiday spent much of her career being ...      13.354   \n",
       "9826  Documentary style account of a nuclear holocau...      13.354   \n",
       "\n",
       "      Vote_Count Vote_Average Original_Language                        Genre  \n",
       "9822         896       Medium                en                 Drama, Crime  \n",
       "9823           8        least                es                       Horror  \n",
       "9824          94        least                en    Mystery, Thriller, Horror  \n",
       "9825         152          Low                en        Music, Drama, History  \n",
       "9826         186       Medium                en  War, Drama, Science Fiction  "
      ]
     },
     "execution_count": 517,
     "metadata": {},
     "output_type": "execute_result"
    }
   ],
   "source": [
    "df.tail()"
   ]
  },
  {
   "cell_type": "code",
   "execution_count": 518,
   "id": "7c9b6b86-df75-48ac-b5d4-2d1763d16b50",
   "metadata": {},
   "outputs": [
    {
     "data": {
      "text/plain": [
       "Release_Date         0\n",
       "Title                0\n",
       "Overview             0\n",
       "Popularity           0\n",
       "Vote_Count           0\n",
       "Vote_Average         0\n",
       "Original_Language    0\n",
       "Genre                0\n",
       "dtype: int64"
      ]
     },
     "execution_count": 518,
     "metadata": {},
     "output_type": "execute_result"
    }
   ],
   "source": [
    "df.isna().sum()"
   ]
  },
  {
   "cell_type": "code",
   "execution_count": 519,
   "id": "8ad2a60c-6aad-47ad-8c05-48820e340f16",
   "metadata": {},
   "outputs": [
    {
     "data": {
      "text/html": [
       "<div>\n",
       "<style scoped>\n",
       "    .dataframe tbody tr th:only-of-type {\n",
       "        vertical-align: middle;\n",
       "    }\n",
       "\n",
       "    .dataframe tbody tr th {\n",
       "        vertical-align: top;\n",
       "    }\n",
       "\n",
       "    .dataframe thead th {\n",
       "        text-align: right;\n",
       "    }\n",
       "</style>\n",
       "<table border=\"1\" class=\"dataframe\">\n",
       "  <thead>\n",
       "    <tr style=\"text-align: right;\">\n",
       "      <th></th>\n",
       "      <th>Release_Date</th>\n",
       "      <th>Title</th>\n",
       "      <th>Overview</th>\n",
       "      <th>Popularity</th>\n",
       "      <th>Vote_Count</th>\n",
       "      <th>Vote_Average</th>\n",
       "      <th>Original_Language</th>\n",
       "      <th>Genre</th>\n",
       "    </tr>\n",
       "  </thead>\n",
       "  <tbody>\n",
       "  </tbody>\n",
       "</table>\n",
       "</div>"
      ],
      "text/plain": [
       "Empty DataFrame\n",
       "Columns: [Release_Date, Title, Overview, Popularity, Vote_Count, Vote_Average, Original_Language, Genre]\n",
       "Index: []"
      ]
     },
     "execution_count": 519,
     "metadata": {},
     "output_type": "execute_result"
    }
   ],
   "source": [
    "df[df['Vote_Average'].isna()]\n"
   ]
  },
  {
   "cell_type": "code",
   "execution_count": 521,
   "id": "f53ab034-8429-47cb-8c38-4442f234b985",
   "metadata": {},
   "outputs": [],
   "source": [
    "# df['Vote_Average'] = df['Vote_Average'].fillna(\"bad\")"
   ]
  },
  {
   "cell_type": "code",
   "execution_count": 522,
   "id": "c63297eb-f6aa-4e49-81fb-8227c21ae299",
   "metadata": {},
   "outputs": [
    {
     "data": {
      "text/html": [
       "<div>\n",
       "<style scoped>\n",
       "    .dataframe tbody tr th:only-of-type {\n",
       "        vertical-align: middle;\n",
       "    }\n",
       "\n",
       "    .dataframe tbody tr th {\n",
       "        vertical-align: top;\n",
       "    }\n",
       "\n",
       "    .dataframe thead th {\n",
       "        text-align: right;\n",
       "    }\n",
       "</style>\n",
       "<table border=\"1\" class=\"dataframe\">\n",
       "  <thead>\n",
       "    <tr style=\"text-align: right;\">\n",
       "      <th></th>\n",
       "      <th>Release_Date</th>\n",
       "      <th>Title</th>\n",
       "      <th>Overview</th>\n",
       "      <th>Popularity</th>\n",
       "      <th>Vote_Count</th>\n",
       "      <th>Vote_Average</th>\n",
       "      <th>Original_Language</th>\n",
       "      <th>Genre</th>\n",
       "    </tr>\n",
       "  </thead>\n",
       "  <tbody>\n",
       "    <tr>\n",
       "      <th>9822</th>\n",
       "      <td>1973</td>\n",
       "      <td>Badlands</td>\n",
       "      <td>A dramatization of the Starkweather-Fugate kil...</td>\n",
       "      <td>13.357</td>\n",
       "      <td>896</td>\n",
       "      <td>Medium</td>\n",
       "      <td>en</td>\n",
       "      <td>Drama, Crime</td>\n",
       "    </tr>\n",
       "    <tr>\n",
       "      <th>9823</th>\n",
       "      <td>2020</td>\n",
       "      <td>Violent Delights</td>\n",
       "      <td>A female vampire falls in love with a man she ...</td>\n",
       "      <td>13.356</td>\n",
       "      <td>8</td>\n",
       "      <td>least</td>\n",
       "      <td>es</td>\n",
       "      <td>Horror</td>\n",
       "    </tr>\n",
       "    <tr>\n",
       "      <th>9824</th>\n",
       "      <td>2016</td>\n",
       "      <td>The Offering</td>\n",
       "      <td>When young and successful reporter Jamie finds...</td>\n",
       "      <td>13.355</td>\n",
       "      <td>94</td>\n",
       "      <td>least</td>\n",
       "      <td>en</td>\n",
       "      <td>Mystery, Thriller, Horror</td>\n",
       "    </tr>\n",
       "    <tr>\n",
       "      <th>9825</th>\n",
       "      <td>2021</td>\n",
       "      <td>The United States vs. Billie Holiday</td>\n",
       "      <td>Billie Holiday spent much of her career being ...</td>\n",
       "      <td>13.354</td>\n",
       "      <td>152</td>\n",
       "      <td>Low</td>\n",
       "      <td>en</td>\n",
       "      <td>Music, Drama, History</td>\n",
       "    </tr>\n",
       "    <tr>\n",
       "      <th>9826</th>\n",
       "      <td>1984</td>\n",
       "      <td>Threads</td>\n",
       "      <td>Documentary style account of a nuclear holocau...</td>\n",
       "      <td>13.354</td>\n",
       "      <td>186</td>\n",
       "      <td>Medium</td>\n",
       "      <td>en</td>\n",
       "      <td>War, Drama, Science Fiction</td>\n",
       "    </tr>\n",
       "  </tbody>\n",
       "</table>\n",
       "</div>"
      ],
      "text/plain": [
       "      Release_Date                                 Title  \\\n",
       "9822          1973                              Badlands   \n",
       "9823          2020                      Violent Delights   \n",
       "9824          2016                          The Offering   \n",
       "9825          2021  The United States vs. Billie Holiday   \n",
       "9826          1984                               Threads   \n",
       "\n",
       "                                               Overview  Popularity  \\\n",
       "9822  A dramatization of the Starkweather-Fugate kil...      13.357   \n",
       "9823  A female vampire falls in love with a man she ...      13.356   \n",
       "9824  When young and successful reporter Jamie finds...      13.355   \n",
       "9825  Billie Holiday spent much of her career being ...      13.354   \n",
       "9826  Documentary style account of a nuclear holocau...      13.354   \n",
       "\n",
       "      Vote_Count Vote_Average Original_Language                        Genre  \n",
       "9822         896       Medium                en                 Drama, Crime  \n",
       "9823           8        least                es                       Horror  \n",
       "9824          94        least                en    Mystery, Thriller, Horror  \n",
       "9825         152          Low                en        Music, Drama, History  \n",
       "9826         186       Medium                en  War, Drama, Science Fiction  "
      ]
     },
     "execution_count": 522,
     "metadata": {},
     "output_type": "execute_result"
    }
   ],
   "source": [
    "df.tail()"
   ]
  },
  {
   "cell_type": "code",
   "execution_count": null,
   "id": "e7bdc80b-b764-435c-886f-e8c9fb1e1821",
   "metadata": {},
   "outputs": [],
   "source": []
  },
  {
   "cell_type": "code",
   "execution_count": null,
   "id": "c176c807-24b3-4ffd-8677-a34b4484fa65",
   "metadata": {},
   "outputs": [],
   "source": []
  },
  {
   "cell_type": "code",
   "execution_count": null,
   "id": "d2dbdc38-a094-4387-bcba-0eccb6256111",
   "metadata": {},
   "outputs": [],
   "source": []
  },
  {
   "cell_type": "code",
   "execution_count": null,
   "id": "d816ece5-b0bc-4804-934f-5d30d1ef7d32",
   "metadata": {},
   "outputs": [],
   "source": []
  }
 ],
 "metadata": {
  "kernelspec": {
   "display_name": "Python 3 (ipykernel)",
   "language": "python",
   "name": "python3"
  },
  "language_info": {
   "codemirror_mode": {
    "name": "ipython",
    "version": 3
   },
   "file_extension": ".py",
   "mimetype": "text/x-python",
   "name": "python",
   "nbconvert_exporter": "python",
   "pygments_lexer": "ipython3",
   "version": "3.13.5"
  }
 },
 "nbformat": 4,
 "nbformat_minor": 5
}
