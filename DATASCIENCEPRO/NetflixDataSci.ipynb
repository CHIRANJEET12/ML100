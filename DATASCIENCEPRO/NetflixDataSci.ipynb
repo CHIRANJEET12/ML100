{
 "cells": [
  {
   "cell_type": "code",
   "execution_count": 10,
   "id": "cc1cf883-14a6-45a4-aaf8-c788b44e7625",
   "metadata": {},
   "outputs": [],
   "source": [
    "import numpy as np\n",
    "import pandas as pd\n",
    "import matplotlib.pyplot as plt\n",
    "import seaborn as sns"
   ]
  },
  {
   "cell_type": "code",
   "execution_count": 11,
   "id": "2e4baf8e-d955-4520-8d0b-ac36df43e4d3",
   "metadata": {},
   "outputs": [
    {
     "data": {
      "text/html": [
       "<div>\n",
       "<style scoped>\n",
       "    .dataframe tbody tr th:only-of-type {\n",
       "        vertical-align: middle;\n",
       "    }\n",
       "\n",
       "    .dataframe tbody tr th {\n",
       "        vertical-align: top;\n",
       "    }\n",
       "\n",
       "    .dataframe thead th {\n",
       "        text-align: right;\n",
       "    }\n",
       "</style>\n",
       "<table border=\"1\" class=\"dataframe\">\n",
       "  <thead>\n",
       "    <tr style=\"text-align: right;\">\n",
       "      <th></th>\n",
       "      <th>Release_Date</th>\n",
       "      <th>Title</th>\n",
       "      <th>Overview</th>\n",
       "      <th>Popularity</th>\n",
       "      <th>Vote_Count</th>\n",
       "      <th>Vote_Average</th>\n",
       "      <th>Original_Language</th>\n",
       "      <th>Genre</th>\n",
       "      <th>Poster_Url</th>\n",
       "    </tr>\n",
       "  </thead>\n",
       "  <tbody>\n",
       "    <tr>\n",
       "      <th>0</th>\n",
       "      <td>2021-12-15</td>\n",
       "      <td>Spider-Man: No Way Home</td>\n",
       "      <td>Peter Parker is unmasked and no longer able to...</td>\n",
       "      <td>5083.954</td>\n",
       "      <td>8940</td>\n",
       "      <td>8.3</td>\n",
       "      <td>en</td>\n",
       "      <td>Action, Adventure, Science Fiction</td>\n",
       "      <td>https://image.tmdb.org/t/p/original/1g0dhYtq4i...</td>\n",
       "    </tr>\n",
       "    <tr>\n",
       "      <th>1</th>\n",
       "      <td>2022-03-01</td>\n",
       "      <td>The Batman</td>\n",
       "      <td>In his second year of fighting crime, Batman u...</td>\n",
       "      <td>3827.658</td>\n",
       "      <td>1151</td>\n",
       "      <td>8.1</td>\n",
       "      <td>en</td>\n",
       "      <td>Crime, Mystery, Thriller</td>\n",
       "      <td>https://image.tmdb.org/t/p/original/74xTEgt7R3...</td>\n",
       "    </tr>\n",
       "    <tr>\n",
       "      <th>2</th>\n",
       "      <td>2022-02-25</td>\n",
       "      <td>No Exit</td>\n",
       "      <td>Stranded at a rest stop in the mountains durin...</td>\n",
       "      <td>2618.087</td>\n",
       "      <td>122</td>\n",
       "      <td>6.3</td>\n",
       "      <td>en</td>\n",
       "      <td>Thriller</td>\n",
       "      <td>https://image.tmdb.org/t/p/original/vDHsLnOWKl...</td>\n",
       "    </tr>\n",
       "    <tr>\n",
       "      <th>3</th>\n",
       "      <td>2021-11-24</td>\n",
       "      <td>Encanto</td>\n",
       "      <td>The tale of an extraordinary family, the Madri...</td>\n",
       "      <td>2402.201</td>\n",
       "      <td>5076</td>\n",
       "      <td>7.7</td>\n",
       "      <td>en</td>\n",
       "      <td>Animation, Comedy, Family, Fantasy</td>\n",
       "      <td>https://image.tmdb.org/t/p/original/4j0PNHkMr5...</td>\n",
       "    </tr>\n",
       "    <tr>\n",
       "      <th>4</th>\n",
       "      <td>2021-12-22</td>\n",
       "      <td>The King's Man</td>\n",
       "      <td>As a collection of history's worst tyrants and...</td>\n",
       "      <td>1895.511</td>\n",
       "      <td>1793</td>\n",
       "      <td>7.0</td>\n",
       "      <td>en</td>\n",
       "      <td>Action, Adventure, Thriller, War</td>\n",
       "      <td>https://image.tmdb.org/t/p/original/aq4Pwv5Xeu...</td>\n",
       "    </tr>\n",
       "  </tbody>\n",
       "</table>\n",
       "</div>"
      ],
      "text/plain": [
       "  Release_Date                    Title  \\\n",
       "0   2021-12-15  Spider-Man: No Way Home   \n",
       "1   2022-03-01               The Batman   \n",
       "2   2022-02-25                  No Exit   \n",
       "3   2021-11-24                  Encanto   \n",
       "4   2021-12-22           The King's Man   \n",
       "\n",
       "                                            Overview  Popularity  Vote_Count  \\\n",
       "0  Peter Parker is unmasked and no longer able to...    5083.954        8940   \n",
       "1  In his second year of fighting crime, Batman u...    3827.658        1151   \n",
       "2  Stranded at a rest stop in the mountains durin...    2618.087         122   \n",
       "3  The tale of an extraordinary family, the Madri...    2402.201        5076   \n",
       "4  As a collection of history's worst tyrants and...    1895.511        1793   \n",
       "\n",
       "   Vote_Average Original_Language                               Genre  \\\n",
       "0           8.3                en  Action, Adventure, Science Fiction   \n",
       "1           8.1                en            Crime, Mystery, Thriller   \n",
       "2           6.3                en                            Thriller   \n",
       "3           7.7                en  Animation, Comedy, Family, Fantasy   \n",
       "4           7.0                en    Action, Adventure, Thriller, War   \n",
       "\n",
       "                                          Poster_Url  \n",
       "0  https://image.tmdb.org/t/p/original/1g0dhYtq4i...  \n",
       "1  https://image.tmdb.org/t/p/original/74xTEgt7R3...  \n",
       "2  https://image.tmdb.org/t/p/original/vDHsLnOWKl...  \n",
       "3  https://image.tmdb.org/t/p/original/4j0PNHkMr5...  \n",
       "4  https://image.tmdb.org/t/p/original/aq4Pwv5Xeu...  "
      ]
     },
     "execution_count": 11,
     "metadata": {},
     "output_type": "execute_result"
    }
   ],
   "source": [
    "df = pd.read_csv(\"mymoviedb.csv\", lineterminator='\\n')\n",
    "df.head()"
   ]
  },
  {
   "cell_type": "code",
   "execution_count": 12,
   "id": "735c45e0-fab6-4847-bc21-2f9c7f1e3749",
   "metadata": {},
   "outputs": [
    {
     "data": {
      "text/plain": [
       "Release_Date         0\n",
       "Title                0\n",
       "Overview             0\n",
       "Popularity           0\n",
       "Vote_Count           0\n",
       "Vote_Average         0\n",
       "Original_Language    0\n",
       "Genre                0\n",
       "Poster_Url           0\n",
       "dtype: int64"
      ]
     },
     "execution_count": 12,
     "metadata": {},
     "output_type": "execute_result"
    }
   ],
   "source": [
    "df.isnull().sum()"
   ]
  },
  {
   "cell_type": "code",
   "execution_count": 13,
   "id": "947bf696-c872-45c1-bb44-a6551d903cf4",
   "metadata": {},
   "outputs": [
    {
     "data": {
      "image/png": "[encoded data removed]",
      "text/plain": [
       "<Figure size 640x480 with 1 Axes>"
      ]
     },
     "metadata": {},
     "output_type": "display_data"
    }
   ],
   "source": [
    "sns.histplot(df['Popularity'], kde=True)\n",
    "plt.show()"
   ]
  },
  {
   "cell_type": "code",
   "execution_count": 14,
   "id": "3443c27a-0123-4769-8a3d-b9cc0a612ce3",
   "metadata": {},
   "outputs": [
    {
     "name": "stdout",
     "output_type": "stream",
     "text": [
      "<class 'pandas.core.frame.DataFrame'>\n",
      "RangeIndex: 9827 entries, 0 to 9826\n",
      "Data columns (total 9 columns):\n",
      " #   Column             Non-Null Count  Dtype  \n",
      "---  ------             --------------  -----  \n",
      " 0   Release_Date       9827 non-null   object \n",
      " 1   Title              9827 non-null   object \n",
      " 2   Overview           9827 non-null   object \n",
      " 3   Popularity         9827 non-null   float64\n",
      " 4   Vote_Count         9827 non-null   int64  \n",
      " 5   Vote_Average       9827 non-null   float64\n",
      " 6   Original_Language  9827 non-null   object \n",
      " 7   Genre              9827 non-null   object \n",
      " 8   Poster_Url         9827 non-null   object \n",
      "dtypes: float64(2), int64(1), object(6)\n",
      "memory usage: 691.1+ KB\n"
     ]
    }
   ],
   "source": [
    "df.info()"
   ]
  },
  {
   "cell_type": "code",
   "execution_count": 15,
   "id": "a0734092-8cff-4330-9bf5-4785316da6ea",
   "metadata": {},
   "outputs": [
    {
     "data": {
      "text/plain": [
       "0    Action, Adventure, Science Fiction\n",
       "1              Crime, Mystery, Thriller\n",
       "2                              Thriller\n",
       "3    Animation, Comedy, Family, Fantasy\n",
       "4      Action, Adventure, Thriller, War\n",
       "Name: Genre, dtype: object"
      ]
     },
     "execution_count": 15,
     "metadata": {},
     "output_type": "execute_result"
    }
   ],
   "source": [
    "df['Genre'].head()"
   ]
  },
  {
   "cell_type": "code",
   "execution_count": 16,
   "id": "d636a09c-ca3d-4de0-9bfe-e7521f854257",
   "metadata": {},
   "outputs": [
    {
     "data": {
      "text/plain": [
       "np.int64(0)"
      ]
     },
     "execution_count": 16,
     "metadata": {},
     "output_type": "execute_result"
    }
   ],
   "source": [
    "df.duplicated().sum()"
   ]
  },
  {
   "cell_type": "code",
   "execution_count": 17,
   "id": "838a6d83-6471-410a-a60b-7c6ea37ae1d8",
   "metadata": {},
   "outputs": [
    {
     "data": {
      "text/html": [
       "<div>\n",
       "<style scoped>\n",
       "    .dataframe tbody tr th:only-of-type {\n",
       "        vertical-align: middle;\n",
       "    }\n",
       "\n",
       "    .dataframe tbody tr th {\n",
       "        vertical-align: top;\n",
       "    }\n",
       "\n",
       "    .dataframe thead th {\n",
       "        text-align: right;\n",
       "    }\n",
       "</style>\n",
       "<table border=\"1\" class=\"dataframe\">\n",
       "  <thead>\n",
       "    <tr style=\"text-align: right;\">\n",
       "      <th></th>\n",
       "      <th>Popularity</th>\n",
       "      <th>Vote_Count</th>\n",
       "      <th>Vote_Average</th>\n",
       "    </tr>\n",
       "  </thead>\n",
       "  <tbody>\n",
       "    <tr>\n",
       "      <th>count</th>\n",
       "      <td>9827.000000</td>\n",
       "      <td>9827.000000</td>\n",
       "      <td>9827.000000</td>\n",
       "    </tr>\n",
       "    <tr>\n",
       "      <th>mean</th>\n",
       "      <td>40.326088</td>\n",
       "      <td>1392.805536</td>\n",
       "      <td>6.439534</td>\n",
       "    </tr>\n",
       "    <tr>\n",
       "      <th>std</th>\n",
       "      <td>108.873998</td>\n",
       "      <td>2611.206907</td>\n",
       "      <td>1.129759</td>\n",
       "    </tr>\n",
       "    <tr>\n",
       "      <th>min</th>\n",
       "      <td>13.354000</td>\n",
       "      <td>0.000000</td>\n",
       "      <td>0.000000</td>\n",
       "    </tr>\n",
       "    <tr>\n",
       "      <th>25%</th>\n",
       "      <td>16.128500</td>\n",
       "      <td>146.000000</td>\n",
       "      <td>5.900000</td>\n",
       "    </tr>\n",
       "    <tr>\n",
       "      <th>50%</th>\n",
       "      <td>21.199000</td>\n",
       "      <td>444.000000</td>\n",
       "      <td>6.500000</td>\n",
       "    </tr>\n",
       "    <tr>\n",
       "      <th>75%</th>\n",
       "      <td>35.191500</td>\n",
       "      <td>1376.000000</td>\n",
       "      <td>7.100000</td>\n",
       "    </tr>\n",
       "    <tr>\n",
       "      <th>max</th>\n",
       "      <td>5083.954000</td>\n",
       "      <td>31077.000000</td>\n",
       "      <td>10.000000</td>\n",
       "    </tr>\n",
       "  </tbody>\n",
       "</table>\n",
       "</div>"
      ],
      "text/plain": [
       "        Popularity    Vote_Count  Vote_Average\n",
       "count  9827.000000   9827.000000   9827.000000\n",
       "mean     40.326088   1392.805536      6.439534\n",
       "std     108.873998   2611.206907      1.129759\n",
       "min      13.354000      0.000000      0.000000\n",
       "25%      16.128500    146.000000      5.900000\n",
       "50%      21.199000    444.000000      6.500000\n",
       "75%      35.191500   1376.000000      7.100000\n",
       "max    5083.954000  31077.000000     10.000000"
      ]
     },
     "execution_count": 17,
     "metadata": {},
     "output_type": "execute_result"
    }
   ],
   "source": [
    "df.describe()"
   ]
  },
  {
   "cell_type": "code",
   "execution_count": 18,
   "id": "e1437a08-b37a-40e9-8fbd-73ba4e104e27",
   "metadata": {},
   "outputs": [
    {
     "data": {
      "text/plain": [
       "(9827, 9)"
      ]
     },
     "execution_count": 18,
     "metadata": {},
     "output_type": "execute_result"
    }
   ],
   "source": [
    "df.shape"
   ]
  },
  {
   "cell_type": "code",
   "execution_count": 19,
   "id": "5c882ab7-45c0-4373-b378-daa48429913b",
   "metadata": {},
   "outputs": [
    {
     "name": "stdout",
     "output_type": "stream",
     "text": [
      "Before cleaning: count    9827.000000\n",
      "mean       40.326088\n",
      "std       108.873998\n",
      "min        13.354000\n",
      "25%        16.128500\n",
      "50%        21.199000\n",
      "75%        35.191500\n",
      "max      5083.954000\n",
      "Name: Popularity, dtype: float64\n",
      "Before cleaning: count     9827.000000\n",
      "mean      1392.805536\n",
      "std       2611.206907\n",
      "min          0.000000\n",
      "25%        146.000000\n",
      "50%        444.000000\n",
      "75%       1376.000000\n",
      "max      31077.000000\n",
      "Name: Vote_Count, dtype: float64\n",
      "Before cleaning: count    9827.000000\n",
      "mean        6.439534\n",
      "std         1.129759\n",
      "min         0.000000\n",
      "25%         5.900000\n",
      "50%         6.500000\n",
      "75%         7.100000\n",
      "max        10.000000\n",
      "Name: Vote_Average, dtype: float64\n"
     ]
    }
   ],
   "source": [
    "print(\"Before cleaning:\", df['Popularity'].describe())\n",
    "print(\"Before cleaning:\", df['Vote_Count'].describe())\n",
    "print(\"Before cleaning:\", df['Vote_Average'].describe())"
   ]
  },
  {
   "cell_type": "code",
   "execution_count": 20,
   "id": "fc293df0-515d-455f-ae45-8820d61a4d81",
   "metadata": {},
   "outputs": [
    {
     "data": {
      "image/png": "[encoded data removed]",
      "text/plain": [
       "<Figure size 640x480 with 1 Axes>"
      ]
     },
     "metadata": {},
     "output_type": "display_data"
    }
   ],
   "source": [
    "df.plot.box()\n",
    "plt.show()"
   ]
  },
  {
   "cell_type": "code",
   "execution_count": 21,
   "id": "0414b781-7603-4277-83b3-464629d80d5e",
   "metadata": {},
   "outputs": [
    {
     "data": {
      "text/plain": [
       "np.float64(19.062999999999995)"
      ]
     },
     "execution_count": 21,
     "metadata": {},
     "output_type": "execute_result"
    }
   ],
   "source": [
    "q1 =  df['Popularity'].quantile(0.25)\n",
    "q3 =  df['Popularity'].quantile(0.75)\n",
    "IQR = q3 - q1\n",
    "IQR"
   ]
  },
  {
   "cell_type": "code",
   "execution_count": 22,
   "id": "11b11859-42b2-4cd1-95b9-6efe4a7f58be",
   "metadata": {},
   "outputs": [
    {
     "name": "stdout",
     "output_type": "stream",
     "text": [
      "     Release_Date                    Title  \\\n",
      "0      2021-12-15  Spider-Man: No Way Home   \n",
      "1      2022-03-01               The Batman   \n",
      "2      2022-02-25                  No Exit   \n",
      "3      2021-11-24                  Encanto   \n",
      "4      2021-12-22           The King's Man   \n",
      "...           ...                      ...   \n",
      "1042   2021-07-06                  Annette   \n",
      "1043   2014-06-05           22 Jump Street   \n",
      "1044   2021-02-26                   Crisis   \n",
      "1045   2004-10-01                      Saw   \n",
      "1046   2012-08-17      Secret of the Wings   \n",
      "\n",
      "                                               Overview  Popularity  \\\n",
      "0     Peter Parker is unmasked and no longer able to...    5083.954   \n",
      "1     In his second year of fighting crime, Batman u...    3827.658   \n",
      "2     Stranded at a rest stop in the mountains durin...    2618.087   \n",
      "3     The tale of an extraordinary family, the Madri...    2402.201   \n",
      "4     As a collection of history's worst tyrants and...    1895.511   \n",
      "...                                                 ...         ...   \n",
      "1042  The story of Henry, a stand-up comedian with a...      63.892   \n",
      "1043  After making their way through high school (tw...      63.875   \n",
      "1044  Three stories about the world of opioids colli...      63.866   \n",
      "1045  Obsessed with teaching his victims the value o...      63.799   \n",
      "1046  Tinkerbell wanders into the forbidden Winter w...      63.793   \n",
      "\n",
      "      Vote_Count  Vote_Average Original_Language  \\\n",
      "0           8940           8.3                en   \n",
      "1           1151           8.1                en   \n",
      "2            122           6.3                en   \n",
      "3           5076           7.7                en   \n",
      "4           1793           7.0                en   \n",
      "...          ...           ...               ...   \n",
      "1042         404           7.0                en   \n",
      "1043        6790           6.8                en   \n",
      "1044         186           6.5                en   \n",
      "1045        7258           7.4                en   \n",
      "1046         928           7.1                en   \n",
      "\n",
      "                                      Genre  \\\n",
      "0        Action, Adventure, Science Fiction   \n",
      "1                  Crime, Mystery, Thriller   \n",
      "2                                  Thriller   \n",
      "3        Animation, Comedy, Family, Fantasy   \n",
      "4          Action, Adventure, Thriller, War   \n",
      "...                                     ...   \n",
      "1042                         Drama, Romance   \n",
      "1043                  Crime, Comedy, Action   \n",
      "1044                 Thriller, Crime, Drama   \n",
      "1045                 Horror, Mystery, Crime   \n",
      "1046  Animation, Family, Fantasy, Adventure   \n",
      "\n",
      "                                             Poster_Url  \n",
      "0     https://image.tmdb.org/t/p/original/1g0dhYtq4i...  \n",
      "1     https://image.tmdb.org/t/p/original/74xTEgt7R3...  \n",
      "2     https://image.tmdb.org/t/p/original/vDHsLnOWKl...  \n",
      "3     https://image.tmdb.org/t/p/original/4j0PNHkMr5...  \n",
      "4     https://image.tmdb.org/t/p/original/aq4Pwv5Xeu...  \n",
      "...                                                 ...  \n",
      "1042  https://image.tmdb.org/t/p/original/4FTnypxpGl...  \n",
      "1043  https://image.tmdb.org/t/p/original/850chzYHYb...  \n",
      "1044  https://image.tmdb.org/t/p/original/15e2VcMTtk...  \n",
      "1045  https://image.tmdb.org/t/p/original/pparEGTCxc...  \n",
      "1046  https://image.tmdb.org/t/p/original/iOp2tq3Kkr...  \n",
      "\n",
      "[1047 rows x 9 columns]\n"
     ]
    }
   ],
   "source": [
    "low = q1 - 1.5 * IQR\n",
    "high = q3 + 1.5 * IQR\n",
    "outliers = df[(df['Popularity']<low) | (df['Popularity']>high)]\n",
    "print(outliers)"
   ]
  },
  {
   "cell_type": "code",
   "execution_count": 23,
   "id": "7312af08-81a9-40f0-9c5b-9fa70e5c77d3",
   "metadata": {},
   "outputs": [],
   "source": [
    "df[\"Popularity\"] = df[\"Popularity\"].clip(low, high)"
   ]
  },
  {
   "cell_type": "code",
   "execution_count": 24,
   "id": "e96b6966-d492-472b-a5e5-89b990ee0df2",
   "metadata": {},
   "outputs": [
    {
     "data": {
      "text/plain": [
       "Release_Date          object\n",
       "Title                 object\n",
       "Overview              object\n",
       "Popularity           float64\n",
       "Vote_Count             int64\n",
       "Vote_Average         float64\n",
       "Original_Language     object\n",
       "Genre                 object\n",
       "Poster_Url            object\n",
       "dtype: object"
      ]
     },
     "execution_count": 24,
     "metadata": {},
     "output_type": "execute_result"
    }
   ],
   "source": [
    "df.dtypes"
   ]
  },
  {
   "cell_type": "code",
   "execution_count": 25,
   "id": "5d241aae-dba6-42aa-9356-2dbb921b174d",
   "metadata": {},
   "outputs": [
    {
     "data": {
      "image/png": "[encoded data removed]",
      "text/plain": [
       "<Figure size 640x480 with 1 Axes>"
      ]
     },
     "metadata": {},
     "output_type": "display_data"
    }
   ],
   "source": [
    "df.plot.box()\n",
    "plt.show()"
   ]
  },
  {
   "cell_type": "code",
   "execution_count": 26,
   "id": "93eb27db-04a3-4024-b11e-29e7e6777773",
   "metadata": {},
   "outputs": [
    {
     "data": {
      "text/plain": [
       "np.float64(1230.0)"
      ]
     },
     "execution_count": 26,
     "metadata": {},
     "output_type": "execute_result"
    }
   ],
   "source": [
    "q1 =  df['Vote_Count'].quantile(0.25)\n",
    "q3 =  df['Vote_Count'].quantile(0.75)\n",
    "IQR = q3 - q1\n",
    "IQR"
   ]
  },
  {
   "cell_type": "code",
   "execution_count": 27,
   "id": "be9542ab-3e38-472a-b7f1-3ec7f24098c8",
   "metadata": {},
   "outputs": [
    {
     "name": "stdout",
     "output_type": "stream",
     "text": [
      "Empty DataFrame\n",
      "Columns: [Release_Date, Title, Overview, Popularity, Vote_Count, Vote_Average, Original_Language, Genre, Poster_Url]\n",
      "Index: []\n"
     ]
    }
   ],
   "source": [
    "low = q1 - 1.5 * IQR\n",
    "high = q3 + 1.5 * IQR\n",
    "outliers = df[(df['Popularity']<low) | (df['Popularity']>high)]\n",
    "print(outliers)"
   ]
  },
  {
   "cell_type": "code",
   "execution_count": 28,
   "id": "92ff6497-70f8-4481-8ce0-d3d3df3552d7",
   "metadata": {},
   "outputs": [],
   "source": [
    "df['Vote_Count'] = df['Vote_Count'].clip(low,high)"
   ]
  },
  {
   "cell_type": "code",
   "execution_count": 29,
   "id": "84c8c822-a10d-47ff-a4a1-94dc2ac619ed",
   "metadata": {},
   "outputs": [
    {
     "data": {
      "image/png": "[encoded data removed]",
      "text/plain": [
       "<Figure size 640x480 with 1 Axes>"
      ]
     },
     "metadata": {},
     "output_type": "display_data"
    }
   ],
   "source": [
    "df.plot.box()\n",
    "plt.show()"
   ]
  },
  {
   "cell_type": "code",
   "execution_count": 30,
   "id": "5cd44438-f7e1-4c21-bbc1-d4039e88a537",
   "metadata": {},
   "outputs": [
    {
     "name": "stdout",
     "output_type": "stream",
     "text": [
      "     Release_Date                                 Title  \\\n",
      "77     2022-02-04                Sex, Shame and Tears 2   \n",
      "80     2022-03-30                  Sonic the Hedgehog 2   \n",
      "210    2023-04-06                     Fast & Furious 10   \n",
      "229    2021-12-25                            El Paseo 6   \n",
      "231    2022-04-22         Dragon Ball Super: Super Hero   \n",
      "...           ...                                   ...   \n",
      "9489   2016-11-12                       My Friend's Mom   \n",
      "9565   2000-06-30  The Adventures of Rocky & Bullwinkle   \n",
      "9687   2003-12-03                            Sexy Movie   \n",
      "9713   2022-03-12  Tony Hawk: Until the Wheels Fall Off   \n",
      "9823   2020-10-01                      Violent Delights   \n",
      "\n",
      "                                               Overview  Popularity  \\\n",
      "77    Twenty years have passed since those two apart...      63.786   \n",
      "80    After settling in Green Hills, Sonic is eager ...      63.786   \n",
      "210             The tenth installment in the Fast Saga.      63.786   \n",
      "229   The last year High School excursion is the wal...      63.786   \n",
      "231   The Red Ribbon Army, an evil organization that...      63.786   \n",
      "...                                                 ...         ...   \n",
      "9489  After her mother dies, Young-jae visits her ol...      13.651   \n",
      "9565  Rocky and Bullwinkle have been living off the ...      13.571   \n",
      "9687  A guy wanting a Hollywood career decides to ma...      13.471   \n",
      "9713  A wide-ranging, definitive look at Hawk’s life...      13.446   \n",
      "9823  A female vampire falls in love with a man she ...      13.356   \n",
      "\n",
      "      Vote_Count  Vote_Average Original_Language  \\\n",
      "77             5           2.2                es   \n",
      "80             0           0.0                en   \n",
      "210            0           0.0                en   \n",
      "229            5           3.5                es   \n",
      "231            0           0.0                ja   \n",
      "...          ...           ...               ...   \n",
      "9489           6           3.8                ko   \n",
      "9565         293           4.1                en   \n",
      "9687           6           4.1                en   \n",
      "9713           0           0.0                en   \n",
      "9823           8           3.5                es   \n",
      "\n",
      "                                              Genre  \\\n",
      "77                                    Comedy, Drama   \n",
      "80          Action, Science Fiction, Comedy, Family   \n",
      "210                                   Action, Crime   \n",
      "229                                          Comedy   \n",
      "231              Animation, Science Fiction, Action   \n",
      "...                                             ...   \n",
      "9489                                        Romance   \n",
      "9565  Family, Adventure, Animation, Comedy, Fantasy   \n",
      "9687                                         Comedy   \n",
      "9713                                    Documentary   \n",
      "9823                                         Horror   \n",
      "\n",
      "                                             Poster_Url  \n",
      "77    https://image.tmdb.org/t/p/original/2ip2iDBSXf...  \n",
      "80    https://image.tmdb.org/t/p/original/6DrHO1jr3q...  \n",
      "210   https://image.tmdb.org/t/p/original/2DyEk84Xnb...  \n",
      "229   https://image.tmdb.org/t/p/original/f1nHNgR6tQ...  \n",
      "231   https://image.tmdb.org/t/p/original/wFYXVMKWLA...  \n",
      "...                                                 ...  \n",
      "9489  https://image.tmdb.org/t/p/original/19ly5EebC8...  \n",
      "9565  https://image.tmdb.org/t/p/original/xCFSsftt2r...  \n",
      "9687  https://image.tmdb.org/t/p/original/o9LjZEBrXl...  \n",
      "9713  https://image.tmdb.org/t/p/original/namFh1FM7B...  \n",
      "9823  https://image.tmdb.org/t/p/original/4b6HY7rud6...  \n",
      "\n",
      "[243 rows x 9 columns]\n"
     ]
    }
   ],
   "source": [
    "q1 =  df['Vote_Average'].quantile(0.25)\n",
    "q3 =  df['Vote_Average'].quantile(0.75)\n",
    "IQR = q3 - q1\n",
    "IQR\n",
    "low = q1 - 1.5 * IQR\n",
    "high = q3 + 1.5 * IQR\n",
    "outliers = df[(df['Vote_Average']<low) | (df['Vote_Average']>high)]\n",
    "print(outliers)"
   ]
  },
  {
   "cell_type": "code",
   "execution_count": 31,
   "id": "920aa880-4879-446d-94f9-80b73f33dc7f",
   "metadata": {},
   "outputs": [],
   "source": [
    "df['Vote_Average'] = df['Vote_Average'].clip(low,high)"
   ]
  },
  {
   "cell_type": "code",
   "execution_count": 32,
   "id": "377aa170-ae62-4f5d-8b99-adecf50064d1",
   "metadata": {},
   "outputs": [
    {
     "data": {
      "image/png": "[encoded data removed]",
      "text/plain": [
       "<Figure size 640x480 with 1 Axes>"
      ]
     },
     "metadata": {},
     "output_type": "display_data"
    }
   ],
   "source": [
    "df.plot.box()\n",
    "plt.show()"
   ]
  },
  {
   "cell_type": "code",
   "execution_count": null,
   "id": "ff8e3c86-ab98-4f30-82df-4cf94397f97e",
   "metadata": {},
   "outputs": [],
   "source": []
  },
  {
   "cell_type": "code",
   "execution_count": 33,
   "id": "1bc1abea-32f1-4bc0-bf9d-adafd5e6e085",
   "metadata": {},
   "outputs": [
    {
     "name": "stdout",
     "output_type": "stream",
     "text": [
      "Before filtering: count    9827.000000\n",
      "mean       28.362255\n",
      "std        16.344671\n",
      "min        13.354000\n",
      "25%        16.128500\n",
      "50%        21.199000\n",
      "75%        35.191500\n",
      "max        63.786000\n",
      "Name: Popularity, dtype: float64\n",
      "Before filtering: count    9827.000000\n",
      "mean      944.255012\n",
      "std      1070.953996\n",
      "min         0.000000\n",
      "25%       146.000000\n",
      "50%       444.000000\n",
      "75%      1376.000000\n",
      "max      3221.000000\n",
      "Name: Vote_Count, dtype: float64\n",
      "Before filtering: count    9827.00000\n",
      "mean        6.48962\n",
      "std         0.92359\n",
      "min         4.10000\n",
      "25%         5.90000\n",
      "50%         6.50000\n",
      "75%         7.10000\n",
      "max         8.90000\n",
      "Name: Vote_Average, dtype: float64\n"
     ]
    }
   ],
   "source": [
    "print(\"Before filtering:\", df['Popularity'].describe())\n",
    "print(\"Before filtering:\", df['Vote_Count'].describe())\n",
    "print(\"Before filtering:\", df['Vote_Average'].describe())"
   ]
  },
  {
   "cell_type": "code",
   "execution_count": 34,
   "id": "9c1a5854-3311-4c65-85fc-ec41ae1eae87",
   "metadata": {},
   "outputs": [
    {
     "data": {
      "text/plain": [
       "(9827, 9)"
      ]
     },
     "execution_count": 34,
     "metadata": {},
     "output_type": "execute_result"
    }
   ],
   "source": [
    "df.shape"
   ]
  },
  {
   "cell_type": "code",
   "execution_count": 35,
   "id": "e4d7c9bd-7ccb-4676-94f9-a333d3c66fbd",
   "metadata": {},
   "outputs": [
    {
     "data": {
      "text/html": [
       "<div>\n",
       "<style scoped>\n",
       "    .dataframe tbody tr th:only-of-type {\n",
       "        vertical-align: middle;\n",
       "    }\n",
       "\n",
       "    .dataframe tbody tr th {\n",
       "        vertical-align: top;\n",
       "    }\n",
       "\n",
       "    .dataframe thead th {\n",
       "        text-align: right;\n",
       "    }\n",
       "</style>\n",
       "<table border=\"1\" class=\"dataframe\">\n",
       "  <thead>\n",
       "    <tr style=\"text-align: right;\">\n",
       "      <th></th>\n",
       "      <th>Release_Date</th>\n",
       "      <th>Title</th>\n",
       "      <th>Overview</th>\n",
       "      <th>Popularity</th>\n",
       "      <th>Vote_Count</th>\n",
       "      <th>Vote_Average</th>\n",
       "      <th>Original_Language</th>\n",
       "      <th>Genre</th>\n",
       "      <th>Poster_Url</th>\n",
       "    </tr>\n",
       "  </thead>\n",
       "  <tbody>\n",
       "    <tr>\n",
       "      <th>7060</th>\n",
       "      <td>2007-08-24</td>\n",
       "      <td>The Nanny Diaries</td>\n",
       "      <td>A college graduate goes to work as a nanny for...</td>\n",
       "      <td>16.616</td>\n",
       "      <td>846</td>\n",
       "      <td>6.3</td>\n",
       "      <td>en</td>\n",
       "      <td>Comedy, Drama, Romance</td>\n",
       "      <td>https://image.tmdb.org/t/p/original/8hX6rcxnCi...</td>\n",
       "    </tr>\n",
       "    <tr>\n",
       "      <th>6041</th>\n",
       "      <td>2016-05-17</td>\n",
       "      <td>Cyborg X</td>\n",
       "      <td>After X-Corp, a radical weapons manufacturer, ...</td>\n",
       "      <td>18.445</td>\n",
       "      <td>53</td>\n",
       "      <td>5.8</td>\n",
       "      <td>en</td>\n",
       "      <td>Action, Horror, Science Fiction</td>\n",
       "      <td>https://image.tmdb.org/t/p/original/83hXrNOZTn...</td>\n",
       "    </tr>\n",
       "    <tr>\n",
       "      <th>8383</th>\n",
       "      <td>2000-03-31</td>\n",
       "      <td>Whatever It Takes</td>\n",
       "      <td>A nerdy teen, Ryan Woodman is smitten with the...</td>\n",
       "      <td>14.779</td>\n",
       "      <td>214</td>\n",
       "      <td>5.9</td>\n",
       "      <td>en</td>\n",
       "      <td>Drama, Comedy, Romance</td>\n",
       "      <td>https://image.tmdb.org/t/p/original/ao4RoGXC9w...</td>\n",
       "    </tr>\n",
       "    <tr>\n",
       "      <th>6553</th>\n",
       "      <td>2015-06-24</td>\n",
       "      <td>One Wild Moment</td>\n",
       "      <td>Antoine and Laurent, old friends, spend their ...</td>\n",
       "      <td>17.452</td>\n",
       "      <td>886</td>\n",
       "      <td>5.8</td>\n",
       "      <td>fr</td>\n",
       "      <td>Comedy, Drama, Romance</td>\n",
       "      <td>https://image.tmdb.org/t/p/original/fLwbV87gyp...</td>\n",
       "    </tr>\n",
       "    <tr>\n",
       "      <th>8126</th>\n",
       "      <td>2004-11-19</td>\n",
       "      <td>Ring of the Nibelungs</td>\n",
       "      <td>In this swords-and-sorcery tale, good-hearted ...</td>\n",
       "      <td>15.077</td>\n",
       "      <td>100</td>\n",
       "      <td>6.3</td>\n",
       "      <td>en</td>\n",
       "      <td>Action</td>\n",
       "      <td>https://image.tmdb.org/t/p/original/3Xo2uejRM8...</td>\n",
       "    </tr>\n",
       "    <tr>\n",
       "      <th>5704</th>\n",
       "      <td>2015-05-29</td>\n",
       "      <td>Aloha</td>\n",
       "      <td>A celebrated military contractor returns to th...</td>\n",
       "      <td>19.140</td>\n",
       "      <td>1733</td>\n",
       "      <td>5.5</td>\n",
       "      <td>en</td>\n",
       "      <td>Drama, Comedy, Romance</td>\n",
       "      <td>https://image.tmdb.org/t/p/original/58Y4CjcRX8...</td>\n",
       "    </tr>\n",
       "    <tr>\n",
       "      <th>8214</th>\n",
       "      <td>2000-08-29</td>\n",
       "      <td>Alvin and the Chipmunks Meet the Wolfman</td>\n",
       "      <td>It's the Chipmunks' third and final full-lengt...</td>\n",
       "      <td>14.972</td>\n",
       "      <td>146</td>\n",
       "      <td>6.9</td>\n",
       "      <td>en</td>\n",
       "      <td>Animation, Family, Fantasy, Music, Horror, Comedy</td>\n",
       "      <td>https://image.tmdb.org/t/p/original/xvAGKjbAl2...</td>\n",
       "    </tr>\n",
       "    <tr>\n",
       "      <th>9202</th>\n",
       "      <td>1976-01-21</td>\n",
       "      <td>The Smurfs and the Magic Flute</td>\n",
       "      <td>The evil knight Torchesac, who is at the servi...</td>\n",
       "      <td>13.955</td>\n",
       "      <td>67</td>\n",
       "      <td>6.5</td>\n",
       "      <td>fr</td>\n",
       "      <td>Animation, Adventure, Family, Comedy, Fantasy</td>\n",
       "      <td>https://image.tmdb.org/t/p/original/raI16q3bC3...</td>\n",
       "    </tr>\n",
       "    <tr>\n",
       "      <th>4692</th>\n",
       "      <td>2018-10-25</td>\n",
       "      <td>Replicas</td>\n",
       "      <td>A scientist becomes obsessed with returning hi...</td>\n",
       "      <td>21.969</td>\n",
       "      <td>1059</td>\n",
       "      <td>6.1</td>\n",
       "      <td>en</td>\n",
       "      <td>Science Fiction, Thriller</td>\n",
       "      <td>https://image.tmdb.org/t/p/original/hhPBTAn9b4...</td>\n",
       "    </tr>\n",
       "    <tr>\n",
       "      <th>2258</th>\n",
       "      <td>2007-06-06</td>\n",
       "      <td>Big Stan</td>\n",
       "      <td>Rob Schneider writes and stars in this comedy ...</td>\n",
       "      <td>37.317</td>\n",
       "      <td>600</td>\n",
       "      <td>6.3</td>\n",
       "      <td>en</td>\n",
       "      <td>Comedy</td>\n",
       "      <td>https://image.tmdb.org/t/p/original/zS1uUwKEFc...</td>\n",
       "    </tr>\n",
       "  </tbody>\n",
       "</table>\n",
       "</div>"
      ],
      "text/plain": [
       "     Release_Date                                     Title  \\\n",
       "7060   2007-08-24                         The Nanny Diaries   \n",
       "6041   2016-05-17                                  Cyborg X   \n",
       "8383   2000-03-31                         Whatever It Takes   \n",
       "6553   2015-06-24                           One Wild Moment   \n",
       "8126   2004-11-19                     Ring of the Nibelungs   \n",
       "5704   2015-05-29                                     Aloha   \n",
       "8214   2000-08-29  Alvin and the Chipmunks Meet the Wolfman   \n",
       "9202   1976-01-21            The Smurfs and the Magic Flute   \n",
       "4692   2018-10-25                                  Replicas   \n",
       "2258   2007-06-06                                  Big Stan   \n",
       "\n",
       "                                               Overview  Popularity  \\\n",
       "7060  A college graduate goes to work as a nanny for...      16.616   \n",
       "6041  After X-Corp, a radical weapons manufacturer, ...      18.445   \n",
       "8383  A nerdy teen, Ryan Woodman is smitten with the...      14.779   \n",
       "6553  Antoine and Laurent, old friends, spend their ...      17.452   \n",
       "8126  In this swords-and-sorcery tale, good-hearted ...      15.077   \n",
       "5704  A celebrated military contractor returns to th...      19.140   \n",
       "8214  It's the Chipmunks' third and final full-lengt...      14.972   \n",
       "9202  The evil knight Torchesac, who is at the servi...      13.955   \n",
       "4692  A scientist becomes obsessed with returning hi...      21.969   \n",
       "2258  Rob Schneider writes and stars in this comedy ...      37.317   \n",
       "\n",
       "      Vote_Count  Vote_Average Original_Language  \\\n",
       "7060         846           6.3                en   \n",
       "6041          53           5.8                en   \n",
       "8383         214           5.9                en   \n",
       "6553         886           5.8                fr   \n",
       "8126         100           6.3                en   \n",
       "5704        1733           5.5                en   \n",
       "8214         146           6.9                en   \n",
       "9202          67           6.5                fr   \n",
       "4692        1059           6.1                en   \n",
       "2258         600           6.3                en   \n",
       "\n",
       "                                                  Genre  \\\n",
       "7060                             Comedy, Drama, Romance   \n",
       "6041                    Action, Horror, Science Fiction   \n",
       "8383                             Drama, Comedy, Romance   \n",
       "6553                             Comedy, Drama, Romance   \n",
       "8126                                             Action   \n",
       "5704                             Drama, Comedy, Romance   \n",
       "8214  Animation, Family, Fantasy, Music, Horror, Comedy   \n",
       "9202      Animation, Adventure, Family, Comedy, Fantasy   \n",
       "4692                          Science Fiction, Thriller   \n",
       "2258                                             Comedy   \n",
       "\n",
       "                                             Poster_Url  \n",
       "7060  https://image.tmdb.org/t/p/original/8hX6rcxnCi...  \n",
       "6041  https://image.tmdb.org/t/p/original/83hXrNOZTn...  \n",
       "8383  https://image.tmdb.org/t/p/original/ao4RoGXC9w...  \n",
       "6553  https://image.tmdb.org/t/p/original/fLwbV87gyp...  \n",
       "8126  https://image.tmdb.org/t/p/original/3Xo2uejRM8...  \n",
       "5704  https://image.tmdb.org/t/p/original/58Y4CjcRX8...  \n",
       "8214  https://image.tmdb.org/t/p/original/xvAGKjbAl2...  \n",
       "9202  https://image.tmdb.org/t/p/original/raI16q3bC3...  \n",
       "4692  https://image.tmdb.org/t/p/original/hhPBTAn9b4...  \n",
       "2258  https://image.tmdb.org/t/p/original/zS1uUwKEFc...  "
      ]
     },
     "execution_count": 35,
     "metadata": {},
     "output_type": "execute_result"
    }
   ],
   "source": [
    "df.sample(10)"
   ]
  },
  {
   "cell_type": "code",
   "execution_count": 36,
   "id": "406f6941-016f-4caf-9f1d-6b1d7b9d2898",
   "metadata": {},
   "outputs": [
    {
     "data": {
      "image/png": "[encoded data removed]",
      "text/plain": [
       "<Figure size 640x480 with 1 Axes>"
      ]
     },
     "metadata": {},
     "output_type": "display_data"
    }
   ],
   "source": [
    "sns.histplot(df['Popularity'], kde=True)\n",
    "plt.show()"
   ]
  },
  {
   "cell_type": "code",
   "execution_count": 37,
   "id": "6fd5360b-95ab-491d-b57b-c8fe0c39bd09",
   "metadata": {},
   "outputs": [],
   "source": [
    "# num_cols = [\"Popularity\", \"Vote_Count\", \"Vote_Average\"]\n",
    "\n",
    "# fig, axes = plt.subplots(1, 3, figsize=(18, 5))\n",
    "\n",
    "# for i, col in enumerate(num_cols):\n",
    "#     sns.histplot(df[col], kde=True, ax=axes[i])\n",
    "#     axes[i].set_title(col)\n",
    "\n",
    "# plt.tight_layout()\n",
    "# plt.show()"
   ]
  },
  {
   "cell_type": "code",
   "execution_count": 38,
   "id": "1ccb8681-4e57-430e-8c68-f23af692c023",
   "metadata": {},
   "outputs": [
    {
     "name": "stdout",
     "output_type": "stream",
     "text": [
      "<class 'pandas.core.frame.DataFrame'>\n",
      "RangeIndex: 9827 entries, 0 to 9826\n",
      "Data columns (total 9 columns):\n",
      " #   Column             Non-Null Count  Dtype  \n",
      "---  ------             --------------  -----  \n",
      " 0   Release_Date       9827 non-null   object \n",
      " 1   Title              9827 non-null   object \n",
      " 2   Overview           9827 non-null   object \n",
      " 3   Popularity         9827 non-null   float64\n",
      " 4   Vote_Count         9827 non-null   int64  \n",
      " 5   Vote_Average       9827 non-null   float64\n",
      " 6   Original_Language  9827 non-null   object \n",
      " 7   Genre              9827 non-null   object \n",
      " 8   Poster_Url         9827 non-null   object \n",
      "dtypes: float64(2), int64(1), object(6)\n",
      "memory usage: 691.1+ KB\n"
     ]
    }
   ],
   "source": [
    "df.info()"
   ]
  },
  {
   "cell_type": "code",
   "execution_count": 39,
   "id": "763a30a7-1d95-47b4-8ba4-6770c31afdf9",
   "metadata": {},
   "outputs": [
    {
     "data": {
      "text/html": [
       "<div>\n",
       "<style scoped>\n",
       "    .dataframe tbody tr th:only-of-type {\n",
       "        vertical-align: middle;\n",
       "    }\n",
       "\n",
       "    .dataframe tbody tr th {\n",
       "        vertical-align: top;\n",
       "    }\n",
       "\n",
       "    .dataframe thead th {\n",
       "        text-align: right;\n",
       "    }\n",
       "</style>\n",
       "<table border=\"1\" class=\"dataframe\">\n",
       "  <thead>\n",
       "    <tr style=\"text-align: right;\">\n",
       "      <th></th>\n",
       "      <th>Release_Date</th>\n",
       "      <th>Title</th>\n",
       "      <th>Overview</th>\n",
       "      <th>Popularity</th>\n",
       "      <th>Vote_Count</th>\n",
       "      <th>Vote_Average</th>\n",
       "      <th>Original_Language</th>\n",
       "      <th>Genre</th>\n",
       "      <th>Poster_Url</th>\n",
       "    </tr>\n",
       "  </thead>\n",
       "  <tbody>\n",
       "    <tr>\n",
       "      <th>9822</th>\n",
       "      <td>1973-10-15</td>\n",
       "      <td>Badlands</td>\n",
       "      <td>A dramatization of the Starkweather-Fugate kil...</td>\n",
       "      <td>13.357</td>\n",
       "      <td>896</td>\n",
       "      <td>7.6</td>\n",
       "      <td>en</td>\n",
       "      <td>Drama, Crime</td>\n",
       "      <td>https://image.tmdb.org/t/p/original/z81rBzHNgi...</td>\n",
       "    </tr>\n",
       "    <tr>\n",
       "      <th>9823</th>\n",
       "      <td>2020-10-01</td>\n",
       "      <td>Violent Delights</td>\n",
       "      <td>A female vampire falls in love with a man she ...</td>\n",
       "      <td>13.356</td>\n",
       "      <td>8</td>\n",
       "      <td>4.1</td>\n",
       "      <td>es</td>\n",
       "      <td>Horror</td>\n",
       "      <td>https://image.tmdb.org/t/p/original/4b6HY7rud6...</td>\n",
       "    </tr>\n",
       "    <tr>\n",
       "      <th>9824</th>\n",
       "      <td>2016-05-06</td>\n",
       "      <td>The Offering</td>\n",
       "      <td>When young and successful reporter Jamie finds...</td>\n",
       "      <td>13.355</td>\n",
       "      <td>94</td>\n",
       "      <td>5.0</td>\n",
       "      <td>en</td>\n",
       "      <td>Mystery, Thriller, Horror</td>\n",
       "      <td>https://image.tmdb.org/t/p/original/h4uMM1wOhz...</td>\n",
       "    </tr>\n",
       "    <tr>\n",
       "      <th>9825</th>\n",
       "      <td>2021-03-31</td>\n",
       "      <td>The United States vs. Billie Holiday</td>\n",
       "      <td>Billie Holiday spent much of her career being ...</td>\n",
       "      <td>13.354</td>\n",
       "      <td>152</td>\n",
       "      <td>6.7</td>\n",
       "      <td>en</td>\n",
       "      <td>Music, Drama, History</td>\n",
       "      <td>https://image.tmdb.org/t/p/original/vEzkxuE2sJ...</td>\n",
       "    </tr>\n",
       "    <tr>\n",
       "      <th>9826</th>\n",
       "      <td>1984-09-23</td>\n",
       "      <td>Threads</td>\n",
       "      <td>Documentary style account of a nuclear holocau...</td>\n",
       "      <td>13.354</td>\n",
       "      <td>186</td>\n",
       "      <td>7.8</td>\n",
       "      <td>en</td>\n",
       "      <td>War, Drama, Science Fiction</td>\n",
       "      <td>https://image.tmdb.org/t/p/original/lBhU4U9Eeh...</td>\n",
       "    </tr>\n",
       "  </tbody>\n",
       "</table>\n",
       "</div>"
      ],
      "text/plain": [
       "     Release_Date                                 Title  \\\n",
       "9822   1973-10-15                              Badlands   \n",
       "9823   2020-10-01                      Violent Delights   \n",
       "9824   2016-05-06                          The Offering   \n",
       "9825   2021-03-31  The United States vs. Billie Holiday   \n",
       "9826   1984-09-23                               Threads   \n",
       "\n",
       "                                               Overview  Popularity  \\\n",
       "9822  A dramatization of the Starkweather-Fugate kil...      13.357   \n",
       "9823  A female vampire falls in love with a man she ...      13.356   \n",
       "9824  When young and successful reporter Jamie finds...      13.355   \n",
       "9825  Billie Holiday spent much of her career being ...      13.354   \n",
       "9826  Documentary style account of a nuclear holocau...      13.354   \n",
       "\n",
       "      Vote_Count  Vote_Average Original_Language                        Genre  \\\n",
       "9822         896           7.6                en                 Drama, Crime   \n",
       "9823           8           4.1                es                       Horror   \n",
       "9824          94           5.0                en    Mystery, Thriller, Horror   \n",
       "9825         152           6.7                en        Music, Drama, History   \n",
       "9826         186           7.8                en  War, Drama, Science Fiction   \n",
       "\n",
       "                                             Poster_Url  \n",
       "9822  https://image.tmdb.org/t/p/original/z81rBzHNgi...  \n",
       "9823  https://image.tmdb.org/t/p/original/4b6HY7rud6...  \n",
       "9824  https://image.tmdb.org/t/p/original/h4uMM1wOhz...  \n",
       "9825  https://image.tmdb.org/t/p/original/vEzkxuE2sJ...  \n",
       "9826  https://image.tmdb.org/t/p/original/lBhU4U9Eeh...  "
      ]
     },
     "execution_count": 39,
     "metadata": {},
     "output_type": "execute_result"
    }
   ],
   "source": [
    "df.tail()"
   ]
  },
  {
   "cell_type": "code",
   "execution_count": 40,
   "id": "3a9b21eb-10e1-478a-b70a-7abca98be7ae",
   "metadata": {},
   "outputs": [
    {
     "data": {
      "text/plain": [
       "232"
      ]
     },
     "execution_count": 40,
     "metadata": {},
     "output_type": "execute_result"
    }
   ],
   "source": [
    "df[np.isclose(df['Vote_Average'], 4.1)].shape[0]"
   ]
  },
  {
   "cell_type": "code",
   "execution_count": 41,
   "id": "51448459-425f-40b2-bfe3-4071668fd2d8",
   "metadata": {},
   "outputs": [],
   "source": [
    "df['Release_Date'] = pd.to_datetime(df['Release_Date'])"
   ]
  },
  {
   "cell_type": "code",
   "execution_count": 42,
   "id": "2037610f-df5b-4aae-8225-0df62324a3a1",
   "metadata": {},
   "outputs": [
    {
     "name": "stdout",
     "output_type": "stream",
     "text": [
      "datetime64[ns]\n"
     ]
    }
   ],
   "source": [
    "print(df['Release_Date'].dtypes)"
   ]
  },
  {
   "cell_type": "code",
   "execution_count": 43,
   "id": "754c8778-8759-44ba-b9ba-ba2bb1893814",
   "metadata": {},
   "outputs": [],
   "source": [
    "df['Release_Date'] = df['Release_Date'].dt.year"
   ]
  },
  {
   "cell_type": "code",
   "execution_count": 44,
   "id": "5e2179f7-bcc6-4942-b222-b6ab4026f934",
   "metadata": {},
   "outputs": [
    {
     "data": {
      "text/html": [
       "<div>\n",
       "<style scoped>\n",
       "    .dataframe tbody tr th:only-of-type {\n",
       "        vertical-align: middle;\n",
       "    }\n",
       "\n",
       "    .dataframe tbody tr th {\n",
       "        vertical-align: top;\n",
       "    }\n",
       "\n",
       "    .dataframe thead th {\n",
       "        text-align: right;\n",
       "    }\n",
       "</style>\n",
       "<table border=\"1\" class=\"dataframe\">\n",
       "  <thead>\n",
       "    <tr style=\"text-align: right;\">\n",
       "      <th></th>\n",
       "      <th>Release_Date</th>\n",
       "      <th>Title</th>\n",
       "      <th>Overview</th>\n",
       "      <th>Popularity</th>\n",
       "      <th>Vote_Count</th>\n",
       "      <th>Vote_Average</th>\n",
       "      <th>Original_Language</th>\n",
       "      <th>Genre</th>\n",
       "      <th>Poster_Url</th>\n",
       "    </tr>\n",
       "  </thead>\n",
       "  <tbody>\n",
       "    <tr>\n",
       "      <th>0</th>\n",
       "      <td>2021</td>\n",
       "      <td>Spider-Man: No Way Home</td>\n",
       "      <td>Peter Parker is unmasked and no longer able to...</td>\n",
       "      <td>63.786</td>\n",
       "      <td>3221</td>\n",
       "      <td>8.3</td>\n",
       "      <td>en</td>\n",
       "      <td>Action, Adventure, Science Fiction</td>\n",
       "      <td>https://image.tmdb.org/t/p/original/1g0dhYtq4i...</td>\n",
       "    </tr>\n",
       "    <tr>\n",
       "      <th>1</th>\n",
       "      <td>2022</td>\n",
       "      <td>The Batman</td>\n",
       "      <td>In his second year of fighting crime, Batman u...</td>\n",
       "      <td>63.786</td>\n",
       "      <td>1151</td>\n",
       "      <td>8.1</td>\n",
       "      <td>en</td>\n",
       "      <td>Crime, Mystery, Thriller</td>\n",
       "      <td>https://image.tmdb.org/t/p/original/74xTEgt7R3...</td>\n",
       "    </tr>\n",
       "    <tr>\n",
       "      <th>2</th>\n",
       "      <td>2022</td>\n",
       "      <td>No Exit</td>\n",
       "      <td>Stranded at a rest stop in the mountains durin...</td>\n",
       "      <td>63.786</td>\n",
       "      <td>122</td>\n",
       "      <td>6.3</td>\n",
       "      <td>en</td>\n",
       "      <td>Thriller</td>\n",
       "      <td>https://image.tmdb.org/t/p/original/vDHsLnOWKl...</td>\n",
       "    </tr>\n",
       "    <tr>\n",
       "      <th>3</th>\n",
       "      <td>2021</td>\n",
       "      <td>Encanto</td>\n",
       "      <td>The tale of an extraordinary family, the Madri...</td>\n",
       "      <td>63.786</td>\n",
       "      <td>3221</td>\n",
       "      <td>7.7</td>\n",
       "      <td>en</td>\n",
       "      <td>Animation, Comedy, Family, Fantasy</td>\n",
       "      <td>https://image.tmdb.org/t/p/original/4j0PNHkMr5...</td>\n",
       "    </tr>\n",
       "    <tr>\n",
       "      <th>4</th>\n",
       "      <td>2021</td>\n",
       "      <td>The King's Man</td>\n",
       "      <td>As a collection of history's worst tyrants and...</td>\n",
       "      <td>63.786</td>\n",
       "      <td>1793</td>\n",
       "      <td>7.0</td>\n",
       "      <td>en</td>\n",
       "      <td>Action, Adventure, Thriller, War</td>\n",
       "      <td>https://image.tmdb.org/t/p/original/aq4Pwv5Xeu...</td>\n",
       "    </tr>\n",
       "  </tbody>\n",
       "</table>\n",
       "</div>"
      ],
      "text/plain": [
       "   Release_Date                    Title  \\\n",
       "0          2021  Spider-Man: No Way Home   \n",
       "1          2022               The Batman   \n",
       "2          2022                  No Exit   \n",
       "3          2021                  Encanto   \n",
       "4          2021           The King's Man   \n",
       "\n",
       "                                            Overview  Popularity  Vote_Count  \\\n",
       "0  Peter Parker is unmasked and no longer able to...      63.786        3221   \n",
       "1  In his second year of fighting crime, Batman u...      63.786        1151   \n",
       "2  Stranded at a rest stop in the mountains durin...      63.786         122   \n",
       "3  The tale of an extraordinary family, the Madri...      63.786        3221   \n",
       "4  As a collection of history's worst tyrants and...      63.786        1793   \n",
       "\n",
       "   Vote_Average Original_Language                               Genre  \\\n",
       "0           8.3                en  Action, Adventure, Science Fiction   \n",
       "1           8.1                en            Crime, Mystery, Thriller   \n",
       "2           6.3                en                            Thriller   \n",
       "3           7.7                en  Animation, Comedy, Family, Fantasy   \n",
       "4           7.0                en    Action, Adventure, Thriller, War   \n",
       "\n",
       "                                          Poster_Url  \n",
       "0  https://image.tmdb.org/t/p/original/1g0dhYtq4i...  \n",
       "1  https://image.tmdb.org/t/p/original/74xTEgt7R3...  \n",
       "2  https://image.tmdb.org/t/p/original/vDHsLnOWKl...  \n",
       "3  https://image.tmdb.org/t/p/original/4j0PNHkMr5...  \n",
       "4  https://image.tmdb.org/t/p/original/aq4Pwv5Xeu...  "
      ]
     },
     "execution_count": 44,
     "metadata": {},
     "output_type": "execute_result"
    }
   ],
   "source": [
    "df.head()"
   ]
  },
  {
   "cell_type": "code",
   "execution_count": 45,
   "id": "1b69b329-415b-448a-b2ef-339f9d1af292",
   "metadata": {},
   "outputs": [],
   "source": [
    "df = df.drop(columns=['Poster_Url'], axis=1)\n"
   ]
  },
  {
   "cell_type": "code",
   "execution_count": 46,
   "id": "ae837ce9-8944-4499-aae4-bf326edbcf70",
   "metadata": {},
   "outputs": [
    {
     "data": {
      "text/html": [
       "<div>\n",
       "<style scoped>\n",
       "    .dataframe tbody tr th:only-of-type {\n",
       "        vertical-align: middle;\n",
       "    }\n",
       "\n",
       "    .dataframe tbody tr th {\n",
       "        vertical-align: top;\n",
       "    }\n",
       "\n",
       "    .dataframe thead th {\n",
       "        text-align: right;\n",
       "    }\n",
       "</style>\n",
       "<table border=\"1\" class=\"dataframe\">\n",
       "  <thead>\n",
       "    <tr style=\"text-align: right;\">\n",
       "      <th></th>\n",
       "      <th>Release_Date</th>\n",
       "      <th>Title</th>\n",
       "      <th>Overview</th>\n",
       "      <th>Popularity</th>\n",
       "      <th>Vote_Count</th>\n",
       "      <th>Vote_Average</th>\n",
       "      <th>Original_Language</th>\n",
       "      <th>Genre</th>\n",
       "    </tr>\n",
       "  </thead>\n",
       "  <tbody>\n",
       "    <tr>\n",
       "      <th>0</th>\n",
       "      <td>2021</td>\n",
       "      <td>Spider-Man: No Way Home</td>\n",
       "      <td>Peter Parker is unmasked and no longer able to...</td>\n",
       "      <td>63.786</td>\n",
       "      <td>3221</td>\n",
       "      <td>8.3</td>\n",
       "      <td>en</td>\n",
       "      <td>Action, Adventure, Science Fiction</td>\n",
       "    </tr>\n",
       "    <tr>\n",
       "      <th>1</th>\n",
       "      <td>2022</td>\n",
       "      <td>The Batman</td>\n",
       "      <td>In his second year of fighting crime, Batman u...</td>\n",
       "      <td>63.786</td>\n",
       "      <td>1151</td>\n",
       "      <td>8.1</td>\n",
       "      <td>en</td>\n",
       "      <td>Crime, Mystery, Thriller</td>\n",
       "    </tr>\n",
       "    <tr>\n",
       "      <th>2</th>\n",
       "      <td>2022</td>\n",
       "      <td>No Exit</td>\n",
       "      <td>Stranded at a rest stop in the mountains durin...</td>\n",
       "      <td>63.786</td>\n",
       "      <td>122</td>\n",
       "      <td>6.3</td>\n",
       "      <td>en</td>\n",
       "      <td>Thriller</td>\n",
       "    </tr>\n",
       "    <tr>\n",
       "      <th>3</th>\n",
       "      <td>2021</td>\n",
       "      <td>Encanto</td>\n",
       "      <td>The tale of an extraordinary family, the Madri...</td>\n",
       "      <td>63.786</td>\n",
       "      <td>3221</td>\n",
       "      <td>7.7</td>\n",
       "      <td>en</td>\n",
       "      <td>Animation, Comedy, Family, Fantasy</td>\n",
       "    </tr>\n",
       "    <tr>\n",
       "      <th>4</th>\n",
       "      <td>2021</td>\n",
       "      <td>The King's Man</td>\n",
       "      <td>As a collection of history's worst tyrants and...</td>\n",
       "      <td>63.786</td>\n",
       "      <td>1793</td>\n",
       "      <td>7.0</td>\n",
       "      <td>en</td>\n",
       "      <td>Action, Adventure, Thriller, War</td>\n",
       "    </tr>\n",
       "  </tbody>\n",
       "</table>\n",
       "</div>"
      ],
      "text/plain": [
       "   Release_Date                    Title  \\\n",
       "0          2021  Spider-Man: No Way Home   \n",
       "1          2022               The Batman   \n",
       "2          2022                  No Exit   \n",
       "3          2021                  Encanto   \n",
       "4          2021           The King's Man   \n",
       "\n",
       "                                            Overview  Popularity  Vote_Count  \\\n",
       "0  Peter Parker is unmasked and no longer able to...      63.786        3221   \n",
       "1  In his second year of fighting crime, Batman u...      63.786        1151   \n",
       "2  Stranded at a rest stop in the mountains durin...      63.786         122   \n",
       "3  The tale of an extraordinary family, the Madri...      63.786        3221   \n",
       "4  As a collection of history's worst tyrants and...      63.786        1793   \n",
       "\n",
       "   Vote_Average Original_Language                               Genre  \n",
       "0           8.3                en  Action, Adventure, Science Fiction  \n",
       "1           8.1                en            Crime, Mystery, Thriller  \n",
       "2           6.3                en                            Thriller  \n",
       "3           7.7                en  Animation, Comedy, Family, Fantasy  \n",
       "4           7.0                en    Action, Adventure, Thriller, War  "
      ]
     },
     "execution_count": 46,
     "metadata": {},
     "output_type": "execute_result"
    }
   ],
   "source": [
    "df.head()"
   ]
  },
  {
   "cell_type": "code",
   "execution_count": 47,
   "id": "7b30f2d8-6ef8-452b-b330-27e73e8f220c",
   "metadata": {},
   "outputs": [
    {
     "data": {
      "text/html": [
       "<div>\n",
       "<style scoped>\n",
       "    .dataframe tbody tr th:only-of-type {\n",
       "        vertical-align: middle;\n",
       "    }\n",
       "\n",
       "    .dataframe tbody tr th {\n",
       "        vertical-align: top;\n",
       "    }\n",
       "\n",
       "    .dataframe thead th {\n",
       "        text-align: right;\n",
       "    }\n",
       "</style>\n",
       "<table border=\"1\" class=\"dataframe\">\n",
       "  <thead>\n",
       "    <tr style=\"text-align: right;\">\n",
       "      <th></th>\n",
       "      <th>Release_Date</th>\n",
       "      <th>Popularity</th>\n",
       "      <th>Vote_Count</th>\n",
       "      <th>Vote_Average</th>\n",
       "    </tr>\n",
       "  </thead>\n",
       "  <tbody>\n",
       "    <tr>\n",
       "      <th>count</th>\n",
       "      <td>9827.000000</td>\n",
       "      <td>9827.000000</td>\n",
       "      <td>9827.000000</td>\n",
       "      <td>9827.00000</td>\n",
       "    </tr>\n",
       "    <tr>\n",
       "      <th>mean</th>\n",
       "      <td>2006.203623</td>\n",
       "      <td>28.362255</td>\n",
       "      <td>944.255012</td>\n",
       "      <td>6.48962</td>\n",
       "    </tr>\n",
       "    <tr>\n",
       "      <th>std</th>\n",
       "      <td>15.685554</td>\n",
       "      <td>16.344671</td>\n",
       "      <td>1070.953996</td>\n",
       "      <td>0.92359</td>\n",
       "    </tr>\n",
       "    <tr>\n",
       "      <th>min</th>\n",
       "      <td>1902.000000</td>\n",
       "      <td>13.354000</td>\n",
       "      <td>0.000000</td>\n",
       "      <td>4.10000</td>\n",
       "    </tr>\n",
       "    <tr>\n",
       "      <th>25%</th>\n",
       "      <td>2000.000000</td>\n",
       "      <td>16.128500</td>\n",
       "      <td>146.000000</td>\n",
       "      <td>5.90000</td>\n",
       "    </tr>\n",
       "    <tr>\n",
       "      <th>50%</th>\n",
       "      <td>2011.000000</td>\n",
       "      <td>21.199000</td>\n",
       "      <td>444.000000</td>\n",
       "      <td>6.50000</td>\n",
       "    </tr>\n",
       "    <tr>\n",
       "      <th>75%</th>\n",
       "      <td>2017.000000</td>\n",
       "      <td>35.191500</td>\n",
       "      <td>1376.000000</td>\n",
       "      <td>7.10000</td>\n",
       "    </tr>\n",
       "    <tr>\n",
       "      <th>max</th>\n",
       "      <td>2024.000000</td>\n",
       "      <td>63.786000</td>\n",
       "      <td>3221.000000</td>\n",
       "      <td>8.90000</td>\n",
       "    </tr>\n",
       "  </tbody>\n",
       "</table>\n",
       "</div>"
      ],
      "text/plain": [
       "       Release_Date   Popularity   Vote_Count  Vote_Average\n",
       "count   9827.000000  9827.000000  9827.000000    9827.00000\n",
       "mean    2006.203623    28.362255   944.255012       6.48962\n",
       "std       15.685554    16.344671  1070.953996       0.92359\n",
       "min     1902.000000    13.354000     0.000000       4.10000\n",
       "25%     2000.000000    16.128500   146.000000       5.90000\n",
       "50%     2011.000000    21.199000   444.000000       6.50000\n",
       "75%     2017.000000    35.191500  1376.000000       7.10000\n",
       "max     2024.000000    63.786000  3221.000000       8.90000"
      ]
     },
     "execution_count": 47,
     "metadata": {},
     "output_type": "execute_result"
    }
   ],
   "source": [
    "df.describe()"
   ]
  },
  {
   "cell_type": "code",
   "execution_count": 48,
   "id": "760f41fc-27cd-46e9-b476-4dc1f543d25c",
   "metadata": {},
   "outputs": [],
   "source": [
    "def cate_col(df,col,labels):\n",
    "    edges = [df[col].describe()['min']-0.01,\n",
    "             df[col].describe()['25%'],\n",
    "             df[col].describe()['50%'],\n",
    "             df[col].describe()['75%'],\n",
    "             df[col].describe()['max']]\n",
    "\n",
    "    df[col] = pd.cut(df[col], bins=len(labels), labels=labels, duplicates='drop')\n",
    "    return df"
   ]
  },
  {
   "cell_type": "code",
   "execution_count": 49,
   "id": "63d78201-45df-4067-a05a-a1c2d70f8cfb",
   "metadata": {},
   "outputs": [],
   "source": [
    "labels = [\"least\",\"Very Low\", \"Low\", \"Medium\", \"High\"]\n",
    "df = cate_col(df, 'Vote_Average', labels)"
   ]
  },
  {
   "cell_type": "code",
   "execution_count": 50,
   "id": "b85963c7-e910-47b1-b22a-aaaef4486d03",
   "metadata": {},
   "outputs": [
    {
     "data": {
      "text/plain": [
       "['High', 'Low', 'Medium', 'Very Low', 'least']\n",
       "Categories (5, object): ['least' < 'Very Low' < 'Low' < 'Medium' < 'High']"
      ]
     },
     "execution_count": 50,
     "metadata": {},
     "output_type": "execute_result"
    }
   ],
   "source": [
    "df['Vote_Average'].unique()"
   ]
  },
  {
   "cell_type": "code",
   "execution_count": 51,
   "id": "1c72424a-d22a-4e32-8778-0a3e9198ee8c",
   "metadata": {},
   "outputs": [
    {
     "data": {
      "text/html": [
       "<div>\n",
       "<style scoped>\n",
       "    .dataframe tbody tr th:only-of-type {\n",
       "        vertical-align: middle;\n",
       "    }\n",
       "\n",
       "    .dataframe tbody tr th {\n",
       "        vertical-align: top;\n",
       "    }\n",
       "\n",
       "    .dataframe thead th {\n",
       "        text-align: right;\n",
       "    }\n",
       "</style>\n",
       "<table border=\"1\" class=\"dataframe\">\n",
       "  <thead>\n",
       "    <tr style=\"text-align: right;\">\n",
       "      <th></th>\n",
       "      <th>Release_Date</th>\n",
       "      <th>Title</th>\n",
       "      <th>Overview</th>\n",
       "      <th>Popularity</th>\n",
       "      <th>Vote_Count</th>\n",
       "      <th>Vote_Average</th>\n",
       "      <th>Original_Language</th>\n",
       "      <th>Genre</th>\n",
       "    </tr>\n",
       "  </thead>\n",
       "  <tbody>\n",
       "    <tr>\n",
       "      <th>0</th>\n",
       "      <td>2021</td>\n",
       "      <td>Spider-Man: No Way Home</td>\n",
       "      <td>Peter Parker is unmasked and no longer able to...</td>\n",
       "      <td>63.786</td>\n",
       "      <td>3221</td>\n",
       "      <td>High</td>\n",
       "      <td>en</td>\n",
       "      <td>Action, Adventure, Science Fiction</td>\n",
       "    </tr>\n",
       "    <tr>\n",
       "      <th>1</th>\n",
       "      <td>2022</td>\n",
       "      <td>The Batman</td>\n",
       "      <td>In his second year of fighting crime, Batman u...</td>\n",
       "      <td>63.786</td>\n",
       "      <td>1151</td>\n",
       "      <td>High</td>\n",
       "      <td>en</td>\n",
       "      <td>Crime, Mystery, Thriller</td>\n",
       "    </tr>\n",
       "    <tr>\n",
       "      <th>2</th>\n",
       "      <td>2022</td>\n",
       "      <td>No Exit</td>\n",
       "      <td>Stranded at a rest stop in the mountains durin...</td>\n",
       "      <td>63.786</td>\n",
       "      <td>122</td>\n",
       "      <td>Low</td>\n",
       "      <td>en</td>\n",
       "      <td>Thriller</td>\n",
       "    </tr>\n",
       "    <tr>\n",
       "      <th>3</th>\n",
       "      <td>2021</td>\n",
       "      <td>Encanto</td>\n",
       "      <td>The tale of an extraordinary family, the Madri...</td>\n",
       "      <td>63.786</td>\n",
       "      <td>3221</td>\n",
       "      <td>Medium</td>\n",
       "      <td>en</td>\n",
       "      <td>Animation, Comedy, Family, Fantasy</td>\n",
       "    </tr>\n",
       "    <tr>\n",
       "      <th>4</th>\n",
       "      <td>2021</td>\n",
       "      <td>The King's Man</td>\n",
       "      <td>As a collection of history's worst tyrants and...</td>\n",
       "      <td>63.786</td>\n",
       "      <td>1793</td>\n",
       "      <td>Medium</td>\n",
       "      <td>en</td>\n",
       "      <td>Action, Adventure, Thriller, War</td>\n",
       "    </tr>\n",
       "  </tbody>\n",
       "</table>\n",
       "</div>"
      ],
      "text/plain": [
       "   Release_Date                    Title  \\\n",
       "0          2021  Spider-Man: No Way Home   \n",
       "1          2022               The Batman   \n",
       "2          2022                  No Exit   \n",
       "3          2021                  Encanto   \n",
       "4          2021           The King's Man   \n",
       "\n",
       "                                            Overview  Popularity  Vote_Count  \\\n",
       "0  Peter Parker is unmasked and no longer able to...      63.786        3221   \n",
       "1  In his second year of fighting crime, Batman u...      63.786        1151   \n",
       "2  Stranded at a rest stop in the mountains durin...      63.786         122   \n",
       "3  The tale of an extraordinary family, the Madri...      63.786        3221   \n",
       "4  As a collection of history's worst tyrants and...      63.786        1793   \n",
       "\n",
       "  Vote_Average Original_Language                               Genre  \n",
       "0         High                en  Action, Adventure, Science Fiction  \n",
       "1         High                en            Crime, Mystery, Thriller  \n",
       "2          Low                en                            Thriller  \n",
       "3       Medium                en  Animation, Comedy, Family, Fantasy  \n",
       "4       Medium                en    Action, Adventure, Thriller, War  "
      ]
     },
     "execution_count": 51,
     "metadata": {},
     "output_type": "execute_result"
    }
   ],
   "source": [
    "df.head()"
   ]
  },
  {
   "cell_type": "code",
   "execution_count": 52,
   "id": "af7911cf-7eaa-4957-af07-4760383500a4",
   "metadata": {},
   "outputs": [
    {
     "data": {
      "text/html": [
       "<div>\n",
       "<style scoped>\n",
       "    .dataframe tbody tr th:only-of-type {\n",
       "        vertical-align: middle;\n",
       "    }\n",
       "\n",
       "    .dataframe tbody tr th {\n",
       "        vertical-align: top;\n",
       "    }\n",
       "\n",
       "    .dataframe thead th {\n",
       "        text-align: right;\n",
       "    }\n",
       "</style>\n",
       "<table border=\"1\" class=\"dataframe\">\n",
       "  <thead>\n",
       "    <tr style=\"text-align: right;\">\n",
       "      <th></th>\n",
       "      <th>Release_Date</th>\n",
       "      <th>Title</th>\n",
       "      <th>Overview</th>\n",
       "      <th>Popularity</th>\n",
       "      <th>Vote_Count</th>\n",
       "      <th>Vote_Average</th>\n",
       "      <th>Original_Language</th>\n",
       "      <th>Genre</th>\n",
       "    </tr>\n",
       "  </thead>\n",
       "  <tbody>\n",
       "    <tr>\n",
       "      <th>9822</th>\n",
       "      <td>1973</td>\n",
       "      <td>Badlands</td>\n",
       "      <td>A dramatization of the Starkweather-Fugate kil...</td>\n",
       "      <td>13.357</td>\n",
       "      <td>896</td>\n",
       "      <td>Medium</td>\n",
       "      <td>en</td>\n",
       "      <td>Drama, Crime</td>\n",
       "    </tr>\n",
       "    <tr>\n",
       "      <th>9823</th>\n",
       "      <td>2020</td>\n",
       "      <td>Violent Delights</td>\n",
       "      <td>A female vampire falls in love with a man she ...</td>\n",
       "      <td>13.356</td>\n",
       "      <td>8</td>\n",
       "      <td>least</td>\n",
       "      <td>es</td>\n",
       "      <td>Horror</td>\n",
       "    </tr>\n",
       "    <tr>\n",
       "      <th>9824</th>\n",
       "      <td>2016</td>\n",
       "      <td>The Offering</td>\n",
       "      <td>When young and successful reporter Jamie finds...</td>\n",
       "      <td>13.355</td>\n",
       "      <td>94</td>\n",
       "      <td>least</td>\n",
       "      <td>en</td>\n",
       "      <td>Mystery, Thriller, Horror</td>\n",
       "    </tr>\n",
       "    <tr>\n",
       "      <th>9825</th>\n",
       "      <td>2021</td>\n",
       "      <td>The United States vs. Billie Holiday</td>\n",
       "      <td>Billie Holiday spent much of her career being ...</td>\n",
       "      <td>13.354</td>\n",
       "      <td>152</td>\n",
       "      <td>Low</td>\n",
       "      <td>en</td>\n",
       "      <td>Music, Drama, History</td>\n",
       "    </tr>\n",
       "    <tr>\n",
       "      <th>9826</th>\n",
       "      <td>1984</td>\n",
       "      <td>Threads</td>\n",
       "      <td>Documentary style account of a nuclear holocau...</td>\n",
       "      <td>13.354</td>\n",
       "      <td>186</td>\n",
       "      <td>Medium</td>\n",
       "      <td>en</td>\n",
       "      <td>War, Drama, Science Fiction</td>\n",
       "    </tr>\n",
       "  </tbody>\n",
       "</table>\n",
       "</div>"
      ],
      "text/plain": [
       "      Release_Date                                 Title  \\\n",
       "9822          1973                              Badlands   \n",
       "9823          2020                      Violent Delights   \n",
       "9824          2016                          The Offering   \n",
       "9825          2021  The United States vs. Billie Holiday   \n",
       "9826          1984                               Threads   \n",
       "\n",
       "                                               Overview  Popularity  \\\n",
       "9822  A dramatization of the Starkweather-Fugate kil...      13.357   \n",
       "9823  A female vampire falls in love with a man she ...      13.356   \n",
       "9824  When young and successful reporter Jamie finds...      13.355   \n",
       "9825  Billie Holiday spent much of her career being ...      13.354   \n",
       "9826  Documentary style account of a nuclear holocau...      13.354   \n",
       "\n",
       "      Vote_Count Vote_Average Original_Language                        Genre  \n",
       "9822         896       Medium                en                 Drama, Crime  \n",
       "9823           8        least                es                       Horror  \n",
       "9824          94        least                en    Mystery, Thriller, Horror  \n",
       "9825         152          Low                en        Music, Drama, History  \n",
       "9826         186       Medium                en  War, Drama, Science Fiction  "
      ]
     },
     "execution_count": 52,
     "metadata": {},
     "output_type": "execute_result"
    }
   ],
   "source": [
    "df.tail()"
   ]
  },
  {
   "cell_type": "code",
   "execution_count": 53,
   "id": "7c9b6b86-df75-48ac-b5d4-2d1763d16b50",
   "metadata": {},
   "outputs": [
    {
     "data": {
      "text/plain": [
       "Release_Date         0\n",
       "Title                0\n",
       "Overview             0\n",
       "Popularity           0\n",
       "Vote_Count           0\n",
       "Vote_Average         0\n",
       "Original_Language    0\n",
       "Genre                0\n",
       "dtype: int64"
      ]
     },
     "execution_count": 53,
     "metadata": {},
     "output_type": "execute_result"
    }
   ],
   "source": [
    "df.isna().sum()"
   ]
  },
  {
   "cell_type": "code",
   "execution_count": 54,
   "id": "8ad2a60c-6aad-47ad-8c05-48820e340f16",
   "metadata": {},
   "outputs": [
    {
     "data": {
      "text/html": [
       "<div>\n",
       "<style scoped>\n",
       "    .dataframe tbody tr th:only-of-type {\n",
       "        vertical-align: middle;\n",
       "    }\n",
       "\n",
       "    .dataframe tbody tr th {\n",
       "        vertical-align: top;\n",
       "    }\n",
       "\n",
       "    .dataframe thead th {\n",
       "        text-align: right;\n",
       "    }\n",
       "</style>\n",
       "<table border=\"1\" class=\"dataframe\">\n",
       "  <thead>\n",
       "    <tr style=\"text-align: right;\">\n",
       "      <th></th>\n",
       "      <th>Release_Date</th>\n",
       "      <th>Title</th>\n",
       "      <th>Overview</th>\n",
       "      <th>Popularity</th>\n",
       "      <th>Vote_Count</th>\n",
       "      <th>Vote_Average</th>\n",
       "      <th>Original_Language</th>\n",
       "      <th>Genre</th>\n",
       "    </tr>\n",
       "  </thead>\n",
       "  <tbody>\n",
       "  </tbody>\n",
       "</table>\n",
       "</div>"
      ],
      "text/plain": [
       "Empty DataFrame\n",
       "Columns: [Release_Date, Title, Overview, Popularity, Vote_Count, Vote_Average, Original_Language, Genre]\n",
       "Index: []"
      ]
     },
     "execution_count": 54,
     "metadata": {},
     "output_type": "execute_result"
    }
   ],
   "source": [
    "df[df['Vote_Average'].isna()]\n"
   ]
  },
  {
   "cell_type": "code",
   "execution_count": 55,
   "id": "f53ab034-8429-47cb-8c38-4442f234b985",
   "metadata": {},
   "outputs": [],
   "source": [
    "# df['Vote_Average'] = df['Vote_Average'].fillna(\"bad\")"
   ]
  },
  {
   "cell_type": "code",
   "execution_count": 56,
   "id": "c63297eb-f6aa-4e49-81fb-8227c21ae299",
   "metadata": {},
   "outputs": [
    {
     "data": {
      "text/html": [
       "<div>\n",
       "<style scoped>\n",
       "    .dataframe tbody tr th:only-of-type {\n",
       "        vertical-align: middle;\n",
       "    }\n",
       "\n",
       "    .dataframe tbody tr th {\n",
       "        vertical-align: top;\n",
       "    }\n",
       "\n",
       "    .dataframe thead th {\n",
       "        text-align: right;\n",
       "    }\n",
       "</style>\n",
       "<table border=\"1\" class=\"dataframe\">\n",
       "  <thead>\n",
       "    <tr style=\"text-align: right;\">\n",
       "      <th></th>\n",
       "      <th>Release_Date</th>\n",
       "      <th>Title</th>\n",
       "      <th>Overview</th>\n",
       "      <th>Popularity</th>\n",
       "      <th>Vote_Count</th>\n",
       "      <th>Vote_Average</th>\n",
       "      <th>Original_Language</th>\n",
       "      <th>Genre</th>\n",
       "    </tr>\n",
       "  </thead>\n",
       "  <tbody>\n",
       "    <tr>\n",
       "      <th>9822</th>\n",
       "      <td>1973</td>\n",
       "      <td>Badlands</td>\n",
       "      <td>A dramatization of the Starkweather-Fugate kil...</td>\n",
       "      <td>13.357</td>\n",
       "      <td>896</td>\n",
       "      <td>Medium</td>\n",
       "      <td>en</td>\n",
       "      <td>Drama, Crime</td>\n",
       "    </tr>\n",
       "    <tr>\n",
       "      <th>9823</th>\n",
       "      <td>2020</td>\n",
       "      <td>Violent Delights</td>\n",
       "      <td>A female vampire falls in love with a man she ...</td>\n",
       "      <td>13.356</td>\n",
       "      <td>8</td>\n",
       "      <td>least</td>\n",
       "      <td>es</td>\n",
       "      <td>Horror</td>\n",
       "    </tr>\n",
       "    <tr>\n",
       "      <th>9824</th>\n",
       "      <td>2016</td>\n",
       "      <td>The Offering</td>\n",
       "      <td>When young and successful reporter Jamie finds...</td>\n",
       "      <td>13.355</td>\n",
       "      <td>94</td>\n",
       "      <td>least</td>\n",
       "      <td>en</td>\n",
       "      <td>Mystery, Thriller, Horror</td>\n",
       "    </tr>\n",
       "    <tr>\n",
       "      <th>9825</th>\n",
       "      <td>2021</td>\n",
       "      <td>The United States vs. Billie Holiday</td>\n",
       "      <td>Billie Holiday spent much of her career being ...</td>\n",
       "      <td>13.354</td>\n",
       "      <td>152</td>\n",
       "      <td>Low</td>\n",
       "      <td>en</td>\n",
       "      <td>Music, Drama, History</td>\n",
       "    </tr>\n",
       "    <tr>\n",
       "      <th>9826</th>\n",
       "      <td>1984</td>\n",
       "      <td>Threads</td>\n",
       "      <td>Documentary style account of a nuclear holocau...</td>\n",
       "      <td>13.354</td>\n",
       "      <td>186</td>\n",
       "      <td>Medium</td>\n",
       "      <td>en</td>\n",
       "      <td>War, Drama, Science Fiction</td>\n",
       "    </tr>\n",
       "  </tbody>\n",
       "</table>\n",
       "</div>"
      ],
      "text/plain": [
       "      Release_Date                                 Title  \\\n",
       "9822          1973                              Badlands   \n",
       "9823          2020                      Violent Delights   \n",
       "9824          2016                          The Offering   \n",
       "9825          2021  The United States vs. Billie Holiday   \n",
       "9826          1984                               Threads   \n",
       "\n",
       "                                               Overview  Popularity  \\\n",
       "9822  A dramatization of the Starkweather-Fugate kil...      13.357   \n",
       "9823  A female vampire falls in love with a man she ...      13.356   \n",
       "9824  When young and successful reporter Jamie finds...      13.355   \n",
       "9825  Billie Holiday spent much of her career being ...      13.354   \n",
       "9826  Documentary style account of a nuclear holocau...      13.354   \n",
       "\n",
       "      Vote_Count Vote_Average Original_Language                        Genre  \n",
       "9822         896       Medium                en                 Drama, Crime  \n",
       "9823           8        least                es                       Horror  \n",
       "9824          94        least                en    Mystery, Thriller, Horror  \n",
       "9825         152          Low                en        Music, Drama, History  \n",
       "9826         186       Medium                en  War, Drama, Science Fiction  "
      ]
     },
     "execution_count": 56,
     "metadata": {},
     "output_type": "execute_result"
    }
   ],
   "source": [
    "df.tail()"
   ]
  },
  {
   "cell_type": "code",
   "execution_count": 57,
   "id": "e7bdc80b-b764-435c-886f-e8c9fb1e1821",
   "metadata": {},
   "outputs": [],
   "source": [
    "df.drop(columns=['Original_Language'], inplace=True)"
   ]
  },
  {
   "cell_type": "code",
   "execution_count": 58,
   "id": "c176c807-24b3-4ffd-8677-a34b4484fa65",
   "metadata": {},
   "outputs": [
    {
     "data": {
      "text/html": [
       "<div>\n",
       "<style scoped>\n",
       "    .dataframe tbody tr th:only-of-type {\n",
       "        vertical-align: middle;\n",
       "    }\n",
       "\n",
       "    .dataframe tbody tr th {\n",
       "        vertical-align: top;\n",
       "    }\n",
       "\n",
       "    .dataframe thead th {\n",
       "        text-align: right;\n",
       "    }\n",
       "</style>\n",
       "<table border=\"1\" class=\"dataframe\">\n",
       "  <thead>\n",
       "    <tr style=\"text-align: right;\">\n",
       "      <th></th>\n",
       "      <th>Release_Date</th>\n",
       "      <th>Title</th>\n",
       "      <th>Overview</th>\n",
       "      <th>Popularity</th>\n",
       "      <th>Vote_Count</th>\n",
       "      <th>Vote_Average</th>\n",
       "      <th>Genre</th>\n",
       "    </tr>\n",
       "  </thead>\n",
       "  <tbody>\n",
       "    <tr>\n",
       "      <th>0</th>\n",
       "      <td>2021</td>\n",
       "      <td>Spider-Man: No Way Home</td>\n",
       "      <td>Peter Parker is unmasked and no longer able to...</td>\n",
       "      <td>63.786</td>\n",
       "      <td>3221</td>\n",
       "      <td>High</td>\n",
       "      <td>Action, Adventure, Science Fiction</td>\n",
       "    </tr>\n",
       "    <tr>\n",
       "      <th>1</th>\n",
       "      <td>2022</td>\n",
       "      <td>The Batman</td>\n",
       "      <td>In his second year of fighting crime, Batman u...</td>\n",
       "      <td>63.786</td>\n",
       "      <td>1151</td>\n",
       "      <td>High</td>\n",
       "      <td>Crime, Mystery, Thriller</td>\n",
       "    </tr>\n",
       "    <tr>\n",
       "      <th>2</th>\n",
       "      <td>2022</td>\n",
       "      <td>No Exit</td>\n",
       "      <td>Stranded at a rest stop in the mountains durin...</td>\n",
       "      <td>63.786</td>\n",
       "      <td>122</td>\n",
       "      <td>Low</td>\n",
       "      <td>Thriller</td>\n",
       "    </tr>\n",
       "    <tr>\n",
       "      <th>3</th>\n",
       "      <td>2021</td>\n",
       "      <td>Encanto</td>\n",
       "      <td>The tale of an extraordinary family, the Madri...</td>\n",
       "      <td>63.786</td>\n",
       "      <td>3221</td>\n",
       "      <td>Medium</td>\n",
       "      <td>Animation, Comedy, Family, Fantasy</td>\n",
       "    </tr>\n",
       "    <tr>\n",
       "      <th>4</th>\n",
       "      <td>2021</td>\n",
       "      <td>The King's Man</td>\n",
       "      <td>As a collection of history's worst tyrants and...</td>\n",
       "      <td>63.786</td>\n",
       "      <td>1793</td>\n",
       "      <td>Medium</td>\n",
       "      <td>Action, Adventure, Thriller, War</td>\n",
       "    </tr>\n",
       "  </tbody>\n",
       "</table>\n",
       "</div>"
      ],
      "text/plain": [
       "   Release_Date                    Title  \\\n",
       "0          2021  Spider-Man: No Way Home   \n",
       "1          2022               The Batman   \n",
       "2          2022                  No Exit   \n",
       "3          2021                  Encanto   \n",
       "4          2021           The King's Man   \n",
       "\n",
       "                                            Overview  Popularity  Vote_Count  \\\n",
       "0  Peter Parker is unmasked and no longer able to...      63.786        3221   \n",
       "1  In his second year of fighting crime, Batman u...      63.786        1151   \n",
       "2  Stranded at a rest stop in the mountains durin...      63.786         122   \n",
       "3  The tale of an extraordinary family, the Madri...      63.786        3221   \n",
       "4  As a collection of history's worst tyrants and...      63.786        1793   \n",
       "\n",
       "  Vote_Average                               Genre  \n",
       "0         High  Action, Adventure, Science Fiction  \n",
       "1         High            Crime, Mystery, Thriller  \n",
       "2          Low                            Thriller  \n",
       "3       Medium  Animation, Comedy, Family, Fantasy  \n",
       "4       Medium    Action, Adventure, Thriller, War  "
      ]
     },
     "execution_count": 58,
     "metadata": {},
     "output_type": "execute_result"
    }
   ],
   "source": [
    "df.head()"
   ]
  },
  {
   "cell_type": "code",
   "execution_count": 59,
   "id": "7620305a-03dd-4242-a1e2-4998d6824c0d",
   "metadata": {},
   "outputs": [],
   "source": [
    "sns.set_style('whitegrid')"
   ]
  },
  {
   "cell_type": "code",
   "execution_count": 60,
   "id": "d816ece5-b0bc-4804-934f-5d30d1ef7d32",
   "metadata": {},
   "outputs": [
    {
     "data": {
      "text/plain": [
       "count      9827\n",
       "unique     2337\n",
       "top       Drama\n",
       "freq        466\n",
       "Name: Genre, dtype: object"
      ]
     },
     "execution_count": 60,
     "metadata": {},
     "output_type": "execute_result"
    }
   ],
   "source": [
    "df['Genre'].describe()"
   ]
  },
  {
   "cell_type": "code",
   "execution_count": 61,
   "id": "a052e246-2b9f-4fcb-8a10-d6633cb346c2",
   "metadata": {},
   "outputs": [
    {
     "data": {
      "text/plain": [
       "Index(['Drama', 'Comedy', 'Drama, Romance', 'Horror', 'Horror, Thriller',\n",
       "       'Comedy, Romance', 'Documentary', 'Comedy, Drama', 'Action, Thriller',\n",
       "       'Comedy, Drama, Romance',\n",
       "       ...\n",
       "       'Science Fiction, Animation, Action, Drama',\n",
       "       'Horror, Thriller, Romance, Mystery',\n",
       "       'Action, Adventure, Comedy, Drama, Animation',\n",
       "       'Comedy, Mystery, Action, Adventure', 'Adventure, Thriller, Horror',\n",
       "       'Drama, Horror, Thriller, Science Fiction',\n",
       "       'Action, Science Fiction, Animation, Adventure',\n",
       "       'Comedy, Fantasy, Horror, Science Fiction',\n",
       "       'Drama, Science Fiction, Animation', 'War, Drama, Science Fiction'],\n",
       "      dtype='object', name='Genre', length=2337)"
      ]
     },
     "execution_count": 61,
     "metadata": {},
     "output_type": "execute_result"
    }
   ],
   "source": [
    "df['Genre'].value_counts().index"
   ]
  },
  {
   "cell_type": "code",
   "execution_count": 62,
   "id": "7322794c-80ab-404e-a090-732bec75af8d",
   "metadata": {},
   "outputs": [
    {
     "data": {
      "image/png": "[encoded data removed]",
      "text/plain": [
       "<Figure size 1211.11x600 with 1 Axes>"
      ]
     },
     "metadata": {},
     "output_type": "display_data"
    }
   ],
   "source": [
    "top_genres = df['Genre'].value_counts().head(20)\n",
    "\n",
    "sns.catplot(\n",
    "    y=top_genres.index,\n",
    "    x=top_genres.values,\n",
    "    kind=\"bar\",\n",
    "    color=\"red\",\n",
    "    height=6, aspect=2\n",
    ")\n",
    "\n",
    "plt.title(\"Top 15 Genres\")\n",
    "plt.show()\n"
   ]
  },
  {
   "cell_type": "code",
   "execution_count": 63,
   "id": "2fe8e32e-caa3-4e09-a839-fd9a2cd5948c",
   "metadata": {},
   "outputs": [],
   "source": [
    "df['Genre'] = df['Genre'].str.split(', ')\n",
    "df = df.explode('Genre').reset_index(drop=True)"
   ]
  },
  {
   "cell_type": "code",
   "execution_count": 64,
   "id": "df1e0f78-5fe8-4a24-9b92-7ca9c363f820",
   "metadata": {},
   "outputs": [
    {
     "data": {
      "text/html": [
       "<div>\n",
       "<style scoped>\n",
       "    .dataframe tbody tr th:only-of-type {\n",
       "        vertical-align: middle;\n",
       "    }\n",
       "\n",
       "    .dataframe tbody tr th {\n",
       "        vertical-align: top;\n",
       "    }\n",
       "\n",
       "    .dataframe thead th {\n",
       "        text-align: right;\n",
       "    }\n",
       "</style>\n",
       "<table border=\"1\" class=\"dataframe\">\n",
       "  <thead>\n",
       "    <tr style=\"text-align: right;\">\n",
       "      <th></th>\n",
       "      <th>Release_Date</th>\n",
       "      <th>Title</th>\n",
       "      <th>Overview</th>\n",
       "      <th>Popularity</th>\n",
       "      <th>Vote_Count</th>\n",
       "      <th>Vote_Average</th>\n",
       "      <th>Genre</th>\n",
       "    </tr>\n",
       "  </thead>\n",
       "  <tbody>\n",
       "    <tr>\n",
       "      <th>0</th>\n",
       "      <td>2021</td>\n",
       "      <td>Spider-Man: No Way Home</td>\n",
       "      <td>Peter Parker is unmasked and no longer able to...</td>\n",
       "      <td>63.786</td>\n",
       "      <td>3221</td>\n",
       "      <td>High</td>\n",
       "      <td>Action</td>\n",
       "    </tr>\n",
       "    <tr>\n",
       "      <th>1</th>\n",
       "      <td>2021</td>\n",
       "      <td>Spider-Man: No Way Home</td>\n",
       "      <td>Peter Parker is unmasked and no longer able to...</td>\n",
       "      <td>63.786</td>\n",
       "      <td>3221</td>\n",
       "      <td>High</td>\n",
       "      <td>Adventure</td>\n",
       "    </tr>\n",
       "    <tr>\n",
       "      <th>2</th>\n",
       "      <td>2021</td>\n",
       "      <td>Spider-Man: No Way Home</td>\n",
       "      <td>Peter Parker is unmasked and no longer able to...</td>\n",
       "      <td>63.786</td>\n",
       "      <td>3221</td>\n",
       "      <td>High</td>\n",
       "      <td>Science Fiction</td>\n",
       "    </tr>\n",
       "    <tr>\n",
       "      <th>3</th>\n",
       "      <td>2022</td>\n",
       "      <td>The Batman</td>\n",
       "      <td>In his second year of fighting crime, Batman u...</td>\n",
       "      <td>63.786</td>\n",
       "      <td>1151</td>\n",
       "      <td>High</td>\n",
       "      <td>Crime</td>\n",
       "    </tr>\n",
       "    <tr>\n",
       "      <th>4</th>\n",
       "      <td>2022</td>\n",
       "      <td>The Batman</td>\n",
       "      <td>In his second year of fighting crime, Batman u...</td>\n",
       "      <td>63.786</td>\n",
       "      <td>1151</td>\n",
       "      <td>High</td>\n",
       "      <td>Mystery</td>\n",
       "    </tr>\n",
       "  </tbody>\n",
       "</table>\n",
       "</div>"
      ],
      "text/plain": [
       "   Release_Date                    Title  \\\n",
       "0          2021  Spider-Man: No Way Home   \n",
       "1          2021  Spider-Man: No Way Home   \n",
       "2          2021  Spider-Man: No Way Home   \n",
       "3          2022               The Batman   \n",
       "4          2022               The Batman   \n",
       "\n",
       "                                            Overview  Popularity  Vote_Count  \\\n",
       "0  Peter Parker is unmasked and no longer able to...      63.786        3221   \n",
       "1  Peter Parker is unmasked and no longer able to...      63.786        3221   \n",
       "2  Peter Parker is unmasked and no longer able to...      63.786        3221   \n",
       "3  In his second year of fighting crime, Batman u...      63.786        1151   \n",
       "4  In his second year of fighting crime, Batman u...      63.786        1151   \n",
       "\n",
       "  Vote_Average            Genre  \n",
       "0         High           Action  \n",
       "1         High        Adventure  \n",
       "2         High  Science Fiction  \n",
       "3         High            Crime  \n",
       "4         High          Mystery  "
      ]
     },
     "execution_count": 64,
     "metadata": {},
     "output_type": "execute_result"
    }
   ],
   "source": [
    "df.head()"
   ]
  },
  {
   "cell_type": "code",
   "execution_count": 65,
   "id": "6573e6c2-8306-4a2b-a5b9-ec3d7c7d28a0",
   "metadata": {},
   "outputs": [
    {
     "data": {
      "text/plain": [
       "count     25793\n",
       "unique       19\n",
       "top       Drama\n",
       "freq       3744\n",
       "Name: Genre, dtype: object"
      ]
     },
     "execution_count": 65,
     "metadata": {},
     "output_type": "execute_result"
    }
   ],
   "source": [
    "df['Genre'].describe()"
   ]
  },
  {
   "cell_type": "code",
   "execution_count": 66,
   "id": "233edfd5-149f-44df-a3bf-74aa0b1cbb64",
   "metadata": {},
   "outputs": [
    {
     "data": {
      "text/plain": [
       "Index(['Drama', 'Comedy', 'Action', 'Thriller', 'Adventure', 'Romance',\n",
       "       'Horror', 'Animation', 'Family', 'Fantasy', 'Science Fiction', 'Crime',\n",
       "       'Mystery', 'History', 'War', 'Music', 'Documentary', 'TV Movie',\n",
       "       'Western'],\n",
       "      dtype='object', name='Genre')"
      ]
     },
     "execution_count": 66,
     "metadata": {},
     "output_type": "execute_result"
    }
   ],
   "source": [
    "df['Genre'].value_counts().index"
   ]
  },
  {
   "cell_type": "code",
   "execution_count": 67,
   "id": "78bbebf0-3c0e-490a-970f-61b5a0e32b9e",
   "metadata": {},
   "outputs": [
    {
     "name": "stdout",
     "output_type": "stream",
     "text": [
      "<class 'pandas.core.frame.DataFrame'>\n",
      "RangeIndex: 25793 entries, 0 to 25792\n",
      "Data columns (total 7 columns):\n",
      " #   Column        Non-Null Count  Dtype   \n",
      "---  ------        --------------  -----   \n",
      " 0   Release_Date  25793 non-null  int32   \n",
      " 1   Title         25793 non-null  object  \n",
      " 2   Overview      25793 non-null  object  \n",
      " 3   Popularity    25793 non-null  float64 \n",
      " 4   Vote_Count    25793 non-null  int64   \n",
      " 5   Vote_Average  25793 non-null  category\n",
      " 6   Genre         25793 non-null  object  \n",
      "dtypes: category(1), float64(1), int32(1), int64(1), object(3)\n",
      "memory usage: 1.1+ MB\n"
     ]
    }
   ],
   "source": [
    "df.info()"
   ]
  },
  {
   "cell_type": "code",
   "execution_count": 68,
   "id": "b7659f26-7de1-47c1-849c-ac4d7d35e8e2",
   "metadata": {},
   "outputs": [],
   "source": [
    "df['Genre'] = df['Genre'].astype('category')"
   ]
  },
  {
   "cell_type": "code",
   "execution_count": 69,
   "id": "23fe251a-6ba9-45e5-b64e-8af52f1ec348",
   "metadata": {},
   "outputs": [
    {
     "name": "stdout",
     "output_type": "stream",
     "text": [
      "<class 'pandas.core.frame.DataFrame'>\n",
      "RangeIndex: 25793 entries, 0 to 25792\n",
      "Data columns (total 7 columns):\n",
      " #   Column        Non-Null Count  Dtype   \n",
      "---  ------        --------------  -----   \n",
      " 0   Release_Date  25793 non-null  int32   \n",
      " 1   Title         25793 non-null  object  \n",
      " 2   Overview      25793 non-null  object  \n",
      " 3   Popularity    25793 non-null  float64 \n",
      " 4   Vote_Count    25793 non-null  int64   \n",
      " 5   Vote_Average  25793 non-null  category\n",
      " 6   Genre         25793 non-null  category\n",
      "dtypes: category(2), float64(1), int32(1), int64(1), object(2)\n",
      "memory usage: 958.2+ KB\n"
     ]
    }
   ],
   "source": [
    "df.info()"
   ]
  },
  {
   "cell_type": "code",
   "execution_count": 70,
   "id": "cdcc505a-f1c3-4d9c-bc39-1ec4372ee18d",
   "metadata": {},
   "outputs": [
    {
     "data": {
      "text/plain": [
       "Release_Date     102\n",
       "Title           9513\n",
       "Overview        9822\n",
       "Popularity      7120\n",
       "Vote_Count      2215\n",
       "Vote_Average       5\n",
       "Genre             19\n",
       "dtype: int64"
      ]
     },
     "execution_count": 70,
     "metadata": {},
     "output_type": "execute_result"
    }
   ],
   "source": [
    "df.nunique()"
   ]
  },
  {
   "cell_type": "code",
   "execution_count": 71,
   "id": "5fc03a5c-4631-46c2-b157-519c1ee1fb15",
   "metadata": {},
   "outputs": [
    {
     "data": {
      "image/png": "[encoded data removed]",
      "text/plain": [
       "<Figure size 511.111x500 with 1 Axes>"
      ]
     },
     "metadata": {},
     "output_type": "display_data"
    }
   ],
   "source": [
    "sns.catplot(y='Genre', data=df, kind='count', order=df['Genre'].value_counts().index, color='red',)\n",
    "plt.show()"
   ]
  },
  {
   "cell_type": "code",
   "execution_count": 72,
   "id": "35d8caa2-bd0d-4d7f-a763-569337b8c967",
   "metadata": {},
   "outputs": [
    {
     "data": {
      "text/html": [
       "<div>\n",
       "<style scoped>\n",
       "    .dataframe tbody tr th:only-of-type {\n",
       "        vertical-align: middle;\n",
       "    }\n",
       "\n",
       "    .dataframe tbody tr th {\n",
       "        vertical-align: top;\n",
       "    }\n",
       "\n",
       "    .dataframe thead th {\n",
       "        text-align: right;\n",
       "    }\n",
       "</style>\n",
       "<table border=\"1\" class=\"dataframe\">\n",
       "  <thead>\n",
       "    <tr style=\"text-align: right;\">\n",
       "      <th></th>\n",
       "      <th>Release_Date</th>\n",
       "      <th>Title</th>\n",
       "      <th>Overview</th>\n",
       "      <th>Popularity</th>\n",
       "      <th>Vote_Count</th>\n",
       "      <th>Vote_Average</th>\n",
       "      <th>Genre</th>\n",
       "    </tr>\n",
       "  </thead>\n",
       "  <tbody>\n",
       "    <tr>\n",
       "      <th>0</th>\n",
       "      <td>2021</td>\n",
       "      <td>Spider-Man: No Way Home</td>\n",
       "      <td>Peter Parker is unmasked and no longer able to...</td>\n",
       "      <td>63.786</td>\n",
       "      <td>3221</td>\n",
       "      <td>High</td>\n",
       "      <td>Action</td>\n",
       "    </tr>\n",
       "    <tr>\n",
       "      <th>1</th>\n",
       "      <td>2021</td>\n",
       "      <td>Spider-Man: No Way Home</td>\n",
       "      <td>Peter Parker is unmasked and no longer able to...</td>\n",
       "      <td>63.786</td>\n",
       "      <td>3221</td>\n",
       "      <td>High</td>\n",
       "      <td>Adventure</td>\n",
       "    </tr>\n",
       "    <tr>\n",
       "      <th>2</th>\n",
       "      <td>2021</td>\n",
       "      <td>Spider-Man: No Way Home</td>\n",
       "      <td>Peter Parker is unmasked and no longer able to...</td>\n",
       "      <td>63.786</td>\n",
       "      <td>3221</td>\n",
       "      <td>High</td>\n",
       "      <td>Science Fiction</td>\n",
       "    </tr>\n",
       "    <tr>\n",
       "      <th>3</th>\n",
       "      <td>2022</td>\n",
       "      <td>The Batman</td>\n",
       "      <td>In his second year of fighting crime, Batman u...</td>\n",
       "      <td>63.786</td>\n",
       "      <td>1151</td>\n",
       "      <td>High</td>\n",
       "      <td>Crime</td>\n",
       "    </tr>\n",
       "    <tr>\n",
       "      <th>4</th>\n",
       "      <td>2022</td>\n",
       "      <td>The Batman</td>\n",
       "      <td>In his second year of fighting crime, Batman u...</td>\n",
       "      <td>63.786</td>\n",
       "      <td>1151</td>\n",
       "      <td>High</td>\n",
       "      <td>Mystery</td>\n",
       "    </tr>\n",
       "  </tbody>\n",
       "</table>\n",
       "</div>"
      ],
      "text/plain": [
       "   Release_Date                    Title  \\\n",
       "0          2021  Spider-Man: No Way Home   \n",
       "1          2021  Spider-Man: No Way Home   \n",
       "2          2021  Spider-Man: No Way Home   \n",
       "3          2022               The Batman   \n",
       "4          2022               The Batman   \n",
       "\n",
       "                                            Overview  Popularity  Vote_Count  \\\n",
       "0  Peter Parker is unmasked and no longer able to...      63.786        3221   \n",
       "1  Peter Parker is unmasked and no longer able to...      63.786        3221   \n",
       "2  Peter Parker is unmasked and no longer able to...      63.786        3221   \n",
       "3  In his second year of fighting crime, Batman u...      63.786        1151   \n",
       "4  In his second year of fighting crime, Batman u...      63.786        1151   \n",
       "\n",
       "  Vote_Average            Genre  \n",
       "0         High           Action  \n",
       "1         High        Adventure  \n",
       "2         High  Science Fiction  \n",
       "3         High            Crime  \n",
       "4         High          Mystery  "
      ]
     },
     "execution_count": 72,
     "metadata": {},
     "output_type": "execute_result"
    }
   ],
   "source": [
    "df.head()"
   ]
  },
  {
   "cell_type": "code",
   "execution_count": 73,
   "id": "7abf642a-5172-4614-9540-8b25d5ccebc5",
   "metadata": {},
   "outputs": [
    {
     "data": {
      "text/plain": [
       "count    25793.000000\n",
       "mean       999.418486\n",
       "std       1094.435999\n",
       "min          0.000000\n",
       "25%        166.000000\n",
       "50%        490.000000\n",
       "75%       1501.000000\n",
       "max       3221.000000\n",
       "Name: Vote_Count, dtype: float64"
      ]
     },
     "execution_count": 73,
     "metadata": {},
     "output_type": "execute_result"
    }
   ],
   "source": [
    "df['Vote_Count'].describe()"
   ]
  },
  {
   "cell_type": "code",
   "execution_count": 74,
   "id": "160612ac-b9b8-420f-835e-9000710fd063",
   "metadata": {},
   "outputs": [
    {
     "data": {
      "text/plain": [
       "Index([3221,    0,    4,   10,    5,  120,    2,  117,   82,   95,\n",
       "       ...\n",
       "       1337, 1166, 2603, 1770, 2036, 2834,  771, 2458, 2964, 2874],\n",
       "      dtype='int64', name='Vote_Count', length=2215)"
      ]
     },
     "execution_count": 74,
     "metadata": {},
     "output_type": "execute_result"
    }
   ],
   "source": [
    "df['Vote_Count'].value_counts().index"
   ]
  },
  {
   "cell_type": "code",
   "execution_count": 75,
   "id": "1466a4d2-97e8-4dd4-960c-1cd310c9360b",
   "metadata": {},
   "outputs": [
    {
     "data": {
      "image/png": "[encoded data removed]",
      "text/plain": [
       "<Figure size 640x480 with 1 Axes>"
      ]
     },
     "metadata": {},
     "output_type": "display_data"
    }
   ],
   "source": [
    "sns.histplot(df['Vote_Count'], kde=False, color='red', bins=30)\n",
    "plt.title(\"Distribution of Vote_Count\")\n",
    "plt.show()"
   ]
  },
  {
   "cell_type": "code",
   "execution_count": 97,
   "id": "c5146fcf-f751-4ae2-829e-b2b6b3868926",
   "metadata": {},
   "outputs": [
    {
     "name": "stdout",
     "output_type": "stream",
     "text": [
      "Index([3221, 0, 4, 10, 5, 120, 2, 117, 82, 95], dtype='int64', name='Vote_Count')\n",
      "[3270  241   69   64   62   61   61   60   58   58]\n"
     ]
    },
    {
     "data": {
      "image/png": "[encoded data removed]",
      "text/plain": [
       "<Figure size 511.111x500 with 1 Axes>"
      ]
     },
     "metadata": {},
     "output_type": "display_data"
    }
   ],
   "source": [
    "top_counts = df['Vote_Count'].value_counts().head(10)\n",
    "print(top_counts.index)\n",
    "print(top_counts.values)\n",
    "sns.catplot(y=top_counts.values, x = top_counts.index,kind=\"bar\", color='red')\n",
    "plt.xlabel(\"Frequency\")\n",
    "plt.ylabel(top_counts.index.name) \n",
    "plt.show()"
   ]
  },
  {
   "cell_type": "code",
   "execution_count": 77,
   "id": "7cf9e265-279b-4f26-9388-3bc848bbd422",
   "metadata": {},
   "outputs": [
    {
     "data": {
      "text/plain": [
       "count     25793\n",
       "unique        5\n",
       "top         Low\n",
       "freq       9924\n",
       "Name: Vote_Average, dtype: object"
      ]
     },
     "execution_count": 77,
     "metadata": {},
     "output_type": "execute_result"
    }
   ],
   "source": [
    "df['Vote_Average'].describe()"
   ]
  },
  {
   "cell_type": "code",
   "execution_count": 78,
   "id": "ef962a4f-36c1-40b2-a617-f85920f5e2e6",
   "metadata": {},
   "outputs": [
    {
     "data": {
      "text/plain": [
       "Vote_Average\n",
       "Low         9924\n",
       "Medium      7518\n",
       "Very Low    5638\n",
       "least       1602\n",
       "High        1111\n",
       "Name: count, dtype: int64"
      ]
     },
     "execution_count": 78,
     "metadata": {},
     "output_type": "execute_result"
    }
   ],
   "source": [
    "df['Vote_Average'].value_counts()"
   ]
  },
  {
   "cell_type": "code",
   "execution_count": 79,
   "id": "74ee847b-7534-41f4-880c-840d06aae2ec",
   "metadata": {},
   "outputs": [
    {
     "data": {
      "text/plain": [
       "CategoricalIndex(['Low', 'Medium', 'Very Low', 'least', 'High'], categories=['least', 'Very Low', 'Low', 'Medium', 'High'], ordered=True, dtype='category', name='Vote_Average')"
      ]
     },
     "execution_count": 79,
     "metadata": {},
     "output_type": "execute_result"
    }
   ],
   "source": [
    "df['Vote_Average'].value_counts().index"
   ]
  },
  {
   "cell_type": "code",
   "execution_count": 80,
   "id": "042894e1-109a-410b-ad17-ceaa81bdb5e7",
   "metadata": {},
   "outputs": [
    {
     "data": {
      "image/png": "[encoded data removed]",
      "text/plain": [
       "<Figure size 511.111x500 with 1 Axes>"
      ]
     },
     "metadata": {},
     "output_type": "display_data"
    }
   ],
   "source": [
    "sns.catplot(y='Vote_Average', data=df, kind='count', order=df['Vote_Average'].value_counts().index, color='red')\n",
    "plt.xlabel(\"Frequency\")\n",
    "plt.ylabel('Value') \n",
    "plt.show()"
   ]
  },
  {
   "cell_type": "code",
   "execution_count": 81,
   "id": "6934f74c-d8cd-4e56-802c-12eb8a7682ab",
   "metadata": {},
   "outputs": [
    {
     "data": {
      "text/html": [
       "<div>\n",
       "<style scoped>\n",
       "    .dataframe tbody tr th:only-of-type {\n",
       "        vertical-align: middle;\n",
       "    }\n",
       "\n",
       "    .dataframe tbody tr th {\n",
       "        vertical-align: top;\n",
       "    }\n",
       "\n",
       "    .dataframe thead th {\n",
       "        text-align: right;\n",
       "    }\n",
       "</style>\n",
       "<table border=\"1\" class=\"dataframe\">\n",
       "  <thead>\n",
       "    <tr style=\"text-align: right;\">\n",
       "      <th></th>\n",
       "      <th>Release_Date</th>\n",
       "      <th>Title</th>\n",
       "      <th>Overview</th>\n",
       "      <th>Popularity</th>\n",
       "      <th>Vote_Count</th>\n",
       "      <th>Vote_Average</th>\n",
       "      <th>Genre</th>\n",
       "    </tr>\n",
       "  </thead>\n",
       "  <tbody>\n",
       "    <tr>\n",
       "      <th>0</th>\n",
       "      <td>2021</td>\n",
       "      <td>Spider-Man: No Way Home</td>\n",
       "      <td>Peter Parker is unmasked and no longer able to...</td>\n",
       "      <td>63.786</td>\n",
       "      <td>3221</td>\n",
       "      <td>High</td>\n",
       "      <td>Action</td>\n",
       "    </tr>\n",
       "    <tr>\n",
       "      <th>1</th>\n",
       "      <td>2021</td>\n",
       "      <td>Spider-Man: No Way Home</td>\n",
       "      <td>Peter Parker is unmasked and no longer able to...</td>\n",
       "      <td>63.786</td>\n",
       "      <td>3221</td>\n",
       "      <td>High</td>\n",
       "      <td>Adventure</td>\n",
       "    </tr>\n",
       "    <tr>\n",
       "      <th>2</th>\n",
       "      <td>2021</td>\n",
       "      <td>Spider-Man: No Way Home</td>\n",
       "      <td>Peter Parker is unmasked and no longer able to...</td>\n",
       "      <td>63.786</td>\n",
       "      <td>3221</td>\n",
       "      <td>High</td>\n",
       "      <td>Science Fiction</td>\n",
       "    </tr>\n",
       "    <tr>\n",
       "      <th>3</th>\n",
       "      <td>2022</td>\n",
       "      <td>The Batman</td>\n",
       "      <td>In his second year of fighting crime, Batman u...</td>\n",
       "      <td>63.786</td>\n",
       "      <td>1151</td>\n",
       "      <td>High</td>\n",
       "      <td>Crime</td>\n",
       "    </tr>\n",
       "    <tr>\n",
       "      <th>4</th>\n",
       "      <td>2022</td>\n",
       "      <td>The Batman</td>\n",
       "      <td>In his second year of fighting crime, Batman u...</td>\n",
       "      <td>63.786</td>\n",
       "      <td>1151</td>\n",
       "      <td>High</td>\n",
       "      <td>Mystery</td>\n",
       "    </tr>\n",
       "    <tr>\n",
       "      <th>...</th>\n",
       "      <td>...</td>\n",
       "      <td>...</td>\n",
       "      <td>...</td>\n",
       "      <td>...</td>\n",
       "      <td>...</td>\n",
       "      <td>...</td>\n",
       "      <td>...</td>\n",
       "    </tr>\n",
       "    <tr>\n",
       "      <th>2978</th>\n",
       "      <td>2004</td>\n",
       "      <td>Saw</td>\n",
       "      <td>Obsessed with teaching his victims the value o...</td>\n",
       "      <td>63.786</td>\n",
       "      <td>3221</td>\n",
       "      <td>Medium</td>\n",
       "      <td>Crime</td>\n",
       "    </tr>\n",
       "    <tr>\n",
       "      <th>2979</th>\n",
       "      <td>2012</td>\n",
       "      <td>Secret of the Wings</td>\n",
       "      <td>Tinkerbell wanders into the forbidden Winter w...</td>\n",
       "      <td>63.786</td>\n",
       "      <td>928</td>\n",
       "      <td>Medium</td>\n",
       "      <td>Animation</td>\n",
       "    </tr>\n",
       "    <tr>\n",
       "      <th>2980</th>\n",
       "      <td>2012</td>\n",
       "      <td>Secret of the Wings</td>\n",
       "      <td>Tinkerbell wanders into the forbidden Winter w...</td>\n",
       "      <td>63.786</td>\n",
       "      <td>928</td>\n",
       "      <td>Medium</td>\n",
       "      <td>Family</td>\n",
       "    </tr>\n",
       "    <tr>\n",
       "      <th>2981</th>\n",
       "      <td>2012</td>\n",
       "      <td>Secret of the Wings</td>\n",
       "      <td>Tinkerbell wanders into the forbidden Winter w...</td>\n",
       "      <td>63.786</td>\n",
       "      <td>928</td>\n",
       "      <td>Medium</td>\n",
       "      <td>Fantasy</td>\n",
       "    </tr>\n",
       "    <tr>\n",
       "      <th>2982</th>\n",
       "      <td>2012</td>\n",
       "      <td>Secret of the Wings</td>\n",
       "      <td>Tinkerbell wanders into the forbidden Winter w...</td>\n",
       "      <td>63.786</td>\n",
       "      <td>928</td>\n",
       "      <td>Medium</td>\n",
       "      <td>Adventure</td>\n",
       "    </tr>\n",
       "  </tbody>\n",
       "</table>\n",
       "<p>2983 rows × 7 columns</p>\n",
       "</div>"
      ],
      "text/plain": [
       "      Release_Date                    Title  \\\n",
       "0             2021  Spider-Man: No Way Home   \n",
       "1             2021  Spider-Man: No Way Home   \n",
       "2             2021  Spider-Man: No Way Home   \n",
       "3             2022               The Batman   \n",
       "4             2022               The Batman   \n",
       "...            ...                      ...   \n",
       "2978          2004                      Saw   \n",
       "2979          2012      Secret of the Wings   \n",
       "2980          2012      Secret of the Wings   \n",
       "2981          2012      Secret of the Wings   \n",
       "2982          2012      Secret of the Wings   \n",
       "\n",
       "                                               Overview  Popularity  \\\n",
       "0     Peter Parker is unmasked and no longer able to...      63.786   \n",
       "1     Peter Parker is unmasked and no longer able to...      63.786   \n",
       "2     Peter Parker is unmasked and no longer able to...      63.786   \n",
       "3     In his second year of fighting crime, Batman u...      63.786   \n",
       "4     In his second year of fighting crime, Batman u...      63.786   \n",
       "...                                                 ...         ...   \n",
       "2978  Obsessed with teaching his victims the value o...      63.786   \n",
       "2979  Tinkerbell wanders into the forbidden Winter w...      63.786   \n",
       "2980  Tinkerbell wanders into the forbidden Winter w...      63.786   \n",
       "2981  Tinkerbell wanders into the forbidden Winter w...      63.786   \n",
       "2982  Tinkerbell wanders into the forbidden Winter w...      63.786   \n",
       "\n",
       "      Vote_Count Vote_Average            Genre  \n",
       "0           3221         High           Action  \n",
       "1           3221         High        Adventure  \n",
       "2           3221         High  Science Fiction  \n",
       "3           1151         High            Crime  \n",
       "4           1151         High          Mystery  \n",
       "...          ...          ...              ...  \n",
       "2978        3221       Medium            Crime  \n",
       "2979         928       Medium        Animation  \n",
       "2980         928       Medium           Family  \n",
       "2981         928       Medium          Fantasy  \n",
       "2982         928       Medium        Adventure  \n",
       "\n",
       "[2983 rows x 7 columns]"
      ]
     },
     "execution_count": 81,
     "metadata": {},
     "output_type": "execute_result"
    }
   ],
   "source": [
    "df[df['Popularity']==df['Popularity'].max()]"
   ]
  },
  {
   "cell_type": "code",
   "execution_count": 82,
   "id": "7efc46b3-243d-41c0-b47e-4620ec7df926",
   "metadata": {},
   "outputs": [
    {
     "data": {
      "text/html": [
       "<div>\n",
       "<style scoped>\n",
       "    .dataframe tbody tr th:only-of-type {\n",
       "        vertical-align: middle;\n",
       "    }\n",
       "\n",
       "    .dataframe tbody tr th {\n",
       "        vertical-align: top;\n",
       "    }\n",
       "\n",
       "    .dataframe thead th {\n",
       "        text-align: right;\n",
       "    }\n",
       "</style>\n",
       "<table border=\"1\" class=\"dataframe\">\n",
       "  <thead>\n",
       "    <tr style=\"text-align: right;\">\n",
       "      <th></th>\n",
       "      <th>Release_Date</th>\n",
       "      <th>Title</th>\n",
       "      <th>Overview</th>\n",
       "      <th>Popularity</th>\n",
       "      <th>Vote_Count</th>\n",
       "      <th>Vote_Average</th>\n",
       "      <th>Genre</th>\n",
       "    </tr>\n",
       "  </thead>\n",
       "  <tbody>\n",
       "    <tr>\n",
       "      <th>25787</th>\n",
       "      <td>2021</td>\n",
       "      <td>The United States vs. Billie Holiday</td>\n",
       "      <td>Billie Holiday spent much of her career being ...</td>\n",
       "      <td>13.354</td>\n",
       "      <td>152</td>\n",
       "      <td>Low</td>\n",
       "      <td>Music</td>\n",
       "    </tr>\n",
       "    <tr>\n",
       "      <th>25788</th>\n",
       "      <td>2021</td>\n",
       "      <td>The United States vs. Billie Holiday</td>\n",
       "      <td>Billie Holiday spent much of her career being ...</td>\n",
       "      <td>13.354</td>\n",
       "      <td>152</td>\n",
       "      <td>Low</td>\n",
       "      <td>Drama</td>\n",
       "    </tr>\n",
       "    <tr>\n",
       "      <th>25789</th>\n",
       "      <td>2021</td>\n",
       "      <td>The United States vs. Billie Holiday</td>\n",
       "      <td>Billie Holiday spent much of her career being ...</td>\n",
       "      <td>13.354</td>\n",
       "      <td>152</td>\n",
       "      <td>Low</td>\n",
       "      <td>History</td>\n",
       "    </tr>\n",
       "    <tr>\n",
       "      <th>25790</th>\n",
       "      <td>1984</td>\n",
       "      <td>Threads</td>\n",
       "      <td>Documentary style account of a nuclear holocau...</td>\n",
       "      <td>13.354</td>\n",
       "      <td>186</td>\n",
       "      <td>Medium</td>\n",
       "      <td>War</td>\n",
       "    </tr>\n",
       "    <tr>\n",
       "      <th>25791</th>\n",
       "      <td>1984</td>\n",
       "      <td>Threads</td>\n",
       "      <td>Documentary style account of a nuclear holocau...</td>\n",
       "      <td>13.354</td>\n",
       "      <td>186</td>\n",
       "      <td>Medium</td>\n",
       "      <td>Drama</td>\n",
       "    </tr>\n",
       "    <tr>\n",
       "      <th>25792</th>\n",
       "      <td>1984</td>\n",
       "      <td>Threads</td>\n",
       "      <td>Documentary style account of a nuclear holocau...</td>\n",
       "      <td>13.354</td>\n",
       "      <td>186</td>\n",
       "      <td>Medium</td>\n",
       "      <td>Science Fiction</td>\n",
       "    </tr>\n",
       "  </tbody>\n",
       "</table>\n",
       "</div>"
      ],
      "text/plain": [
       "       Release_Date                                 Title  \\\n",
       "25787          2021  The United States vs. Billie Holiday   \n",
       "25788          2021  The United States vs. Billie Holiday   \n",
       "25789          2021  The United States vs. Billie Holiday   \n",
       "25790          1984                               Threads   \n",
       "25791          1984                               Threads   \n",
       "25792          1984                               Threads   \n",
       "\n",
       "                                                Overview  Popularity  \\\n",
       "25787  Billie Holiday spent much of her career being ...      13.354   \n",
       "25788  Billie Holiday spent much of her career being ...      13.354   \n",
       "25789  Billie Holiday spent much of her career being ...      13.354   \n",
       "25790  Documentary style account of a nuclear holocau...      13.354   \n",
       "25791  Documentary style account of a nuclear holocau...      13.354   \n",
       "25792  Documentary style account of a nuclear holocau...      13.354   \n",
       "\n",
       "       Vote_Count Vote_Average            Genre  \n",
       "25787         152          Low            Music  \n",
       "25788         152          Low            Drama  \n",
       "25789         152          Low          History  \n",
       "25790         186       Medium              War  \n",
       "25791         186       Medium            Drama  \n",
       "25792         186       Medium  Science Fiction  "
      ]
     },
     "execution_count": 82,
     "metadata": {},
     "output_type": "execute_result"
    }
   ],
   "source": [
    "df[df['Popularity']==df['Popularity'].min()]"
   ]
  },
  {
   "cell_type": "code",
   "execution_count": 83,
   "id": "03c662e5-3f11-4cb3-99b5-02d1b83e6d46",
   "metadata": {},
   "outputs": [
    {
     "data": {
      "text/html": [
       "<div>\n",
       "<style scoped>\n",
       "    .dataframe tbody tr th:only-of-type {\n",
       "        vertical-align: middle;\n",
       "    }\n",
       "\n",
       "    .dataframe tbody tr th {\n",
       "        vertical-align: top;\n",
       "    }\n",
       "\n",
       "    .dataframe thead th {\n",
       "        text-align: right;\n",
       "    }\n",
       "</style>\n",
       "<table border=\"1\" class=\"dataframe\">\n",
       "  <thead>\n",
       "    <tr style=\"text-align: right;\">\n",
       "      <th></th>\n",
       "      <th>Title</th>\n",
       "      <th>Overview</th>\n",
       "      <th>Genre</th>\n",
       "    </tr>\n",
       "  </thead>\n",
       "  <tbody>\n",
       "    <tr>\n",
       "      <th>0</th>\n",
       "      <td>Spider-Man: No Way Home</td>\n",
       "      <td>Peter Parker is unmasked and no longer able to...</td>\n",
       "      <td>Action</td>\n",
       "    </tr>\n",
       "    <tr>\n",
       "      <th>1</th>\n",
       "      <td>Spider-Man: No Way Home</td>\n",
       "      <td>Peter Parker is unmasked and no longer able to...</td>\n",
       "      <td>Adventure</td>\n",
       "    </tr>\n",
       "    <tr>\n",
       "      <th>2</th>\n",
       "      <td>Spider-Man: No Way Home</td>\n",
       "      <td>Peter Parker is unmasked and no longer able to...</td>\n",
       "      <td>Science Fiction</td>\n",
       "    </tr>\n",
       "    <tr>\n",
       "      <th>3</th>\n",
       "      <td>The Batman</td>\n",
       "      <td>In his second year of fighting crime, Batman u...</td>\n",
       "      <td>Crime</td>\n",
       "    </tr>\n",
       "    <tr>\n",
       "      <th>4</th>\n",
       "      <td>The Batman</td>\n",
       "      <td>In his second year of fighting crime, Batman u...</td>\n",
       "      <td>Mystery</td>\n",
       "    </tr>\n",
       "    <tr>\n",
       "      <th>...</th>\n",
       "      <td>...</td>\n",
       "      <td>...</td>\n",
       "      <td>...</td>\n",
       "    </tr>\n",
       "    <tr>\n",
       "      <th>2978</th>\n",
       "      <td>Saw</td>\n",
       "      <td>Obsessed with teaching his victims the value o...</td>\n",
       "      <td>Crime</td>\n",
       "    </tr>\n",
       "    <tr>\n",
       "      <th>2979</th>\n",
       "      <td>Secret of the Wings</td>\n",
       "      <td>Tinkerbell wanders into the forbidden Winter w...</td>\n",
       "      <td>Animation</td>\n",
       "    </tr>\n",
       "    <tr>\n",
       "      <th>2980</th>\n",
       "      <td>Secret of the Wings</td>\n",
       "      <td>Tinkerbell wanders into the forbidden Winter w...</td>\n",
       "      <td>Family</td>\n",
       "    </tr>\n",
       "    <tr>\n",
       "      <th>2981</th>\n",
       "      <td>Secret of the Wings</td>\n",
       "      <td>Tinkerbell wanders into the forbidden Winter w...</td>\n",
       "      <td>Fantasy</td>\n",
       "    </tr>\n",
       "    <tr>\n",
       "      <th>2982</th>\n",
       "      <td>Secret of the Wings</td>\n",
       "      <td>Tinkerbell wanders into the forbidden Winter w...</td>\n",
       "      <td>Adventure</td>\n",
       "    </tr>\n",
       "  </tbody>\n",
       "</table>\n",
       "<p>2983 rows × 3 columns</p>\n",
       "</div>"
      ],
      "text/plain": [
       "                        Title  \\\n",
       "0     Spider-Man: No Way Home   \n",
       "1     Spider-Man: No Way Home   \n",
       "2     Spider-Man: No Way Home   \n",
       "3                  The Batman   \n",
       "4                  The Batman   \n",
       "...                       ...   \n",
       "2978                      Saw   \n",
       "2979      Secret of the Wings   \n",
       "2980      Secret of the Wings   \n",
       "2981      Secret of the Wings   \n",
       "2982      Secret of the Wings   \n",
       "\n",
       "                                               Overview            Genre  \n",
       "0     Peter Parker is unmasked and no longer able to...           Action  \n",
       "1     Peter Parker is unmasked and no longer able to...        Adventure  \n",
       "2     Peter Parker is unmasked and no longer able to...  Science Fiction  \n",
       "3     In his second year of fighting crime, Batman u...            Crime  \n",
       "4     In his second year of fighting crime, Batman u...          Mystery  \n",
       "...                                                 ...              ...  \n",
       "2978  Obsessed with teaching his victims the value o...            Crime  \n",
       "2979  Tinkerbell wanders into the forbidden Winter w...        Animation  \n",
       "2980  Tinkerbell wanders into the forbidden Winter w...           Family  \n",
       "2981  Tinkerbell wanders into the forbidden Winter w...          Fantasy  \n",
       "2982  Tinkerbell wanders into the forbidden Winter w...        Adventure  \n",
       "\n",
       "[2983 rows x 3 columns]"
      ]
     },
     "execution_count": 83,
     "metadata": {},
     "output_type": "execute_result"
    }
   ],
   "source": [
    "df[df['Popularity']==df['Popularity'].max()][['Title','Overview','Genre']]"
   ]
  },
  {
   "cell_type": "code",
   "execution_count": 85,
   "id": "70847a51-b9c3-4371-bb57-09e0de894858",
   "metadata": {},
   "outputs": [
    {
     "data": {
      "text/plain": [
       "array([2021, 2022, 2020, 1986, 2018, 1989, 2012, 2009, 2005, 2019, 2014,\n",
       "       2016, 2001, 2015, 2002, 2017, 2011, 2007, 2004, 2010, 1972, 2023,\n",
       "       2008, 1995, 1994, 1992, 2013, 2003, 2006, 1999, 1993, 1985, 1998,\n",
       "       1950, 1997, 2000, 1991, 1937, 1990, 1977, 1940, 1981, 1942, 1973,\n",
       "       1941, 1974, 1951, 1996, 1959, 1961, 1967, 1953, 1988, 1956, 1983,\n",
       "       1976, 1955, 1970, 1984, 1971, 1987, 1963, 1980, 1939, 1975, 1979,\n",
       "       1982, 1966, 1978, 1965, 1946, 1964, 1968, 1962, 1960, 1957, 1949,\n",
       "       1922, 2024, 1969, 1954, 1933, 1932, 1958, 1952, 1944, 1931, 1948,\n",
       "       1938, 1945, 1927, 1925, 1935, 1936, 1902, 1920, 1947, 1943, 1929,\n",
       "       1926, 1921, 1930], dtype=int32)"
      ]
     },
     "execution_count": 85,
     "metadata": {},
     "output_type": "execute_result"
    }
   ],
   "source": [
    "df['Release_Date'].unique()"
   ]
  },
  {
   "cell_type": "code",
   "execution_count": 86,
   "id": "87d8c9ea-993c-4344-8e95-2acf94acaee4",
   "metadata": {},
   "outputs": [
    {
     "data": {
      "text/plain": [
       "Release_Date\n",
       "2021    1638\n",
       "2018    1387\n",
       "2017    1365\n",
       "2019    1272\n",
       "2016    1212\n",
       "        ... \n",
       "2024       4\n",
       "1902       3\n",
       "1925       2\n",
       "1929       2\n",
       "1930       2\n",
       "Name: count, Length: 102, dtype: int64"
      ]
     },
     "execution_count": 86,
     "metadata": {},
     "output_type": "execute_result"
    }
   ],
   "source": [
    "df['Release_Date'].value_counts()"
   ]
  },
  {
   "cell_type": "code",
   "execution_count": 87,
   "id": "8d561bcd-e769-40c6-95d9-f13f657f5b7e",
   "metadata": {},
   "outputs": [
    {
     "data": {
      "text/plain": [
       "<Axes: >"
      ]
     },
     "execution_count": 87,
     "metadata": {},
     "output_type": "execute_result"
    },
    {
     "data": {
      "image/png": "[encoded data removed]",
      "text/plain": [
       "<Figure size 640x480 with 1 Axes>"
      ]
     },
     "metadata": {},
     "output_type": "display_data"
    }
   ],
   "source": [
    "df['Release_Date'].hist()"
   ]
  },
  {
   "cell_type": "code",
   "execution_count": 89,
   "id": "2271aea1-a777-4059-b486-3a2cc082daf1",
   "metadata": {},
   "outputs": [
    {
     "data": {
      "image/png": "[encoded data removed]",
      "text/plain": [
       "<Figure size 511.111x500 with 1 Axes>"
      ]
     },
     "metadata": {},
     "output_type": "display_data"
    }
   ],
   "source": [
    "sns.catplot(y='Release_Date', data = df, kind='count', order=df['Release_Date'].value_counts().index, color='red')\n",
    "plt.show()"
   ]
  },
  {
   "cell_type": "code",
   "execution_count": 96,
   "id": "95cd059a-eced-4d55-97c6-32a365f328cb",
   "metadata": {},
   "outputs": [
    {
     "data": {
      "image/png": "[encoded data removed]",
      "text/plain": [
       "<Figure size 511.111x500 with 1 Axes>"
      ]
     },
     "metadata": {},
     "output_type": "display_data"
    }
   ],
   "source": [
    "val = df['Release_Date'].value_counts().head(10)\n",
    "sns.catplot(y=val.values, x = val.index, kind='bar', color='red')\n",
    "plt.show()"
   ]
  },
  {
   "cell_type": "code",
   "execution_count": null,
   "id": "9495bdeb-91de-4ed9-b4c6-518ed594937d",
   "metadata": {},
   "outputs": [],
   "source": []
  }
 ],
 "metadata": {
  "kernelspec": {
   "display_name": "Python 3 (ipykernel)",
   "language": "python",
   "name": "python3"
  },
  "language_info": {
   "codemirror_mode": {
    "name": "ipython",
    "version": 3
   },
   "file_extension": ".py",
   "mimetype": "text/x-python",
   "name": "python",
   "nbconvert_exporter": "python",
   "pygments_lexer": "ipython3",
   "version": "3.13.5"
  }
 },
 "nbformat": 4,
 "nbformat_minor": 5
}
