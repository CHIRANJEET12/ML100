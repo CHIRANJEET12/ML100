{
 "cells": [
  {
   "cell_type": "code",
   "execution_count": null,
   "id": "cb9f9562-54c6-41b9-a08e-d6112caa36ad",
   "metadata": {},
   "outputs": [],
   "source": [
    "import pandas as pd\n",
    "import requests\n",
    "from bs4 import BeautifulSoup"
   ]
  },
  {
   "cell_type": "code",
   "execution_count": null,
   "id": "a1bc197d-6b70-4334-b2c1-d47e76bf7712",
   "metadata": {},
   "outputs": [],
   "source": [
    "headers = {\n",
    "    'User-Agent': 'Mozilla/5.0 (Windows NT 10.0; Win64; x64) ' \n",
    "                  'AppleWebKit/537.36 (KHTML, like Gecko) '\n",
    "                  'Chrome/115.0.0.0 Safari/537.36'\n",
    "}\n",
    "url = 'https://www.ambitionbox.com/list-of-companies?campaign=desktop_nav&page=1'\n",
    "req = requests.get(url,headers=headers,timeout=10).text\n",
    "res = requests.get(url, headers=headers, timeout=10)\n",
    "print(req)"
   ]
  },
  {
   "cell_type": "code",
   "execution_count": null,
   "id": "6f6a15ee-b7bf-461a-b369-116d1056e4c7",
   "metadata": {},
   "outputs": [],
   "source": [
    "soup = BeautifulSoup(req,'lxml')"
   ]
  },
  {
   "cell_type": "code",
   "execution_count": null,
   "id": "60257066-3a8a-4b66-b6b6-f7cd9206fbe5",
   "metadata": {},
   "outputs": [],
   "source": [
    "print(soup.prettify())"
   ]
  },
  {
   "cell_type": "code",
   "execution_count": null,
   "id": "bb9465ef-a39e-4a33-8421-60ef7ad21d65",
   "metadata": {},
   "outputs": [],
   "source": [
    "soup.find_all('h1')[0].text"
   ]
  },
  {
   "cell_type": "markdown",
   "id": "97f489da-ea20-45db-9048-a2a3d6c5f5ec",
   "metadata": {},
   "source": [
    "# TO FIND OUT NAMES OF THE COMPANIES"
   ]
  },
  {
   "cell_type": "code",
   "execution_count": null,
   "id": "69eaaca7-cfa6-4ff8-93d0-0698fe4f486e",
   "metadata": {},
   "outputs": [],
   "source": [
    "for i in soup.find_all('h2'):\n",
    "    print(i.text.strip())"
   ]
  },
  {
   "cell_type": "code",
   "execution_count": null,
   "id": "f2f49158-43c0-4bf4-94fd-dbeed6a6c373",
   "metadata": {},
   "outputs": [],
   "source": [
    "for i in soup.find_all('p'):\n",
    "  print(i.text.strip())"
   ]
  },
  {
   "cell_type": "code",
   "execution_count": null,
   "id": "514e6d9c-d4e9-452b-b7ac-c3f30d0eb0ca",
   "metadata": {},
   "outputs": [],
   "source": [
    "len(soup.find_all('p',class_='rating'))"
   ]
  },
  {
   "cell_type": "code",
   "execution_count": null,
   "id": "04d54bb8-806e-46a8-8b86-bf62a7da4e24",
   "metadata": {},
   "outputs": [],
   "source": [
    "len(soup.find_all('a' , class_='review-count'))"
   ]
  },
  {
   "cell_type": "code",
   "execution_count": null,
   "id": "b0924dd6-5e4b-456a-99e8-b0a43f7b1bb8",
   "metadata": {},
   "outputs": [],
   "source": [
    "company=soup.find_all('div',class_='company-content-wrapper')"
   ]
  },
  {
   "cell_type": "code",
   "execution_count": null,
   "id": "73e28719-e79a-4de5-8b37-91524dedff6f",
   "metadata": {},
   "outputs": [],
   "source": [
    "len(company)"
   ]
  },
  {
   "cell_type": "code",
   "execution_count": null,
   "id": "d72713a8-0c38-4d24-80f9-a12d837815ff",
   "metadata": {},
   "outputs": [],
   "source": [
    "name=[]\n",
    "rating=[]\n",
    "reviews=[]\n",
    "ctype=[]\n",
    "hq=[]\n",
    "how_old=[]\n",
    "no_of_employee=[]\n",
    "\n",
    "\n",
    "for i in company:\n",
    "    name.append(i.find('h2').text.strip())\n",
    "    rating.append(i.find('p',class_='rating').text.strip())\n",
    "    reviews.append(i.find('a' , class_='review-count').text.strip())\n",
    "    ctype.append(i.find_all('p',class_='infoEntity')[0].text.strip())\n",
    "    hq.append(i.find_all('p',class_='infoEntity')[1].text.strip())\n",
    "    how_old.append(i.find_all('p',class_='infoEntity')[2].text.strip())\n",
    "    no_of_employee.append(i.find_all('p',class_='infoEntity')[3].text.strip())\n",
    "\n",
    "df = pd.DataFrame({\n",
    "    'name':name,\n",
    "    'rating':rating,\n",
    "    'reviews':reviews,\n",
    "    'company_type':ctype,\n",
    "    'Head_Quarters':hq,\n",
    "    'Company_Age':how_old,\n",
    "    'No_of_Employee':no_of_employee,\n",
    "})"
   ]
  },
  {
   "cell_type": "code",
   "execution_count": null,
   "id": "fe5f9d95-b0c9-40d4-9f7d-71d1450f9452",
   "metadata": {},
   "outputs": [],
   "source": [
    "df.shape"
   ]
  },
  {
   "cell_type": "code",
   "execution_count": null,
   "id": "96cbed88-daa4-4de1-b572-3256ca98af66",
   "metadata": {},
   "outputs": [],
   "source": [
    "final=pd.DataFrame()\n",
    "\n",
    "for j in in range(1,1001):\n",
    "    webpage=requests.get('https://www.ambitionbox.com/list-of-companies?page={}'.format(j)).text\n",
    "    soup=BeautifulSoup(webpage,'lxml')\n",
    "    company=soup.find_all('div',class_='company-content-wrapper')\n",
    "    name=[]\n",
    "    rating=[]\n",
    "    reviews=[]\n",
    "    ctype=[]\n",
    "    hq=[]\n",
    "    how_old=[]\n",
    "    no_of_employee=[]\n",
    "    for i in company:\n",
    "        try:\n",
    "            name.append(i.find('h2').text.strip())\n",
    "        except:\n",
    "            name.append(np.nan)\n",
    "        try:\n",
    "           rating.append(i.find('p',class_='rating').text.strip())\n",
    "        except:\n",
    "           rating.append(np.nan)\n",
    "       \n",
    "        try:\n",
    "    \n",
    "          reviews.append(i.find('a' , class_='review-count').text.strip())\n",
    "        except:\n",
    "          reviews.append(np.nan)\n",
    "    \n",
    "        try:\n",
    "    \n",
    "          ctype.append(i.find_all('p',class_='infoEntity')[0].text.strip())\n",
    "        except:\n",
    "          ctype.append(np.nan)\n",
    "        try:\n",
    "    \n",
    "          hq.append(i.find_all('p',class_='infoEntity')[1].text.strip())\n",
    "        except:\n",
    "          hq.append(np.nan)\n",
    "        \n",
    "        try:\n",
    "    \n",
    "          how_old.append(i.find_all('p',class_='infoEntity')[2].text.strip())\n",
    "        except:\n",
    "          how_old.append(np.nan)\n",
    "        try:\n",
    "          no_of_employee.append(i.find_all('p',class_='infoEntity')[3].text.strip())\n",
    "        except:\n",
    "          no_of_employee.append(np.nan)    \n",
    "            \n",
    "    df=pd.DataFrame({'name':name,\n",
    "    'rating':rating,\n",
    "    'reviews':reviews,\n",
    "    'company_type':ctype,\n",
    "    'Head_Quarters':hq,\n",
    "    'Company_Age':how_old,\n",
    "    'No_of_Employee':no_of_employee,\n",
    "    })\n",
    "    final=final.append(df,ignore_index=True)"
   ]
  },
  {
   "cell_type": "code",
   "execution_count": null,
   "id": "cddaf875-47b5-4b43-890c-fc96fdd6ac82",
   "metadata": {},
   "outputs": [],
   "source": [
    "df.sample(5)"
   ]
  }
 ],
 "metadata": {
  "kernelspec": {
   "display_name": "Python 3 (ipykernel)",
   "language": "python",
   "name": "python3"
  },
  "language_info": {
   "codemirror_mode": {
    "name": "ipython",
    "version": 3
   },
   "file_extension": ".py",
   "mimetype": "text/x-python",
   "name": "python",
   "nbconvert_exporter": "python",
   "pygments_lexer": "ipython3",
   "version": "3.13.5"
  }
 },
 "nbformat": 4,
 "nbformat_minor": 5
}
